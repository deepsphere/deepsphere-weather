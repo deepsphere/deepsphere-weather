{
 "cells": [
  {
   "cell_type": "markdown",
   "metadata": {},
   "source": [
    "# Spherical samplings for weather prediction"
   ]
  },
  {
   "cell_type": "code",
   "execution_count": null,
   "metadata": {},
   "outputs": [],
   "source": [
    "# Cartopy uses deprecated mpl features (MatplotlibDeprecationWarning).\n",
    "import warnings\n",
    "from matplotlib.cbook import MatplotlibDeprecationWarning\n",
    "warnings.simplefilter(\"ignore\", MatplotlibDeprecationWarning)\n",
    "\n",
    "import numpy as np\n",
    "import scipy.spatial\n",
    "from scipy.spatial.distance import pdist, squareform\n",
    "from scipy.spatial import SphericalVoronoi, geometric_slerp\n",
    "import pygsp as pg\n",
    "import healpy as hp\n",
    "from matplotlib import pyplot as plt\n",
    "from mpl_toolkits.mplot3d import proj3d\n",
    "import cartopy.crs as ccrs"
   ]
  },
  {
   "cell_type": "code",
   "execution_count": null,
   "metadata": {},
   "outputs": [],
   "source": [
    "def plot_spherical_graph(graph):\n",
    "    print(graph)\n",
    "    fig = plt.figure(figsize=(17, 5))\n",
    "\n",
    "    ax = fig.add_subplot(1, 3, 1, projection='3d')\n",
    "    graph.set_coordinates('sphere', dim=3)\n",
    "    graph.plot(indices=True, ax=ax, title='3D')\n",
    "    ax.set_xlabel('x')\n",
    "    ax.set_ylabel('y')\n",
    "    ax.set_zlabel('z')\n",
    "\n",
    "    ax = fig.add_subplot(1, 3, 2)\n",
    "    graph.set_coordinates('sphere', dim=2)\n",
    "    graph.plot(indices=True, ax=ax, title='Equirectangular projection')\n",
    "    ax.set_xlabel('longitude [radians]')\n",
    "    ax.set_ylabel('latitude [radians]')\n",
    "\n",
    "    # ax = fig.add_subplot(1, 3, 3, projection='mollweide')\n",
    "    # graph.plot(indices=True, ax=ax, title='Mollweide projection (equi-area)')\n",
    "\n",
    "    crs = ccrs.Mollweide()\n",
    "    ax = fig.add_subplot(1, 3, 3, projection=crs)\n",
    "    ax.coastlines()\n",
    "    ax.set_global()\n",
    "    graph.set_coordinates('sphere', dim=2)\n",
    "    graph.coords *= 180/np.pi\n",
    "    graph.coords = crs.transform_points(ccrs.Geodetic(), *graph.coords.T)[:, :2]\n",
    "    graph.plot(indices=True, ax=ax, title='Mollweide projection')\n",
    "\n",
    "    fig.tight_layout()"
   ]
  },
  {
   "cell_type": "markdown",
   "metadata": {},
   "source": [
    "## 1 Spherical grids\n",
    "\n",
    "The sphere graphs are created with the [PyGSP](https://pygsp.readthedocs.io).\n",
    "If the data is created from another tool, it is important to make sure the vertices/cells are ordered in the same way.\n",
    "An easy way to check is to plot the data on the sampled sphere with `graph.plot(myfield)`."
   ]
  },
  {
   "cell_type": "markdown",
   "metadata": {},
   "source": [
    "### 1.1 Equiangular (Driscoll-Healy, Clenshaw-Curtis)\n",
    "\n",
    "* Resolution parameter: number of isolatitude rings $N_{lat}$ (and pixels per ring, often $N_{lon} = 2 N_{lat}$).\n",
    "* Number of pixels: $N_{pix} = N_{lat} \\times N_{lon}$.\n",
    "* Number of pixels around the equator: $N_{lon}$."
   ]
  },
  {
   "cell_type": "code",
   "execution_count": null,
   "metadata": {},
   "outputs": [],
   "source": [
    "# Illustration.\n",
    "graph = pg.graphs.SphereEquiangular(4, 8, poles=0)\n",
    "#graph = pg.graphs.SphereEquiangular(4, 8, poles=2)\n",
    "plot_spherical_graph(graph)"
   ]
  },
  {
   "cell_type": "markdown",
   "metadata": {},
   "source": [
    "### 1.2 (Reduced) Gauss-Legendre\n",
    "\n",
    "ECMWF: octahedral reduced Gaussian grid, named `O320` for $N=320$.\n",
    "\n",
    "* Resolution parameter: number of isolatitude rings $N_{lat} = 2N$.\n",
    "* Number of pixels: $4N(N+9)$.\n",
    "* Number of pixels around the equator: $4N+16$.\n",
    "\n",
    "References:\n",
    "* <https://confluence.ecmwf.int/display/FCST/Introducing+the+octahedral+reduced+Gaussian+grid>\n",
    "* <https://confluence.ecmwf.int/display/OIFS/4.2+OpenIFS%3A+Octahedral+grid>"
   ]
  },
  {
   "cell_type": "code",
   "execution_count": null,
   "metadata": {},
   "outputs": [],
   "source": [
    "# Illustration.\n",
    "graph = pg.graphs.SphereGaussLegendre(6, nlon='ecmwf-octahedral', k=10)\n",
    "#graph = pg.graphs.SphereGaussLegendre(6, k=8)\n",
    "plot_spherical_graph(graph)"
   ]
  },
  {
   "cell_type": "markdown",
   "metadata": {},
   "source": [
    "### 1.3 HEALPix\n",
    "\n",
    "* Resolution parameter: number of subdivisions $L$ ($N_{side}$).\n",
    "* Number of pixels: $12 L^2$.\n",
    "* Number of pixels around the equator: $4 L$."
   ]
  },
  {
   "cell_type": "code",
   "execution_count": null,
   "metadata": {},
   "outputs": [],
   "source": [
    "# Illustration.\n",
    "graph = pg.graphs.SphereHealpix(2, k=8)\n",
    "#graph = pg.graphs.SphereHealpix(2, k=8, nest=True)\n",
    "plot_spherical_graph(graph)"
   ]
  },
  {
   "cell_type": "code",
   "execution_count": null,
   "metadata": {},
   "outputs": [],
   "source": [
    "# Compare with healpy (geographical vs astrophysical flip).\n",
    "hp.mollview(graph.signals['lon'], flip='geo')"
   ]
  },
  {
   "cell_type": "code",
   "execution_count": null,
   "metadata": {},
   "outputs": [],
   "source": [
    "# Percentage of the sphere attainable by a filter.\n",
    "# The number of neighbors k is proportional to area.\n",
    "kernel_size = 3\n",
    "G = pg.graphs.SphereHealpix(16, k=40)\n",
    "(G.L**(kernel_size-1)).nnz / G.N**2 *100"
   ]
  },
  {
   "cell_type": "markdown",
   "metadata": {},
   "source": [
    "### 1.4 Icosahedral\n",
    "\n",
    "* Resolution parameter: number of subdivisions $L$.\n",
    "* Number of pixels: $10 L^2 + 2$ (vertices, hexagonal cells, `dual=False`) or $20 L^2$ (faces, triangular cells, `dual=True`).\n",
    "* Number of pixels around the equator: $\\approx 4L$ or $5L$.\n",
    "    * The subdivided icosahedron has no prefered orientation, nor isolatitude rings."
   ]
  },
  {
   "cell_type": "code",
   "execution_count": null,
   "metadata": {},
   "outputs": [],
   "source": [
    "# Illustration.\n",
    "graph = pg.graphs.SphereIcosahedral(2, dual=False)\n",
    "#graph = pg.graphs.SphereIcosahedral(2, dual=True)\n",
    "plot_spherical_graph(graph)"
   ]
  },
  {
   "cell_type": "code",
   "execution_count": null,
   "metadata": {},
   "outputs": [],
   "source": [
    "# Distances between pixels become less and less constant as resolution increases.\n",
    "graph = pg.graphs.SphereIcosahedral(8, dual=True, k=3)\n",
    "dist = squareform(pdist(graph.coords))\n",
    "dist *= graph.A.toarray()\n",
    "dist = dist.flatten()\n",
    "dist = dist[dist!=0]\n",
    "plt.hist(dist, bins=100);"
   ]
  },
  {
   "cell_type": "markdown",
   "metadata": {},
   "source": [
    "### 1.5 Cubed-sphere\n",
    "\n",
    "Used by the [US Global Forecasting Model](https://www.gfdl.noaa.gov/fv3/fv3-grids/).\n",
    "\n",
    "* Resolution parameter: number of subdivisions $L$.\n",
    "* Number of pixels: $6L^2$.\n",
    "* Number of pixels around the equator: $4L$."
   ]
  },
  {
   "cell_type": "code",
   "execution_count": null,
   "metadata": {},
   "outputs": [],
   "source": [
    "graph = pg.graphs.SphereCubed(3, 'equiangular')\n",
    "#graph = pg.graphs.SphereCubed(3, 'equidistant')\n",
    "plot_spherical_graph(graph)"
   ]
  },
  {
   "cell_type": "markdown",
   "metadata": {},
   "source": [
    "## 2 Resolutions\n",
    "\n",
    "Comparison:\n",
    "1. Same average resolution (area, sqrt(area)=angle) <=> same number of pixels.\n",
    "2. Same average resolution near equator (equatorial band) -> different for non-uniform samplings.\n",
    "\n",
    "Comments:\n",
    "* All pixels in HEALPix have the same area. The Icosahedral and reduced Gauss-Legendre are mostly equiarea. The Equiangular is not.\n",
    "\n",
    "Procedure:\n",
    "1. Choose the number of subdivisions for HEALPix and Icosahedral (as they are the least flexible ones).\n",
    "2. Compute the resulting number of pixels (averaged between the two).\n",
    "3. Choose parameters for Equiangular and Gauss-Legendre to approach that target number of pixels.\n",
    "4. Add another Equiangular with 50% more pixels. It will have about the same resolution as the others at the equator."
   ]
  },
  {
   "cell_type": "code",
   "execution_count": null,
   "metadata": {},
   "outputs": [],
   "source": [
    "def params2npix(sampling, params):\n",
    "    if sampling == 'equiangular':\n",
    "        nlat, nlon = params\n",
    "        return nlat*nlon\n",
    "    elif sampling == 'gaussian':\n",
    "        nlat = params\n",
    "        assert (nlat % 2) == 0\n",
    "        nlat //= 2\n",
    "        return 4 * nlat * (nlat+9)\n",
    "    elif sampling == 'healpix':\n",
    "        subdivisions = params\n",
    "        return 12 * subdivisions**2\n",
    "    elif sampling == 'icosahedral':\n",
    "        subdivisions = params\n",
    "        return 10 * subdivisions**2 + 2\n",
    "    elif sampling == 'cubed':\n",
    "        subdivisions = params\n",
    "        return 6 * subdivisions**2\n",
    "\n",
    "def npix2params(sampling, npix):\n",
    "    if sampling == 'equiangular':\n",
    "        nlat = round(np.sqrt(npix/2))\n",
    "        return nlat, 2*nlat\n",
    "    elif sampling == 'gaussian':\n",
    "        a, b, c = 4, 36, -npix\n",
    "        sol = (-b + np.sqrt(b**2 - 4*a*c)) / (2*a)\n",
    "        nlat = 2*sol\n",
    "        return nlat\n",
    "    elif sampling == 'healpix':\n",
    "        subdivisions = np.sqrt(npix / 12)\n",
    "        return subdivisions\n",
    "    elif sampling == 'icosahedral':\n",
    "        subdivisions = np.sqrt((npix-2) / 10)\n",
    "        return subdivisions\n",
    "    elif sampling == 'cubed':\n",
    "        subdivisions = np.sqrt(npix / 6)\n",
    "        return subdivisions\n",
    "\n",
    "assert npix2params('equiangular', params2npix('equiangular', (100, 200))) == (100, 200)\n",
    "assert npix2params('gaussian', params2npix('gaussian', 80)) == 80\n",
    "assert npix2params('healpix', params2npix('healpix', 5)) == 5\n",
    "assert npix2params('icosahedral', params2npix('icosahedral', 5)) == 5\n",
    "assert npix2params('cubed', params2npix('cubed', 8)) == 8"
   ]
  },
  {
   "cell_type": "code",
   "execution_count": null,
   "metadata": {},
   "outputs": [],
   "source": [
    "def npix2res(npix, height=1):\n",
    "    radius = 6371  # radius of the Earth\n",
    "    height = 2 * height * radius\n",
    "    return np.sqrt(2*np.pi*radius*height/npix)\n",
    "\n",
    "def plot_resolutions(graphs):\n",
    "    # TODO: smooth with non-square window, e.g., a Gaussian.\n",
    "    avg = np.pi/180*12.3456789\n",
    "    bins = np.linspace(avg/2, np.pi/2-avg/2, 100)\n",
    "    hist = np.empty_like(bins)\n",
    "    fig, ax = plt.subplots(figsize=(10, 8))\n",
    "    \n",
    "    for graph in graphs:\n",
    "        lat = abs(graph.signals['lat'])\n",
    "        for i, bin in enumerate(bins):\n",
    "            hist[i] = np.sum((lat >= bin-avg/2) & (lat <= bin+avg/2))\n",
    "        hist = npix2res(hist, np.sin(bins+avg/2) - np.sin(bins-avg/2))\n",
    "        label = f'{graph.__class__.__name__} ({graph.N} pixels, {npix2res(graph.N):.0f} km, {np.sqrt(180*360/graph.N):.2f}°)'\n",
    "        ax.plot(bins/np.pi*180, hist, '.', label=label)\n",
    "        ax.axhline(npix2res(graph.N), linestyle='--', color='grey', zorder=3)\n",
    "\n",
    "    ax.legend()\n",
    "    ax.set_xlabel('latitude [°]')\n",
    "    ax.set_ylabel('mean resolution [km]')"
   ]
  },
  {
   "cell_type": "markdown",
   "metadata": {},
   "source": [
    "**Target 1**: 5° resolution on average ([WeatherBench](https://github.com/pangeo-data/WeatherBench) is 5.625°)."
   ]
  },
  {
   "cell_type": "code",
   "execution_count": null,
   "metadata": {},
   "outputs": [],
   "source": [
    "npix = (params2npix('healpix', 16) + params2npix('icosahedral', 16)) / 2\n",
    "print(f'target: {npix:.0f} pixels')\n",
    "print(npix2params('cubed', npix))\n",
    "print(npix2params('gaussian', npix))\n",
    "print(npix2params('equiangular', npix))\n",
    "print(npix2params('equiangular', npix*1.5))\n",
    "\n",
    "plot_resolutions([\n",
    "    pg.graphs.SphereHealpix(16),\n",
    "    pg.graphs.SphereIcosahedral(16),\n",
    "    pg.graphs.SphereCubed(22),\n",
    "    pg.graphs.SphereGaussLegendre(45, nlon='ecmwf-octahedral'),  # ECMWF uses even numbers of rings only\n",
    "#    pg.graphs.SphereEquiangular(32, 64),  # WeatherBench\n",
    "    pg.graphs.SphereEquiangular(38, 76),\n",
    "    pg.graphs.SphereEquiangular(46, 92),\n",
    "])"
   ]
  },
  {
   "cell_type": "markdown",
   "metadata": {},
   "source": [
    "**Target 2**: 100 km resolution on average.\n",
    "\n",
    "* But let's see how far we can go before the GPU memory is filled.\n",
    "* For cosmology, we could train with a single GPU on HEALPix with 10 subdivisions, i.e., ~12M pixels or a resolution of ~6.4km on the Earth.\n",
    "  But it was for classification, hence the NN had no decoder.\n",
    "* The ECMWF's IFS HRES currently runs on a reduced (octahedral) Gaussian grid of resolution O1280, i.e., ~6M pixels or a resolution of ~8.8km on the Earth.\n",
    "* ERA5 is on a reduced (linear) Gaussian grid of resolution N320 (as older IFS), which should correspond to a resolution of ~32km."
   ]
  },
  {
   "cell_type": "code",
   "execution_count": null,
   "metadata": {},
   "outputs": [],
   "source": [
    "print(npix2res(params2npix('healpix', 10)))\n",
    "print(npix2res(params2npix('gaussian', 2*1280)))"
   ]
  },
  {
   "cell_type": "code",
   "execution_count": null,
   "metadata": {},
   "outputs": [],
   "source": [
    "npix = (params2npix('healpix', 64) + params2npix('icosahedral', 64)) / 2\n",
    "print(f'target: {npix:.0f} pixels')\n",
    "print(npix2params('cubed', npix))\n",
    "print(npix2params('gaussian', npix))\n",
    "print(npix2params('equiangular', npix))\n",
    "print(npix2params('equiangular', npix*1.5))\n",
    "\n",
    "plot_resolutions([\n",
    "    pg.graphs.SphereHealpix(64),\n",
    "    pg.graphs.SphereIcosahedral(64),\n",
    "    pg.graphs.SphereCubed(87),\n",
    "    pg.graphs.SphereGaussLegendre(204, nlon='ecmwf-octahedral'),\n",
    "    pg.graphs.SphereEquiangular(150, 300),\n",
    "    pg.graphs.SphereEquiangular(184, 368),\n",
    "])"
   ]
  },
  {
   "cell_type": "markdown",
   "metadata": {},
   "source": [
    "## 3 Positions of pixels (cells) and vertices"
   ]
  },
  {
   "cell_type": "markdown",
   "metadata": {},
   "source": [
    "The positions of the pixels (graph vertices) are given by a PyGSP `graph`:\n",
    "1. The 3D positions of the graph vertices that support the data are stored in `graph.coords`. \n",
    "2. The longitude and latitude positions are stored as signals as `graph.signals['lon']` and `graph.signals['lat']`.\n",
    "3. `graph.coords` is set to 3D coordinates with `graph.set_coordinates('sphere', dim=3)`, and 2D lat-lon coordinates with `graph.set_coordinates('sphere', dim=2)`."
   ]
  },
  {
   "cell_type": "code",
   "execution_count": null,
   "metadata": {},
   "outputs": [],
   "source": [
    "graph = pg.graphs.SphereEquiangular(2, 4)\n",
    "\n",
    "#graph.set_coordinates('sphere', dim=3)\n",
    "print(f'{graph.coords.shape[0]} cells embedded in {graph.coords.shape[1]} dimensions')\n",
    "print(graph.coords)\n",
    "\n",
    "graph.set_coordinates('sphere', dim=2)\n",
    "print(f'{graph.coords.shape[0]} cells embedded in {graph.coords.shape[1]} dimensions')\n",
    "print(graph.coords)"
   ]
  },
  {
   "cell_type": "markdown",
   "metadata": {},
   "source": [
    "A general definition of a pixel is as the set of points which are closest to a center.\n",
    "Samplings can however define pixels differently, as HEALPix.\n",
    "\n",
    "Assuming the graph vertices are at the center of cells supporting the data, those cells are given by the [Voronoi diagram](https://en.wikipedia.org/wiki/Voronoi_diagram) (the dual of a [Delaunay triangulation](https://en.wikipedia.org/wiki/Delaunay_triangulation)).\n",
    "SciPy can compute a Voronoi diagram and give the positions of the Voronoi vertices at which the Voronoi cells intersect."
   ]
  },
  {
   "cell_type": "code",
   "execution_count": null,
   "metadata": {},
   "outputs": [],
   "source": [
    "graph.set_coordinates('sphere', dim=3)\n",
    "graph = pg.graphs.SphereEquiangular(2, 4)\n",
    "sv = SphericalVoronoi(graph.coords, radius=1, center=[0, 0, 0])\n",
    "print(f'{sv.vertices.shape[0]} vertices embedded in {sv.vertices.shape[1]} dimensions')\n",
    "print(sv.vertices)"
   ]
  },
  {
   "cell_type": "code",
   "execution_count": null,
   "metadata": {},
   "outputs": [],
   "source": [
    "# HEALPix pixels aren't Voronoi cells.\n",
    "graph = pg.graphs.SphereHealpix(1, k=8)\n",
    "npix = graph.n_vertices\n",
    "nside = np.sqrt(npix/12)\n",
    "vertices = hp.boundaries(nside, range(npix), nest=graph.nest)\n",
    "assert vertices.shape == (npix, 3, 4)"
   ]
  },
  {
   "cell_type": "markdown",
   "metadata": {},
   "source": [
    "While the HEALPix pixels aren't Voronoi pixels, it's Voronoi pixels are almost equiarea."
   ]
  },
  {
   "cell_type": "code",
   "execution_count": null,
   "metadata": {},
   "outputs": [],
   "source": [
    "graphs = [\n",
    "    pg.graphs.SphereHealpix(16),\n",
    "    pg.graphs.SphereIcosahedral(16),\n",
    "    pg.graphs.SphereCubed(22),\n",
    "    pg.graphs.SphereGaussLegendre(45, nlon='ecmwf-octahedral'),\n",
    "    pg.graphs.SphereEquiangular(38, 76),\n",
    "    pg.graphs.SphereRandom(2817),\n",
    "]\n",
    "\n",
    "fig, axes = plt.subplots(1, len(graphs), figsize=(3*len(graphs), 3))\n",
    "for graph, ax in zip(graphs, axes):\n",
    "    sv = SphericalVoronoi(graph.coords, radius=1, center=[0, 0, 0])\n",
    "    areas = sv.calculate_areas()\n",
    "    np.testing.assert_allclose(areas.sum(), 4*np.pi)\n",
    "    ax.hist(areas, bins=100)\n",
    "    ax.set_title(graph.__class__.__name__)\n",
    "fig.tight_layout()"
   ]
  },
  {
   "cell_type": "code",
   "execution_count": null,
   "metadata": {},
   "outputs": [],
   "source": [
    "graphs = [\n",
    "    pg.graphs.SphereHealpix(16),\n",
    "    pg.graphs.SphereIcosahedral(16),\n",
    "    pg.graphs.SphereCubed(22),\n",
    "    pg.graphs.SphereGaussLegendre(45, nlon='ecmwf-octahedral'),\n",
    "    pg.graphs.SphereEquiangular(38, 76),\n",
    "    pg.graphs.SphereRandom(2817),\n",
    "]\n",
    "fig, axes = plt.subplots(1, len(graphs), figsize=(3*len(graphs), 3))\n",
    "for graph, ax in zip(graphs, axes):\n",
    "    G = pg.graphs.NNGraph(graph.coords, k=4, kernel=lambda d: d, kernel_width=1)\n",
    "    ax.hist(G.W.data, bins=100)\n",
    "    ax.set_title(graph.__class__.__name__)\n",
    "fig.tight_layout()"
   ]
  },
  {
   "cell_type": "markdown",
   "metadata": {},
   "source": [
    "## 4 Plotting\n",
    "\n",
    "Code from <https://scipy.github.io/devdocs/generated/scipy.spatial.SphericalVoronoi.html>."
   ]
  },
  {
   "cell_type": "code",
   "execution_count": null,
   "metadata": {},
   "outputs": [],
   "source": [
    "def plot(graph, sv, edges=True, sphere=True, triangles=False, regions=True, ax=None):\n",
    "    \n",
    "    if ax is None:\n",
    "        fig = plt.figure()\n",
    "        ax = fig.add_subplot(111, projection='3d')\n",
    "\n",
    "    if sphere:\n",
    "        # plot the unit sphere for reference\n",
    "        u = np.linspace(0, 2*np.pi, 100)\n",
    "        v = np.linspace(0, np.pi, 100)\n",
    "        x = np.outer(np.cos(u), np.sin(v))\n",
    "        y = np.outer(np.sin(u), np.sin(v))\n",
    "        z = np.outer(np.ones_like(u), np.cos(v))\n",
    "        ax.plot_surface(x, y, z, color='y', alpha=0.1)\n",
    "\n",
    "    # plot generator points (graph)\n",
    "    graph.plot('b', 30, edges=edges, ax=ax, title='')\n",
    "\n",
    "    # plot Voronoi vertices\n",
    "    ax.scatter(*sv.vertices.T, c='g')\n",
    "\n",
    "    # plot Delaunay triangles (as Euclidean polygons)\n",
    "    # TODO: triangles' vertices are not sorted\n",
    "    if triangles:\n",
    "        t_vals = np.linspace(0, 1, 10)\n",
    "        for region in sv._simplices:\n",
    "            n = len(region)\n",
    "            for i in range(n):\n",
    "                start = sv.points[region][i]\n",
    "                end = sv.points[region][(i + 1) % n]\n",
    "                result = geometric_slerp(start, end, t_vals)\n",
    "                ax.plot(result[..., 0],\n",
    "                        result[..., 1],\n",
    "                        result[..., 2],\n",
    "                        c='k')\n",
    "\n",
    "    # indicate Voronoi regions (as Euclidean polygons)\n",
    "    if regions:\n",
    "        sv.sort_vertices_of_regions()\n",
    "        t_vals = np.linspace(0, 1, 10)\n",
    "        for region in sv.regions:\n",
    "            n = len(region)\n",
    "            for i in range(n):\n",
    "                start = sv.vertices[region][i]\n",
    "                end = sv.vertices[region][(i + 1) % n]\n",
    "                result = geometric_slerp(start, end, t_vals)\n",
    "                # Returns a list when two vertices are at the same position.\n",
    "                # Happens at the poles.\n",
    "                result = np.asanyarray(result)\n",
    "                ax.plot(result[..., 0],\n",
    "                        result[..., 1],\n",
    "                        result[..., 2],\n",
    "                        c='k')\n",
    "\n",
    "graphs = [\n",
    "    pg.graphs.SphereHealpix(1, k=8),\n",
    "    pg.graphs.SphereIcosahedral(1),\n",
    "    pg.graphs.SphereCubed(2),\n",
    "    pg.graphs.SphereGaussLegendre(4, 8),\n",
    "    pg.graphs.SphereEquiangular(4, 8),\n",
    "    pg.graphs.SphereRandom(20),\n",
    "]\n",
    "\n",
    "fig = plt.figure(figsize=(4*len(graphs), 4))\n",
    "for i, graph in enumerate(graphs):\n",
    "    ax = fig.add_subplot(1, len(graphs), i+1, projection='3d')\n",
    "    sv = SphericalVoronoi(graph.coords, radius=1, center=[0, 0, 0])\n",
    "    plot(graph, sv, edges=False, sphere=True, regions=True, ax=ax)\n",
    "    ax.axis('off')\n",
    "    title = graph.__class__.__name__\n",
    "    title += f'\\n{graph.n_vertices} pixels (graph vertices)'  # regions / points\n",
    "    title += f'\\n{sv.vertices.shape[0]} vertices (Delaunay triangles)'  # (region connections)'\n",
    "    assert sv._simplices.shape[0] == sv.vertices.shape[0]\n",
    "    ax.set_title(title)"
   ]
  },
  {
   "cell_type": "markdown",
   "metadata": {},
   "source": [
    "## 5 Check spectral (hence equivariance) properties"
   ]
  },
  {
   "cell_type": "code",
   "execution_count": null,
   "metadata": {},
   "outputs": [],
   "source": [
    "def plot_spectrum(graphs, n_eigenvalues=49, normalize=False, ax=None):\n",
    "    if ax is None:\n",
    "        fig, ax = plt.subplots(figsize=(8, 4))#figsize=(12, 8))\n",
    "\n",
    "    for graph in graphs:\n",
    "        graph.compute_fourier_basis(min(graph.N, n_eigenvalues))\n",
    "        e = graph.e / graph.e[-1] if normalize else graph.e\n",
    "        ax.plot(e, '.', label=f'{graph.__repr__(limit=2)}')\n",
    "    ax.legend()#loc='upper left')\n",
    "\n",
    "    eigenspace = 1\n",
    "    vline = 1\n",
    "    while vline <= min(n_eigenvalues, max(graph.N for graph in graphs)):\n",
    "        ax.axvline(vline-0.5, linestyle='--', color='grey')\n",
    "        eigenspace += 2\n",
    "        vline += eigenspace"
   ]
  },
  {
   "cell_type": "markdown",
   "metadata": {},
   "source": [
    "Comparison:\n",
    "* HEALPix is best.\n",
    "* Icosahedral and Cubed are not too bad.\n",
    "    * Can be made better by using `kernel_width` from HEALPix.\n",
    "* Equiangular is really bad. Worse than random. Seems to have the eigenstructure of a grid.\n",
    "    * Can be made better with an `NNGraph`.\n",
    "* They are all improved with more neighbors.\n",
    "\n",
    "TODO:\n",
    "* NNGraph: set sigma to mean(farthest neighbor) / 2\n",
    "    * Same as for radius graph.\n",
    "    * Mean pushes the width too far => most vertices are farther (as if uniform k ~ area ~ d²).\n",
    "    * Kernel value 0.5 in the middle of the ball.\n",
    "    * I remember it should have been in a paper. Shi-Malik?"
   ]
  },
  {
   "cell_type": "code",
   "execution_count": null,
   "metadata": {},
   "outputs": [],
   "source": [
    "k = 20\n",
    "width = pg.graphs.nngraphs.spherehealpix._OPTIMAL_KERNEL_WIDTHS[k][16]\n",
    "fig, axes = plt.subplots(1, 2, figsize=(24, 5))\n",
    "plot_spectrum([\n",
    "    pg.graphs.SphereHealpix(16, k=k),\n",
    "    pg.graphs.SphereIcosahedral(16, k=k, kernel_width=width),\n",
    "    pg.graphs.SphereCubed(22, k=k, kernel_width=width),\n",
    "    pg.graphs.SphereGaussLegendre(45, nlon='ecmwf-octahedral', k=k, kernel_width=width),  # better for k=8, same for k=20\n",
    "#    pg.graphs.NNGraph(pg.graphs.SphereEquiangular(38, 76).coords, k=k, kernel_width=width),\n",
    "#    pg.graphs.SphereRandom(2817, k=k, kernel_width=width),\n",
    "], 100, ax=axes[0])\n",
    "plot_spectrum([\n",
    "    pg.graphs.SphereGaussLegendre(45, nlon='ecmwf-octahedral', k=k),  # better for k=40,60, same for k=20\n",
    "#    pg.graphs.SphereEquiangular(38, 76),\n",
    "    pg.graphs.NNGraph(pg.graphs.SphereEquiangular(38, 76).coords, k=k),\n",
    "    pg.graphs.SphereRandom(2817, k=k),\n",
    "], 100, ax=axes[1])"
   ]
  },
  {
   "cell_type": "markdown",
   "metadata": {},
   "source": [
    "HEALPix:\n",
    "* eigenspaces degrade from well-separated to continuous\n",
    "* separation is better with more neighbors\n",
    "* the more pixels, the farther the eigenspaces are good"
   ]
  },
  {
   "cell_type": "code",
   "execution_count": null,
   "metadata": {},
   "outputs": [],
   "source": [
    "#nsides = [2, 4]\n",
    "nsides = [8, 16]\n",
    "fig, axes = plt.subplots(1, 2, figsize=(16, 4))\n",
    "plot_spectrum([\n",
    "#    pg.graphs.SphereHealpix(nsides[0], k=4, kernel_width=1),  # Faces are all quadrilaterals, but they are not equidistant. Voronoi pixels are different.\n",
    "    pg.graphs.SphereHealpix(nsides[0], k=8),\n",
    "    pg.graphs.SphereHealpix(nsides[0], k=20),\n",
    "    pg.graphs.SphereHealpix(nsides[0], k=40),\n",
    "    pg.graphs.SphereHealpix(nsides[0], k=60),\n",
    "], 200, ax=axes[0], normalize=True)\n",
    "plot_spectrum([\n",
    "#    pg.graphs.SphereHealpix(nsides[1], k=4, kernel_width=1),\n",
    "    pg.graphs.SphereHealpix(nsides[1], k=8),\n",
    "    pg.graphs.SphereHealpix(nsides[1], k=20),\n",
    "    pg.graphs.SphereHealpix(nsides[1], k=40),\n",
    "    pg.graphs.SphereHealpix(nsides[1], k=60),\n",
    "], 200, ax=axes[1], normalize=True)"
   ]
  },
  {
   "cell_type": "code",
   "execution_count": null,
   "metadata": {},
   "outputs": [],
   "source": [
    "# k=3 is much better because there is only 1 distance, as all faces are triangles.\n",
    "fig, axes = plt.subplots(1, 2, figsize=(16, 4))\n",
    "plot_spectrum([\n",
    "    pg.graphs.SphereIcosahedral(8, dual=False, k=5),\n",
    "    pg.graphs.SphereIcosahedral(8, dual=False, k=6),  # Faces are mostly hexagons.\n",
    "    pg.graphs.SphereIcosahedral(8, dual=False, k=7),\n",
    "], 100, ax=axes[0])\n",
    "plot_spectrum([\n",
    "    pg.graphs.SphereIcosahedral(8, dual=True, k=3),  # Faces are all triangles.\n",
    "    pg.graphs.SphereIcosahedral(8, dual=True, k=4),\n",
    "    pg.graphs.SphereIcosahedral(8, dual=True, k=8),\n",
    "], 100, ax=axes[1])"
   ]
  },
  {
   "cell_type": "code",
   "execution_count": null,
   "metadata": {},
   "outputs": [],
   "source": [
    "plot_spectrum([\n",
    "    pg.graphs.SphereIcosahedral(1, dual=True, k=19),  # Fully connected.\n",
    "    pg.graphs.SphereIcosahedral(1, dual=True, k=3),  # Triangular faces.\n",
    "    pg.graphs.SphereIcosahedral(1, dual=False, k=11),  # Fully connected.\n",
    "    pg.graphs.SphereIcosahedral(1, dual=False, k=6),  # Hexagonal faces.\n",
    "])"
   ]
  },
  {
   "cell_type": "code",
   "execution_count": null,
   "metadata": {},
   "outputs": [],
   "source": [
    "# SphereCubed: equiangular is better.\n",
    "# Faces are quadrilaterals, but k=4 doesn't help. Aren't they equidistant?\n",
    "fig, axes = plt.subplots(1, 2, figsize=(16, 4))\n",
    "plot_spectrum([\n",
    "    pg.graphs.SphereCubed(22, 'equidistant'),\n",
    "    pg.graphs.SphereCubed(22, 'equiangular'),\n",
    "], 100, ax=axes[0])\n",
    "plot_spectrum([\n",
    "    pg.graphs.SphereCubed(22, 'equidistant', k=4),\n",
    "    pg.graphs.SphereCubed(22, 'equiangular', k=4),\n",
    "], 100, ax=axes[1])"
   ]
  },
  {
   "cell_type": "code",
   "execution_count": null,
   "metadata": {},
   "outputs": [],
   "source": [
    "# SphereGaussLegendre: more neighbors and reduced (more uniform) helps.\n",
    "fig, axes = plt.subplots(1, 2, figsize=(16, 4))\n",
    "plot_spectrum([\n",
    "    pg.graphs.SphereGaussLegendre(45, nlon='ecmwf-octahedral'),\n",
    "    pg.graphs.SphereGaussLegendre(45, nlon=90),\n",
    "], 100, ax=axes[0])\n",
    "plot_spectrum([\n",
    "    pg.graphs.SphereGaussLegendre(45, nlon='ecmwf-octahedral', k=40),\n",
    "    pg.graphs.SphereGaussLegendre(45, nlon=90, k=40),\n",
    "], 100, ax=axes[1])"
   ]
  },
  {
   "cell_type": "code",
   "execution_count": null,
   "metadata": {},
   "outputs": [],
   "source": [
    "# SphereEquiangular: not better with more edges.\n",
    "# Changing kernels doesn't help either.\n",
    "# More neighbors do help.\n",
    "G1 = pg.graphs.SphereEquiangular(38, 76)\n",
    "plot_spectrum([\n",
    "    G1,\n",
    "    pg.graphs.NNGraph(G1.coords, k=20),\n",
    "    pg.graphs.NNGraph(G1.coords, k=40),\n",
    "#    pg.graphs.NNGraph(G1.coords, k=16, kernel=lambda d: 1/d, kernel_width=.25),\n",
    "#    pg.graphs.NNGraph(G1.coords, k=4, kernel='gaussian', kernel_width=1),\n",
    "#    pg.graphs.NNGraph(G1.coords, k=G1.N-1, kernel='gaussian', kernel_width=.5),\n",
    "#    pg.graphs.NNGraph(G1.coords, kind='radius', radius=np.pi/20),\n",
    "#    pg.graphs.NNGraph(G1.coords, kind='radius', radius=np.pi/10, kernel=lambda d: 1/d, kernel_width=1),\n",
    "#    pg.graphs.NNGraph(G1.coords, k=4, kernel=lambda d: 1/d**2, kernel_width=1),\n",
    "], 100)"
   ]
  },
  {
   "cell_type": "code",
   "execution_count": null,
   "metadata": {},
   "outputs": [],
   "source": [
    "plot_spectrum([\n",
    "    pg.graphs.NNGraph(G1.coords, k=20),\n",
    "], 100)\n",
    "plot_spectrum([\n",
    "    pg.graphs.NNGraph(G1.coords, k=40),\n",
    "], 100)"
   ]
  },
  {
   "cell_type": "markdown",
   "metadata": {},
   "source": [
    "### Window function\n",
    "\n",
    "[Tegmark, An icosahedron-based method for pixelizing the celestial sphere](https://arxiv.org/pdf/astro-ph/9610094.pdf)"
   ]
  },
  {
   "cell_type": "code",
   "execution_count": null,
   "metadata": {},
   "outputs": [],
   "source": [
    "nside = 4\n",
    "npix = 12*nside**2\n",
    "w = 4*np.pi/npix * np.ones(npix)\n",
    "wl = hp.anafast(w, lmax=9*nside)\n",
    "plt.semilogy(wl)"
   ]
  },
  {
   "cell_type": "code",
   "execution_count": null,
   "metadata": {},
   "outputs": [],
   "source": [
    "wl = hp.pixwin(nside, lmax=3*nside-1)\n",
    "plt.plot(wl)"
   ]
  },
  {
   "cell_type": "code",
   "execution_count": null,
   "metadata": {},
   "outputs": [],
   "source": [
    "nside = 4\n",
    "npix = 12*nside**2\n",
    "l, m = 1, 1\n",
    "graph = pg.graphs.SphereHealpix(nside)\n",
    "lat, lon = hp.pix2ang(nside, range(npix))\n",
    "ylm = scipy.special.sph_harm(l, m, lon, lat)\n",
    "\n",
    "ylm @ w"
   ]
  },
  {
   "cell_type": "markdown",
   "metadata": {},
   "source": [
    "### Setting the edge weights\n",
    "\n",
    "* Difference should be scaled by $1/d$, to get variation-per-unit-distance\n",
    "* But longer edges should count less.\n",
    "* Integration by summing edges connected to a vertex.\n",
    "    * The more edges the more exact (quadrature).\n",
    "    * Constant quadrature weights if edges go in uniform directions."
   ]
  },
  {
   "cell_type": "code",
   "execution_count": null,
   "metadata": {},
   "outputs": [],
   "source": [
    "x = np.linspace(0, 3)\n",
    "y = np.exp(-x**2)\n",
    "\n",
    "# Taylor series.\n",
    "y1 = 1 / (1 + x**2)\n",
    "y2 = 1 / (1 + x**2 + x**4/2)\n",
    "y3 = 1 / (1 + x**2 + x**4/2 + x**6/6)\n",
    "\n",
    "plt.plot(x, y)\n",
    "plt.plot(x, y1)\n",
    "plt.plot(x, y2)\n",
    "plt.plot(x, y3)"
   ]
  },
  {
   "cell_type": "code",
   "execution_count": null,
   "metadata": {},
   "outputs": [],
   "source": [
    "graph = pg.graphs.SphereHealpix(4)\n",
    "plot_spectrum([\n",
    "    graph,\n",
    "    \n",
    "    # Not so sensible to the kernel width.\n",
    "    pg.graphs.SphereHealpix(4, kernel_width=0.9*graph.kernel_width),  # still ok\n",
    "#    pg.graphs.SphereHealpix(4, kernel_width=0.6*graph.kernel_width),  # very bad\n",
    "\n",
    "    # 1/d is not the solution.\n",
    "    #pg.graphs.NNGraph(graph.coords, kernel=lambda d: 1/d, kernel_width=graph.kernel_width),\n",
    "\n",
    "    # Taylor series.\n",
    "    pg.graphs.NNGraph(graph.coords, kernel=lambda d: 1/(1+d**2), kernel_width=graph.kernel_width),\n",
    "    #pg.graphs.NNGraph(graph.coords, kernel=lambda d: 1/(1+d**2+d**4/2), kernel_width=graph.kernel_width),\n",
    "    pg.graphs.NNGraph(graph.coords, kernel=lambda d: 1/(1+d**2+d**4/2+d**6/6), kernel_width=graph.kernel_width),\n",
    "], 200)"
   ]
  },
  {
   "cell_type": "code",
   "execution_count": null,
   "metadata": {},
   "outputs": [],
   "source": [
    "_OPTIMAL_KERNEL_WIDTHS = pg.graphs.nngraphs.spherehealpix._OPTIMAL_KERNEL_WIDTHS\n",
    "\n",
    "x = np.array(list(_OPTIMAL_KERNEL_WIDTHS[8].keys()))\n",
    "x = 12*x**2  # nside to npix\n",
    "plt.loglog(x, list(_OPTIMAL_KERNEL_WIDTHS[8].values()))\n",
    "plt.loglog(x, list(_OPTIMAL_KERNEL_WIDTHS[20].values()))\n",
    "plt.loglog(x, list(_OPTIMAL_KERNEL_WIDTHS[40].values()))\n",
    "plt.loglog(x, list(_OPTIMAL_KERNEL_WIDTHS[60].values()))\n",
    "\n",
    "# width = cst / subdivisions = cst / sqrt(npix)\n",
    "# width = cst * distance = cst * sqrt(area)\n",
    "# weights = kernel(distances/width)"
   ]
  },
  {
   "cell_type": "code",
   "execution_count": null,
   "metadata": {},
   "outputs": [],
   "source": [
    "graph = pg.graphs.SphereHealpix(8, kernel=lambda d: d, kernel_width=1, k=4)\n",
    "#min = np.min(graph.W.toarray(), axis=0)\n",
    "d = np.max(graph.W.toarray(), axis=1)\n",
    "#d = np.mean(graph.W.toarray(), axis=1)\n",
    "#d = np.median(graph.W.toarray(), axis=1)\n",
    "\n",
    "plt.hist(d, bins=100);\n",
    "#plt.hist(graph.W.data, bins=100);"
   ]
  },
  {
   "cell_type": "code",
   "execution_count": null,
   "metadata": {},
   "outputs": [],
   "source": [
    "neighbors = [8, 20, 40, 60]\n",
    "#neighbors = np.arange(10, 200, 5)\n",
    "radius_mean = []\n",
    "radius_median = []\n",
    "radius_max = []\n",
    "for k in neighbors:\n",
    "    graph = pg.graphs.SphereHealpix(8, kernel=lambda d: d, kernel_width=1, k=k)\n",
    "    radius_mean.append(np.mean(graph.W.data))\n",
    "    radius_median.append(np.median(graph.W.data))\n",
    "    radius_max.append(np.max(graph.W.data))\n",
    "# All statistics have the same asymptotic behaviour.\n",
    "plt.plot(neighbors, radius_mean/radius_mean[-1], '.-', label='mean')\n",
    "plt.plot(neighbors, radius_median/radius_median[-1], '.-', label='median')\n",
    "plt.plot(neighbors, radius_max/radius_max[-1], '.-', label='max')\n",
    "\n",
    "for nside in [32, 64, 128, 256, 512, 1024]:\n",
    "    y = np.array([_OPTIMAL_KERNEL_WIDTHS[k][nside] for k in neighbors])\n",
    "    y /= y[-1]\n",
    "    plt.plot(neighbors, y, '.-', label=f'nside={nside}')\n",
    "\n",
    "#x = np.array(neighbors)\n",
    "#x = np.linspace(8, 60, 100)\n",
    "#y = np.linspace(y[0], 1, 100)\n",
    "#plt.plot(x, y, '--', label='linear', c=(0.8,)*3)\n",
    "\n",
    "plt.legend()"
   ]
  },
  {
   "cell_type": "code",
   "execution_count": null,
   "metadata": {},
   "outputs": [],
   "source": [
    "def nside2pixradius(nside):\n",
    "    nside = 8\n",
    "    npix = 12*nside**2\n",
    "    pix_area = 4*np.pi / npix\n",
    "    pix_radius = np.sqrt(pix_area)\n",
    "    return pix_radius\n",
    "\n",
    "nside = 8\n",
    "r = 4 * nside2pixradius(nside)\n",
    "graph = pg.graphs.SphereHealpix(nside, kind='radius', radius=r)\n",
    "plt.hist(graph.d, bins=100);"
   ]
  },
  {
   "cell_type": "markdown",
   "metadata": {},
   "source": [
    "* On a quasi-uniform sampling, a kNN graph is quasi a radius graph, with the radius given by the farthest connected pair of vertices.\n",
    "* `radius` grows as `sqrt(neighbors)`, and `area=radius**2` as `neighbors`."
   ]
  },
  {
   "cell_type": "code",
   "execution_count": null,
   "metadata": {},
   "outputs": [],
   "source": [
    "nside = 8\n",
    "radiuses = np.linspace(1, 8, 20) * nside2pixradius(nside)\n",
    "\n",
    "radius_mean = []\n",
    "radius_median = []\n",
    "radius_max = []\n",
    "neighbors = []\n",
    "neighbors_std = []\n",
    "for r in radiuses:\n",
    "    graph = pg.graphs.SphereHealpix(nside, kernel=lambda d: d, kernel_width=1, kind='radius', radius=r)\n",
    "    neighbors.append(np.mean(graph.d))\n",
    "    neighbors_std.append(np.std(graph.d))\n",
    "    \n",
    "    radius_mean.append(np.mean(graph.W.data))\n",
    "    radius_median.append(np.median(graph.W.data))\n",
    "    radius_max.append(np.max(graph.W.data))\n",
    "#plt.plot(neighbors, radius_mean, '.-', label='mean')\n",
    "#plt.plot(neighbors, radius_median, '.-', label='median')\n",
    "#plt.plot(neighbors, radius_max, '.-', label='max')\n",
    "plt.plot(neighbors, radius_mean/radius_mean[-1], '.-', label='mean')\n",
    "plt.plot(neighbors, radius_median/radius_median[-1], '.-', label='median')\n",
    "plt.plot(neighbors, radius_max/radius_max[-1], '.-', label='max')\n",
    "area = np.array(radius_mean)**2\n",
    "plt.plot(neighbors, area/area[-1], '.-', label='area')\n",
    "\n",
    "#plt.plot(neighbors, radius_max/radius_max[-1], '.-', label='max')\n",
    "#plt.plot(radiuses, neighbors, '.-')\n",
    "plt.plot(neighbors, radiuses, '.-', label='radius')\n",
    "\n",
    "for nside in [32, 64, 128, 256, 512, 1024]:\n",
    "    neighbors = [8, 20, 40, 60]\n",
    "    y = np.array([_OPTIMAL_KERNEL_WIDTHS[k][nside] for k in neighbors])\n",
    "    y /= y[-1] / 0.6\n",
    "    plt.plot(neighbors, y, '.-', label=f'nside={nside}')\n",
    "\n",
    "plt.legend()"
   ]
  },
  {
   "cell_type": "code",
   "execution_count": null,
   "metadata": {},
   "outputs": [],
   "source": [
    "# The distribution of #neighbors is well concentrated.\n",
    "#plt.plot(radiuses, neighbors, '.-')\n",
    "plt.plot(radiuses, neighbors_std, '.-')"
   ]
  },
  {
   "cell_type": "code",
   "execution_count": null,
   "metadata": {},
   "outputs": [],
   "source": [
    "k = 40\n",
    "nside = 8\n",
    "npix = 12*nside**2\n",
    "G1 = pg.graphs.SphereHealpix(16, k=k)\n",
    "\n",
    "# Makes it better.\n",
    "G2 = pg.graphs.SphereIcosahedral(8, k=k)\n",
    "G3 = pg.graphs.SphereIcosahedral(8, k=k, kernel_width=G1.kernel_width)\n",
    "G2 = pg.graphs.SphereIcosahedral(8, dual=True, k=k)\n",
    "G3 = pg.graphs.SphereIcosahedral(8, dual=True, k=k, kernel_width=G1.kernel_width)\n",
    "G2 = pg.graphs.SphereCubed(11, k=k)\n",
    "G3 = pg.graphs.SphereCubed(11, k=k, kernel_width=G1.kernel_width)\n",
    "G2 = pg.graphs.SphereGaussLegendre(45, 'ecmwf-octahedral', k=k)\n",
    "G3 = pg.graphs.SphereGaussLegendre(45, 'ecmwf-octahedral', k=k, kernel_width=G1.kernel_width)\n",
    "\n",
    "# Makes it worse.\n",
    "#G2 = pg.graphs.SphereGaussLegendre(20, k=k)\n",
    "#G3 = pg.graphs.SphereGaussLegendre(20, k=k, kernel_width=G1.kernel_width)\n",
    "#G2 = pg.graphs.NNGraph(pg.graphs.SphereEquiangular(20).coords, k=k)\n",
    "#G3 = pg.graphs.NNGraph(pg.graphs.SphereEquiangular(20).coords, k=k, kernel_width=G1.kernel_width)\n",
    "\n",
    "#G4 = pg.graphs.SphereIcosahedral(8, k=6)\n",
    "print(G1)\n",
    "print(G2)\n",
    "print(G3)\n",
    "#print(G4)\n",
    "\n",
    "plot_spectrum([\n",
    "    G1,\n",
    "#    G2,\n",
    "    G3,\n",
    "#    G4,\n",
    "], 100)"
   ]
  },
  {
   "cell_type": "markdown",
   "metadata": {},
   "source": [
    "### Vertex weights as areas\n",
    "\n",
    "Can be better or worse."
   ]
  },
  {
   "cell_type": "code",
   "execution_count": null,
   "metadata": {},
   "outputs": [],
   "source": [
    "# Makes it a bit better.\n",
    "graph = pg.graphs.SphereEquiangular(10)\n",
    "# Makes it worse.\n",
    "graph = pg.graphs.NNGraph(pg.graphs.SphereEquiangular(10).coords, k=10)\n",
    "graph = pg.graphs.SphereGaussLegendre(20, k=20)\n",
    "# Not much change (quasi-equiarea).\n",
    "graph = pg.graphs.SphereIcosahedral(8)\n",
    "graph = pg.graphs.SphereHealpix(8)\n",
    "graph = pg.graphs.SphereCubed(8, k=20)\n",
    "\n",
    "#plot_spectrum([graph])\n",
    "\n",
    "sv = SphericalVoronoi(graph.coords)\n",
    "areas = sv.calculate_areas()\n",
    "plt.plot(areas, '.')\n",
    "\n",
    "I = np.identity(len(areas))\n",
    "D = np.diag(areas)\n",
    "Di = np.diag(1/areas)\n",
    "\n",
    "eI, UI = scipy.linalg.eigh(graph.L.toarray(), I)\n",
    "eD, UD = scipy.linalg.eigh(graph.L.toarray(), D)\n",
    "eDi, UDi = scipy.linalg.eigh(graph.L.toarray(), Di)\n",
    "\n",
    "n = 100\n",
    "plt.figure(figsize=(18, 4))\n",
    "plt.plot(eI[:n], '.')\n",
    "plt.plot(eD[:n]*np.mean(areas), '.')\n",
    "#plt.plot(eDi[:n]/np.mean(areas), '.')"
   ]
  },
  {
   "cell_type": "markdown",
   "metadata": {},
   "source": [
    "### Mesh Laplacian"
   ]
  },
  {
   "cell_type": "code",
   "execution_count": null,
   "metadata": {},
   "outputs": [],
   "source": [
    "import trimesh"
   ]
  },
  {
   "cell_type": "code",
   "execution_count": null,
   "metadata": {},
   "outputs": [],
   "source": [
    "graph = pg.graphs.SphereHealpix(2)\n",
    "sv = SphericalVoronoi(graph.coords)"
   ]
  },
  {
   "cell_type": "code",
   "execution_count": null,
   "metadata": {},
   "outputs": [],
   "source": []
  },
  {
   "cell_type": "code",
   "execution_count": null,
   "metadata": {},
   "outputs": [],
   "source": [
    "trimesh.Trimesh(sv.vertices)"
   ]
  }
 ],
 "metadata": {
  "kernelspec": {
   "display_name": "pygsp-python3",
   "language": "python",
   "name": "pygsp-python3"
  },
  "language_info": {
   "codemirror_mode": {
    "name": "ipython",
    "version": 3
   },
   "file_extension": ".py",
   "mimetype": "text/x-python",
   "name": "python",
   "nbconvert_exporter": "python",
   "pygments_lexer": "ipython3",
   "version": "3.8.5"
  },
  "widgets": {
   "application/vnd.jupyter.widget-state+json": {
    "state": {},
    "version_major": 2,
    "version_minor": 0
   }
  }
 },
 "nbformat": 4,
 "nbformat_minor": 4
}
