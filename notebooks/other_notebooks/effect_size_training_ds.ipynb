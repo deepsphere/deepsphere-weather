{
 "cells": [
  {
   "cell_type": "markdown",
   "metadata": {},
   "source": [
    "### Train best model according to report to try to reproduce results\n",
    "\n",
    "- All static features: \n",
    "    * Z500, \n",
    "    * T850, \n",
    "    * latitude, \n",
    "    * orography, \n",
    "    * land-sea mask, \n",
    "    * soil type, and \n",
    "    * top-of-atmosphere radiation\n",
    "- L=2\n",
    "- $\\Delta t$ = 6"
   ]
  },
  {
   "cell_type": "markdown",
   "metadata": {},
   "source": [
    "#### Import libraries"
   ]
  },
  {
   "cell_type": "code",
   "execution_count": 1,
   "metadata": {},
   "outputs": [],
   "source": [
    "%load_ext autoreload\n",
    "%autoreload 2"
   ]
  },
  {
   "cell_type": "code",
   "execution_count": 2,
   "metadata": {},
   "outputs": [],
   "source": [
    "import sys\n",
    "sys.path.append('/'.join(sys.path[0].split('/')[:-1]))\n",
    "\n",
    "import xarray as xr\n",
    "import matplotlib.pyplot as plt\n",
    "import numpy as np\n",
    "import time\n",
    "import os\n",
    "import healpy as hp\n",
    "import random\n",
    "\n",
    "import torch\n",
    "from torch import nn, optim\n",
    "from torch.utils.data import Dataset, DataLoader\n",
    "\n",
    "from modules.utils import train_model_2steps_temp, init_device\n",
    "from modules.data import WeatherBenchDatasetXarrayHealpixTemp\n",
    "from modules.healpix_models import UNetSphericalHealpix, UNetSphericalTempHealpix\n",
    "from modules.test import create_iterative_predictions_healpix_temp, compute_rmse_healpix\n",
    "from modules.plotting import plot_rmses\n",
    "\n",
    "datadir = \"../data/healpix/\"\n",
    "input_dir = datadir + \"5.625deg_nearest/\"\n",
    "model_save_path = datadir + \"models/\"\n",
    "pred_save_path = datadir + \"predictions/\"\n",
    "\n",
    "if not os.path.isdir(model_save_path):\n",
    "    os.mkdir(model_save_path)\n",
    "    \n",
    "if not os.path.isdir(pred_save_path):\n",
    "    os.mkdir(pred_save_path)"
   ]
  },
  {
   "cell_type": "code",
   "execution_count": 3,
   "metadata": {},
   "outputs": [],
   "source": [
    "import warnings\n",
    "warnings.filterwarnings(\"ignore\")"
   ]
  },
  {
   "cell_type": "markdown",
   "metadata": {},
   "source": [
    "Define constants and load data"
   ]
  },
  {
   "cell_type": "code",
   "execution_count": 4,
   "metadata": {},
   "outputs": [],
   "source": [
    "chunk_size = 521#483*2 #483"
   ]
  },
  {
   "cell_type": "code",
   "execution_count": 5,
   "metadata": {},
   "outputs": [],
   "source": [
    "from modules.data import WeatherBenchDatasetIterative\n",
    "class WeatherBenchDatasetXarrayHealpixTemp(Dataset):\n",
    "    \n",
    "    \"\"\" Dataset used for graph models (1D), where data is loaded from stored numpy arrays.\n",
    "    \n",
    "    Parameters\n",
    "    ----------\n",
    "    ds : xarray Dataset\n",
    "        Dataset containing the input data\n",
    "    out_features : int\n",
    "        Number of output features\n",
    "    delta_t : int\n",
    "        Temporal spacing between samples in temporal sequence (in hours)\n",
    "    len_sqce : int\n",
    "        Length of the input and output (predicted) sequences\n",
    "    years : tuple(str)\n",
    "        Years used to split the data\n",
    "    nodes : float\n",
    "        Number of nodes each sample has\n",
    "    max_lead_time : int\n",
    "        Maximum lead time (in case of iterative predictions) in hours\n",
    "    load : bool\n",
    "        If true, load dataset to RAM\n",
    "    mean : np.ndarray of shape 2\n",
    "        Mean to use for data normalization. If None, mean is computed from data\n",
    "    std : np.ndarray of shape 2\n",
    "        std to use for data normalization. If None, mean is computed from data\n",
    "    \"\"\"\n",
    "        \n",
    "    def __init__(self, ds, out_features, delta_t, len_sqce, years, nodes, nb_timesteps, \n",
    "                 max_lead_time=None, load=True, mean=None, std=None):\n",
    "        \n",
    "        \n",
    "        self.delta_t = delta_t\n",
    "        self.len_sqce = len_sqce\n",
    "        self.years = years\n",
    "        \n",
    "        self.nodes = nodes\n",
    "        self.out_features = out_features\n",
    "        self.max_lead_time = max_lead_time\n",
    "        self.nb_timesteps = nb_timesteps\n",
    "        \n",
    "        self.data = ds.to_array(dim='level', name='Dataset').transpose('time', 'node', 'level')\n",
    "        self.in_features = self.data.shape[-1]\n",
    "        \n",
    "        self.mean = self.data.mean(('time', 'node')).compute() if mean is None else mean\n",
    "        self.std = self.data.std(('time', 'node')).compute() if std is None else std\n",
    "        \n",
    "        eps = 0.001 #add to std to avoid division by 0\n",
    "        \n",
    "        # Count total number of samples\n",
    "        total_samples = self.data.shape[0]        \n",
    "        \n",
    "        if max_lead_time is None:\n",
    "            self.n_samples = total_samples - (len_sqce+1) * delta_t\n",
    "        else:\n",
    "            self.n_samples = total_samples - (len_sqce+1) * delta_t - max_lead_time\n",
    "        \n",
    "        # Normalize\n",
    "        self.data = (self.data - self.mean.to_array(dim='level')) / (self.std.to_array(dim='level') + eps)\n",
    "        self.data.persist()\n",
    "        \n",
    "        self.idxs = np.array(range(self.n_samples))\n",
    "        \n",
    "        print('Loading data to RAM...')\n",
    "        t = time.time()\n",
    "        self.data.load()\n",
    "        print('Time: {:.2f}s'.format(time.time() - t))\n",
    "        \n",
    "        \n",
    "    def __len__(self):\n",
    "        return self.n_samples\n",
    "    \n",
    "    def __getitem__(self, idx):\n",
    "        \"\"\" Returns sample and label corresponding to an index as torch.Tensor objects\n",
    "            The return tensor shapes are (for the sample and the label): [n_vertex, len_sqce, n_features]\n",
    "            \n",
    "        \"\"\"\n",
    "        idx_data = idx#self.idxs[idx]\n",
    "        #1,0,2\n",
    "        \n",
    "        #batch[0] --> (batch_size, num_nodes, n_features*len_sq)\n",
    "        idx_full = np.concatenate(np.array([[idx_data+self.delta_t*k] for k in range(self.len_sqce+2)]).reshape(-1,1)) # ex: len_sqce=2 --> we need 0,1,2,3\n",
    "        #idx_full = np.concatenate([idx_data+delta_t,  idx_data + delta_t * len_sqce, idx_data + delta_t * (len_sqce+1)])\n",
    "        dat = self.data.isel(time=idx_full).values\n",
    "        \n",
    "        \n",
    "        X = (\n",
    "            torch.tensor(dat[:len(idx)*self.len_sqce,:,:] , \\\n",
    "                         dtype=torch.float).reshape(len(idx)*self.len_sqce, self.nodes, -1),\n",
    "        )\n",
    "        \n",
    "        y = (torch.tensor(dat[len(idx):len(idx)*(self.len_sqce+1),:,:],\\\n",
    "                         dtype=torch.float).reshape(len(idx)*self.len_sqce, self.nodes, -1),\\\n",
    "             torch.tensor(dat[len(idx)*(self.len_sqce):,:,:out_features],\\\n",
    "                         dtype=torch.float).reshape(len(idx)*self.len_sqce, self.nodes, -1)\n",
    "        \n",
    "        )\n",
    "        return X, y "
   ]
  },
  {
   "cell_type": "code",
   "execution_count": 6,
   "metadata": {},
   "outputs": [],
   "source": [
    "def train_model_2steps(model, device, training_ds, constants, batch_size, epochs, lr, validation_ds):    \n",
    "    criterion = nn.MSELoss()\n",
    "    optimizer = optim.Adam(model.parameters(), lr=lr, eps=1e-7, weight_decay=0, amsgrad=False)\n",
    "    \n",
    "    train_losses = []\n",
    "    val_losses = []\n",
    "    n_samples = training_ds.n_samples\n",
    "    n_samples_val = validation_ds.n_samples\n",
    "    num_nodes = training_ds.nodes\n",
    "    num_constants = constants.shape[1]\n",
    "    out_features = training_ds.out_features\n",
    "    \n",
    "    constants_expanded = constants.expand(batch_size, num_nodes, num_constants)\n",
    "    constants1 = constants_expanded.to(device)\n",
    "    idxs_val = validation_ds.idxs\n",
    "    \n",
    "    for epoch in range(epochs):\n",
    "        \n",
    "        print('\\rEpoch : {}'.format(epoch), end=\"\")\n",
    "        \n",
    "        time1 = time.time()\n",
    "        \n",
    "        val_loss = 0\n",
    "        train_loss = 0\n",
    "        \n",
    "        model.train()  \n",
    "        \n",
    "        random.shuffle(training_ds.idxs)\n",
    "        idxs = training_ds.idxs\n",
    "        \n",
    "        batch_idx = 0\n",
    "        \n",
    "        for i in range(0, n_samples - batch_size, batch_size):\n",
    "            i_next = min(i + batch_size, n_samples)\n",
    "            \n",
    "            if len(idxs[i:i_next]) < batch_size:\n",
    "                constants_expanded = contants.expand(len(idxs[i:i_next]), num_nodes, num_constants)\n",
    "                constants1 = constants_expanded.to(device)\n",
    "        \n",
    "            \n",
    "            #t1 = time.time()\n",
    "            batch, labels = training_ds[idxs[i:i_next]]\n",
    "            \n",
    "            #t2 = time.time()\n",
    "            \n",
    "            # Transfer to GPU\n",
    "            batch_size = batch[0].shape[0]//2\n",
    "            \n",
    "            batch1 = torch.cat((batch[0][:batch_size, :,:], \\\n",
    "                                constants_expanded,batch[0][batch_size:, :,:] ,constants_expanded), dim=2).to(device)\n",
    "            #batch1 = torch.cat((batch[0], constants_expanded), dim=2).to(device)\n",
    "            \n",
    "            label1 = labels[0].to(device)\n",
    "            label2 = labels[1].to(device)\n",
    "            \n",
    "            #t3 = time.time()\n",
    "            batch_size = batch1.shape[0]\n",
    "            \n",
    "            # Model\n",
    "            \n",
    "            #t4 = time.time()\n",
    "            output1 = model(batch1)  \n",
    "            #t5 = time.time()\n",
    "            # [z_tdelta1, t_tdelta1, toa_tdelta1, constants, z_tdelta2, t_tdelta2, toa_tdelta2, constants]\n",
    "            toa_delta = batch[0][batch_size:, :,-1].view(-1, num_nodes, 1).to(device)\n",
    "            batch2 = torch.cat((output1, toa_delta, constants1, \\\n",
    "                               label1[batch_size:, :,:], constants1), dim=2)\n",
    "            \n",
    "            #batch2 = torch.cat((output1, label1[:,:,-1].view(-1, num_nodes, 1), constants1), dim=2)\n",
    "            #t6 = time.time()\n",
    "            output2 = model(batch2)\n",
    "            #t7 = time.time()\n",
    "            loss = criterion(output1, label1[batch_size:,:,:out_features]) + criterion(output2, label2[batch_size:,:,:out_features])\n",
    "            #t8 = time.time()\n",
    "            \n",
    "            optimizer.zero_grad()\n",
    "            loss.backward()\n",
    "            optimizer.step()\n",
    "            \n",
    "            train_loss = train_loss + loss.item() * batch_size\n",
    "            \n",
    "            \n",
    "            #print('\\nTime to read batch: {}s'.format(t2-t1))\n",
    "            #print('Time to transfer data to GPU: {}s'.format(t3-t2))\n",
    "            #print('Time to process input 1: {}s'.format(t5-t4))\n",
    "            #print('Time to process input 2: {}s'.format(t7-t6))\n",
    "            #print('Time to compute loss: {}s'.format(t8-t7))\n",
    "            #print('\\n')\n",
    "            if batch_idx%50 == 0:\n",
    "                print('\\rBatch idx: {}; Loss: {:.3f}'.format(batch_idx, train_loss/(batch_size*(batch_idx+1))), end=\"\")\n",
    "            batch_idx += 1\n",
    "        \n",
    "        train_loss = train_loss / n_samples\n",
    "        train_losses.append(train_loss)\n",
    "        \n",
    "        model.eval()\n",
    "        \n",
    "        constants1 = constants_expanded.to(device)\n",
    "        with torch.set_grad_enabled(False):\n",
    "            index = 0\n",
    "            \n",
    "            for i in range(0, n_samples_val - batch_size, batch_size):\n",
    "                i_next = min(i + batch_size, n_samples_val)\n",
    "\n",
    "                if len(idxs_val[i:i_next]) < batch_size:\n",
    "                    constants_expanded = contants.expand(len(idxs_val[i:i_next]), num_nodes, num_constants)\n",
    "                    constants1 = constants_expanded.to(device)\n",
    "\n",
    "\n",
    "                #t1 = time.time()\n",
    "                batch, labels = validation_ds[idxs_val[i:i_next]]\n",
    "                # Transfer to GPU\n",
    "                batch_size = batch[0].shape[0]//2\n",
    "            \n",
    "                batch1 = torch.cat((batch[0][:batch_size, :,:], \\\n",
    "                                    constants_expanded,batch[0][batch_size:, :,:] ,constants_expanded), dim=2).to(device)\n",
    "                label1 = labels[0].to(device)\n",
    "                label2 = labels[1].to(device)\n",
    "\n",
    "                batch_size = batch1.shape[0]\n",
    "\n",
    "                output1 = model(batch1)  \n",
    "                toa_delta = batch[0][batch_size:, :,-1].view(-1, num_nodes, 1).to(device)\n",
    "                batch2 = torch.cat((output1, toa_delta, constants1, \\\n",
    "                                   label1[batch_size:, :,:], constants1), dim=2)\n",
    "                output2 = model(batch2)\n",
    "                \n",
    "                val_loss = val_loss + (criterion(output1, label1[batch_size:,:,:out_features]).item() \n",
    "                                       + criterion(output2, label2[batch_size:,:,:out_features]).item()) * batch_size\n",
    "                index = index + batch_size\n",
    "                \n",
    "        val_loss = val_loss / n_samples_val\n",
    "        val_losses.append(val_loss)\n",
    "        \n",
    "        time2 = time.time()\n",
    "        \n",
    "        # Print stuff\n",
    "        print('Epoch: {e:3d}/{n_e:3d}  - loss: {l:.3f}  - val_loss: {v_l:.5f}  - time: {t:2f}'\n",
    "              .format(e=epoch+1, n_e=epochs, l=train_loss, v_l=val_loss, t=time2-time1))\n",
    "        \n",
    "    return train_losses, val_losses"
   ]
  },
  {
   "cell_type": "code",
   "execution_count": 7,
   "metadata": {},
   "outputs": [],
   "source": [
    "z500 = xr.open_mfdataset(f'{input_dir}geopotential_500/*.nc', combine='by_coords', chunks={'time':chunk_size}).rename({'z':'z500'})\n",
    "t850 = xr.open_mfdataset(f'{input_dir}temperature_850/*.nc', combine='by_coords', chunks={'time':chunk_size}).rename({'t':'t850'})\n",
    "rad = xr.open_mfdataset(f'{input_dir}toa_incident_solar_radiation/*.nc', combine='by_coords', chunks={'time':chunk_size})\n",
    "\n",
    "z500 = z500.isel(time=slice(7, None))\n",
    "t850 = t850.isel(time=slice(7, None))\n",
    "\n",
    "constants = xr.open_dataset(f'{input_dir}constants/constants_5.625deg_standardized.nc')\n",
    "\n",
    "orog = constants['orog']\n",
    "lsm = constants['lsm']\n",
    "lats = constants['lat2d']\n",
    "slt = constants['slt']\n",
    "cos_lon = constants['cos_lon']\n",
    "sin_lon = constants['sin_lon']\n",
    "\n",
    "num_constants = len([orog, lats, lsm, slt])\n",
    "constants_tensor = torch.tensor(xr.merge([orog, lats, lsm, slt], compat='override').to_array().values, \\\n",
    "                            dtype=torch.float)"
   ]
  },
  {
   "cell_type": "code",
   "execution_count": 8,
   "metadata": {},
   "outputs": [],
   "source": [
    "train_mean_ = xr.open_mfdataset(f'{input_dir}mean_train_features_dynamic.nc')\n",
    "train_std_ = xr.open_mfdataset(f'{input_dir}std_train_features_dynamic.nc')"
   ]
  },
  {
   "cell_type": "markdown",
   "metadata": {},
   "source": [
    "### Use 5 years of data"
   ]
  },
  {
   "cell_type": "code",
   "execution_count": 9,
   "metadata": {},
   "outputs": [],
   "source": [
    "train_years = ('2007', '2012')#('1979', '2012')\n",
    "val_years = ('2013', '2016')\n",
    "test_years = ('2017', '2018')\n",
    "\n",
    "nodes = 12*16*16\n",
    "max_lead_time = 5*24\n",
    "nb_timesteps = 2\n",
    "\n",
    "os.environ[\"CUDA_DEVICE_ORDER\"]=\"PCI_BUS_ID\"\n",
    "os.environ[\"CUDA_VISIBLE_DEVICES\"]=\"2,4\"\n",
    "gpu = [0,1]\n",
    "num_workers = 10\n",
    "pin_memory = True\n",
    "\n",
    "nb_epochs = 20\n",
    "learning_rate = 8e-3\n",
    "\n",
    "obs = xr.open_mfdataset(pred_save_path + 'observations_nearest.nc', combine='by_coords', chunks={'time':chunk_size})\n",
    "rmses_weyn = xr.open_dataset(datadir + 'metrics/rmses_weyn.nc')"
   ]
  },
  {
   "cell_type": "markdown",
   "metadata": {},
   "source": [
    "#### Define functions"
   ]
  },
  {
   "cell_type": "markdown",
   "metadata": {},
   "source": [
    "#### Load data"
   ]
  },
  {
   "cell_type": "code",
   "execution_count": 10,
   "metadata": {},
   "outputs": [],
   "source": [
    "# z500, t850, orog, lats, lsm, slt, rad\n",
    "#feature_idx = [0, 1]\n",
    "ds = xr.merge([z500, t850, rad], compat='override')\n",
    "#ds = xr.merge([z500, t850, orog, lats, lsm, slt, rad], compat='override')\n",
    "\n",
    "ds_train = ds.sel(time=slice(*train_years))\n",
    "ds_valid = ds.sel(time=slice(*val_years))\n",
    "ds_test = ds.sel(time=slice(*test_years))\n"
   ]
  },
  {
   "cell_type": "markdown",
   "metadata": {},
   "source": [
    "#### Define model parameters"
   ]
  },
  {
   "cell_type": "code",
   "execution_count": 11,
   "metadata": {},
   "outputs": [],
   "source": [
    "# define length of sequence to take into account for loss\n",
    "len_sqce = 2\n",
    "# define time resolution\n",
    "delta_t = 6\n",
    "\n",
    "# predict 5days data\n",
    "max_lead_time = 5*24\n",
    "in_features = 7\n",
    "out_features = 2\n",
    "\n",
    "batch_size = 100"
   ]
  },
  {
   "cell_type": "code",
   "execution_count": 12,
   "metadata": {},
   "outputs": [],
   "source": [
    "#description = \"no_const\"\n",
    "description = \"all_const_last_model\"\n",
    "\n",
    "model_filename = model_save_path + \"spherical_unet_\" + description + \".h5\"\n",
    "pred_filename = pred_save_path + \"spherical_unet_\" + description + \".nc\"\n",
    "rmse_filename = datadir + 'metrics/rmse_' + description + '.nc'"
   ]
  },
  {
   "cell_type": "code",
   "execution_count": 13,
   "metadata": {},
   "outputs": [
    {
     "name": "stdout",
     "output_type": "stream",
     "text": [
      "Loading data to RAM...\n",
      "Time: 7.16s\n",
      "Loading data to RAM...\n",
      "Time: 5.65s\n"
     ]
    }
   ],
   "source": [
    "# Train and validation data\n",
    "training_ds = WeatherBenchDatasetXarrayHealpixTemp(ds=ds_train, out_features=out_features, delta_t=delta_t,\n",
    "                                                   len_sqce=len_sqce, max_lead_time=max_lead_time,\n",
    "                                                   years=train_years, nodes=nodes, nb_timesteps=nb_timesteps, \n",
    "                                                   mean=train_mean_, std=train_std_, load=False)\n",
    "validation_ds = WeatherBenchDatasetXarrayHealpixTemp(ds=ds_valid, out_features=out_features, delta_t=delta_t,\n",
    "                                                     len_sqce=len_sqce, max_lead_time=max_lead_time,\n",
    "                                                     years=val_years, nodes=nodes, nb_timesteps=nb_timesteps, \n",
    "                                                     mean=train_mean_, std=train_std_, load=False)\n",
    "\n",
    "dl_train = DataLoader(training_ds, batch_size=batch_size, shuffle=True, num_workers=num_workers,\\\n",
    "                      pin_memory=pin_memory)\n",
    "\n",
    "dl_val = DataLoader(validation_ds, batch_size=batch_size*2, shuffle=False, num_workers=num_workers,\\\n",
    "                    pin_memory=pin_memory)"
   ]
  },
  {
   "cell_type": "code",
   "execution_count": 14,
   "metadata": {},
   "outputs": [],
   "source": [
    "# Model\n",
    "#spherical_unet = UNetSphericalTempHealpix(N=nodes, len_sqce=len_sqce, in_channels=in_features, out_channels=out_features, graph_width=3)\n",
    "\n",
    "spherical_unet = UNetSphericalHealpix(N=nodes, in_channels=in_features*len_sqce, out_channels=out_features, kernel_size=3)\n",
    "spherical_unet, device = init_device(spherical_unet, gpu=gpu)\n"
   ]
  },
  {
   "cell_type": "markdown",
   "metadata": {},
   "source": [
    "Train and test. Plot results"
   ]
  },
  {
   "cell_type": "code",
   "execution_count": 15,
   "metadata": {},
   "outputs": [],
   "source": [
    "epochs=30\n",
    "lr = 8e-3"
   ]
  },
  {
   "cell_type": "code",
   "execution_count": 16,
   "metadata": {},
   "outputs": [],
   "source": [
    "constants_tensor = torch.tensor(xr.merge([orog, lats, lsm, slt], compat='override').to_array().values, \\\n",
    "                            dtype=torch.float)"
   ]
  },
  {
   "cell_type": "code",
   "execution_count": 17,
   "metadata": {},
   "outputs": [
    {
     "name": "stdout",
     "output_type": "stream",
     "text": [
      "Batch idx: 300; Loss: 0.341Epoch:   1/ 30  - loss: 0.305  - val_loss: 0.09455  - time: 451.152917\n",
      "Batch idx: 300; Loss: 0.074Epoch:   2/ 30  - loss: 0.073  - val_loss: 0.06817  - time: 445.229704\n",
      "Batch idx: 300; Loss: 0.062Epoch:   3/ 30  - loss: 0.061  - val_loss: 0.06630  - time: 445.071085\n",
      "Batch idx: 300; Loss: 0.054Epoch:   4/ 30  - loss: 0.054  - val_loss: 0.05698  - time: 445.561874\n",
      "Batch idx: 300; Loss: 0.051Epoch:   5/ 30  - loss: 0.050  - val_loss: 0.05420  - time: 446.388835\n",
      "Batch idx: 300; Loss: 0.048Epoch:   6/ 30  - loss: 0.048  - val_loss: 0.06071  - time: 445.497865\n",
      "Batch idx: 300; Loss: 0.047Epoch:   7/ 30  - loss: 0.046  - val_loss: 0.05608  - time: 444.623941\n",
      "Batch idx: 300; Loss: 0.045Epoch:   8/ 30  - loss: 0.045  - val_loss: 0.05037  - time: 445.925630\n",
      "Batch idx: 300; Loss: 0.043Epoch:   9/ 30  - loss: 0.043  - val_loss: 0.04900  - time: 445.681324\n",
      "Batch idx: 300; Loss: 0.043Epoch:  10/ 30  - loss: 0.043  - val_loss: 0.05219  - time: 445.926628\n",
      "Batch idx: 300; Loss: 0.041Epoch:  11/ 30  - loss: 0.041  - val_loss: 0.04690  - time: 445.071119\n",
      "Batch idx: 300; Loss: 0.041Epoch:  12/ 30  - loss: 0.041  - val_loss: 0.04892  - time: 445.952678\n",
      "Batch idx: 300; Loss: 0.041Epoch:  13/ 30  - loss: 0.041  - val_loss: 0.07995  - time: 445.282016\n",
      "Batch idx: 300; Loss: 0.040Epoch:  14/ 30  - loss: 0.040  - val_loss: 0.06026  - time: 446.940576\n",
      "Batch idx: 300; Loss: 0.040Epoch:  15/ 30  - loss: 0.040  - val_loss: 0.05185  - time: 449.483434\n",
      "Batch idx: 300; Loss: 0.039Epoch:  16/ 30  - loss: 0.038  - val_loss: 0.04579  - time: 445.805435\n",
      "Batch idx: 300; Loss: 0.038Epoch:  17/ 30  - loss: 0.038  - val_loss: 0.04697  - time: 446.062489\n",
      "Batch idx: 300; Loss: 0.038Epoch:  18/ 30  - loss: 0.038  - val_loss: 0.05649  - time: 448.031107\n",
      "Batch idx: 300; Loss: 0.038Epoch:  19/ 30  - loss: 0.037  - val_loss: 0.04687  - time: 446.687042\n",
      "Batch idx: 300; Loss: 0.036Epoch:  20/ 30  - loss: 0.036  - val_loss: 0.06196  - time: 445.954200\n",
      "Batch idx: 300; Loss: 0.038Epoch:  21/ 30  - loss: 0.037  - val_loss: 0.05874  - time: 446.975448\n",
      "Batch idx: 300; Loss: 0.036Epoch:  22/ 30  - loss: 0.036  - val_loss: 0.05738  - time: 447.088747\n",
      "Batch idx: 300; Loss: 0.035Epoch:  23/ 30  - loss: 0.035  - val_loss: 0.05219  - time: 447.118049\n",
      "Batch idx: 300; Loss: 0.035Epoch:  24/ 30  - loss: 0.035  - val_loss: 0.04972  - time: 445.778913\n",
      "Batch idx: 300; Loss: 0.035Epoch:  25/ 30  - loss: 0.035  - val_loss: 0.04776  - time: 446.229448\n",
      "Batch idx: 300; Loss: 0.035Epoch:  26/ 30  - loss: 0.035  - val_loss: 0.05450  - time: 447.148985\n",
      "Batch idx: 300; Loss: 0.035Epoch:  27/ 30  - loss: 0.035  - val_loss: 0.04266  - time: 446.159412\n",
      "Batch idx: 300; Loss: 0.034Epoch:  28/ 30  - loss: 0.034  - val_loss: 0.04607  - time: 446.359696\n",
      "Batch idx: 300; Loss: 0.034Epoch:  29/ 30  - loss: 0.034  - val_loss: 0.04357  - time: 446.555778\n",
      "Batch idx: 300; Loss: 0.034Epoch:  30/ 30  - loss: 0.034  - val_loss: 0.04232  - time: 446.818209\n"
     ]
    }
   ],
   "source": [
    "# Train model\n",
    "train_loss, val_loss = train_model_2steps(spherical_unet, device, training_ds, constants_tensor.transpose(1,0), \\\n",
    "                                          batch_size=150, epochs=epochs, \\\n",
    "                                           lr=learning_rate, validation_ds=validation_ds)\n",
    "\n"
   ]
  },
  {
   "cell_type": "code",
   "execution_count": 18,
   "metadata": {},
   "outputs": [
    {
     "data": {
      "image/png": "[encoded data removed]",
      "text/plain": [
       "<Figure size 432x288 with 1 Axes>"
      ]
     },
     "metadata": {
      "needs_background": "light"
     },
     "output_type": "display_data"
    }
   ],
   "source": [
    "# Show training losses\n",
    "plt.plot(train_loss, label='Training loss')\n",
    "plt.plot(val_loss, label='Validation loss')\n",
    "plt.xlabel('Epochs')\n",
    "plt.ylabel('MSE Loss')\n",
    "plt.legend()\n",
    "plt.show()\n",
    "\n",
    "del dl_train, dl_val, training_ds, validation_ds\n",
    "torch.cuda.empty_cache()"
   ]
  },
  {
   "cell_type": "markdown",
   "metadata": {},
   "source": [
    "### Use 15 years of data"
   ]
  },
  {
   "cell_type": "code",
   "execution_count": 19,
   "metadata": {},
   "outputs": [],
   "source": [
    "train_years = ('1997', '2012')#('1979', '2012')\n",
    "val_years = ('2013', '2016')\n",
    "test_years = ('2017', '2018')\n"
   ]
  },
  {
   "cell_type": "markdown",
   "metadata": {},
   "source": [
    "#### Define functions"
   ]
  },
  {
   "cell_type": "markdown",
   "metadata": {},
   "source": [
    "#### Load data"
   ]
  },
  {
   "cell_type": "code",
   "execution_count": 20,
   "metadata": {},
   "outputs": [],
   "source": [
    "# z500, t850, orog, lats, lsm, slt, rad\n",
    "#feature_idx = [0, 1]\n",
    "ds = xr.merge([z500, t850, rad], compat='override')\n",
    "#ds = xr.merge([z500, t850, orog, lats, lsm, slt, rad], compat='override')\n",
    "\n",
    "ds_train = ds.sel(time=slice(*train_years))\n",
    "ds_valid = ds.sel(time=slice(*val_years))\n",
    "ds_test = ds.sel(time=slice(*test_years))\n"
   ]
  },
  {
   "cell_type": "markdown",
   "metadata": {},
   "source": [
    "#### Define model parameters"
   ]
  },
  {
   "cell_type": "code",
   "execution_count": 21,
   "metadata": {},
   "outputs": [
    {
     "name": "stdout",
     "output_type": "stream",
     "text": [
      "Loading data to RAM...\n",
      "Time: 20.78s\n",
      "Loading data to RAM...\n",
      "Time: 4.91s\n"
     ]
    }
   ],
   "source": [
    "# Train and validation data\n",
    "training_ds = WeatherBenchDatasetXarrayHealpixTemp(ds=ds_train, out_features=out_features, delta_t=delta_t,\n",
    "                                                   len_sqce=len_sqce, max_lead_time=max_lead_time,\n",
    "                                                   years=train_years, nodes=nodes, nb_timesteps=nb_timesteps, \n",
    "                                                   mean=train_mean_, std=train_std_, load=False)\n",
    "validation_ds = WeatherBenchDatasetXarrayHealpixTemp(ds=ds_valid, out_features=out_features, delta_t=delta_t,\n",
    "                                                     len_sqce=len_sqce, max_lead_time=max_lead_time,\n",
    "                                                     years=val_years, nodes=nodes, nb_timesteps=nb_timesteps, \n",
    "                                                     mean=train_mean_, std=train_std_, load=False)\n",
    "\n",
    "dl_train = DataLoader(training_ds, batch_size=batch_size, shuffle=True, num_workers=num_workers,\\\n",
    "                      pin_memory=pin_memory)\n",
    "\n",
    "dl_val = DataLoader(validation_ds, batch_size=batch_size*2, shuffle=False, num_workers=num_workers,\\\n",
    "                    pin_memory=pin_memory)"
   ]
  },
  {
   "cell_type": "code",
   "execution_count": 22,
   "metadata": {},
   "outputs": [],
   "source": [
    "# Model\n",
    "#spherical_unet = UNetSphericalTempHealpix(N=nodes, len_sqce=len_sqce, in_channels=in_features, out_channels=out_features, graph_width=3)\n",
    "\n",
    "spherical_unet = UNetSphericalHealpix(N=nodes, in_channels=in_features*len_sqce, out_channels=out_features, kernel_size=3)\n",
    "spherical_unet, device = init_device(spherical_unet, gpu=gpu)\n"
   ]
  },
  {
   "cell_type": "markdown",
   "metadata": {},
   "source": [
    "Train and test. Plot results"
   ]
  },
  {
   "cell_type": "code",
   "execution_count": 23,
   "metadata": {},
   "outputs": [
    {
     "name": "stdout",
     "output_type": "stream",
     "text": [
      "Batch idx: 900; Loss: 0.180Epoch:   1/ 30  - loss: 0.176  - val_loss: 0.07593  - time: 1013.196088\n",
      "Batch idx: 900; Loss: 0.053Epoch:   2/ 30  - loss: 0.053  - val_loss: 0.05936  - time: 1014.286102\n",
      "Batch idx: 900; Loss: 0.047Epoch:   3/ 30  - loss: 0.047  - val_loss: 0.07844  - time: 1016.878074\n",
      "Batch idx: 900; Loss: 0.044Epoch:   4/ 30  - loss: 0.044  - val_loss: 0.05426  - time: 1022.836993\n",
      "Batch idx: 900; Loss: 0.042Epoch:   5/ 30  - loss: 0.042  - val_loss: 0.08834  - time: 1011.416280\n",
      "Batch idx: 900; Loss: 0.040Epoch:   6/ 30  - loss: 0.040  - val_loss: 0.05603  - time: 1009.841834\n",
      "Batch idx: 900; Loss: 0.039Epoch:   7/ 30  - loss: 0.039  - val_loss: 0.04716  - time: 1010.254716\n",
      "Batch idx: 900; Loss: 0.038Epoch:   8/ 30  - loss: 0.038  - val_loss: 0.04218  - time: 1009.628961\n",
      "Batch idx: 900; Loss: 0.036Epoch:   9/ 30  - loss: 0.036  - val_loss: 0.05441  - time: 1002.185333\n",
      "Batch idx: 900; Loss: 0.035Epoch:  10/ 30  - loss: 0.035  - val_loss: 0.04574  - time: 1010.720766\n",
      "Batch idx: 900; Loss: 0.034Epoch:  11/ 30  - loss: 0.034  - val_loss: 0.04241  - time: 1016.385140\n",
      "Batch idx: 900; Loss: 0.034Epoch:  12/ 30  - loss: 0.034  - val_loss: 0.04047  - time: 1016.086009\n",
      "Batch idx: 900; Loss: 0.034Epoch:  13/ 30  - loss: 0.034  - val_loss: 0.04278  - time: 1015.836252\n",
      "Batch idx: 900; Loss: 0.033Epoch:  14/ 30  - loss: 0.033  - val_loss: 0.03916  - time: 1016.910717\n",
      "Batch idx: 900; Loss: 0.033Epoch:  15/ 30  - loss: 0.033  - val_loss: 0.04002  - time: 1004.119079\n",
      "Batch idx: 900; Loss: 0.033Epoch:  16/ 30  - loss: 0.033  - val_loss: 0.04233  - time: 1006.209651\n",
      "Batch idx: 900; Loss: 0.032Epoch:  17/ 30  - loss: 0.032  - val_loss: 0.04840  - time: 1014.023977\n",
      "Batch idx: 900; Loss: 0.032Epoch:  18/ 30  - loss: 0.032  - val_loss: 0.04083  - time: 1004.621844\n",
      "Batch idx: 900; Loss: 0.032Epoch:  19/ 30  - loss: 0.032  - val_loss: 0.04399  - time: 1015.758439\n",
      "Batch idx: 900; Loss: 0.032Epoch:  20/ 30  - loss: 0.032  - val_loss: 0.03791  - time: 1014.943832\n",
      "Batch idx: 900; Loss: 0.031Epoch:  21/ 30  - loss: 0.031  - val_loss: 0.04118  - time: 1025.390103\n",
      "Batch idx: 900; Loss: 0.031Epoch:  22/ 30  - loss: 0.031  - val_loss: 0.03750  - time: 1014.482528\n",
      "Batch idx: 900; Loss: 0.031Epoch:  23/ 30  - loss: 0.031  - val_loss: 0.03859  - time: 1010.330000\n",
      "Batch idx: 900; Loss: 0.031Epoch:  24/ 30  - loss: 0.031  - val_loss: 0.03986  - time: 1019.436701\n",
      "Batch idx: 900; Loss: 0.031Epoch:  25/ 30  - loss: 0.031  - val_loss: 0.03707  - time: 1009.234332\n",
      "Batch idx: 900; Loss: 0.031Epoch:  26/ 30  - loss: 0.031  - val_loss: 0.03792  - time: 1011.151278\n",
      "Batch idx: 900; Loss: 0.031Epoch:  27/ 30  - loss: 0.031  - val_loss: 0.03955  - time: 1010.481204\n",
      "Batch idx: 900; Loss: 0.031Epoch:  28/ 30  - loss: 0.031  - val_loss: 0.03879  - time: 1020.928168\n",
      "Batch idx: 900; Loss: 0.031Epoch:  29/ 30  - loss: 0.031  - val_loss: 0.03810  - time: 1008.984685\n",
      "Batch idx: 900; Loss: 0.031Epoch:  30/ 30  - loss: 0.031  - val_loss: 0.03835  - time: 1015.046370\n"
     ]
    }
   ],
   "source": [
    "# Train model\n",
    "train_loss, val_loss = train_model_2steps(spherical_unet, device, training_ds, \\\n",
    "                                          constants_tensor.transpose(1,0), batch_size=150, epochs=30, \\\n",
    "                                           lr=learning_rate, validation_ds=validation_ds)\n"
   ]
  },
  {
   "cell_type": "code",
   "execution_count": 24,
   "metadata": {},
   "outputs": [
    {
     "data": {
      "image/png": "[encoded data removed]",
      "text/plain": [
       "<Figure size 432x288 with 1 Axes>"
      ]
     },
     "metadata": {
      "needs_background": "light"
     },
     "output_type": "display_data"
    }
   ],
   "source": [
    "# Show training losses\n",
    "plt.plot(train_loss, label='Training loss')\n",
    "plt.plot(val_loss, label='Validation loss')\n",
    "plt.xlabel('Epochs')\n",
    "plt.ylabel('MSE Loss')\n",
    "plt.legend()\n",
    "plt.show()\n",
    "\n",
    "del dl_train, dl_val, training_ds, validation_ds\n",
    "torch.cuda.empty_cache()"
   ]
  },
  {
   "cell_type": "markdown",
   "metadata": {},
   "source": [
    "### Use 25 years of data"
   ]
  },
  {
   "cell_type": "code",
   "execution_count": 25,
   "metadata": {},
   "outputs": [],
   "source": [
    "train_years = ('1987', '2012')#('1979', '2012')\n",
    "val_years = ('2013', '2016')\n",
    "test_years = ('2017', '2018')\n"
   ]
  },
  {
   "cell_type": "markdown",
   "metadata": {},
   "source": [
    "#### Define functions"
   ]
  },
  {
   "cell_type": "markdown",
   "metadata": {},
   "source": [
    "#### Load data"
   ]
  },
  {
   "cell_type": "code",
   "execution_count": 26,
   "metadata": {},
   "outputs": [],
   "source": [
    "# z500, t850, orog, lats, lsm, slt, rad\n",
    "#feature_idx = [0, 1]\n",
    "ds = xr.merge([z500, t850, rad], compat='override')\n",
    "#ds = xr.merge([z500, t850, orog, lats, lsm, slt, rad], compat='override')\n",
    "\n",
    "ds_train = ds.sel(time=slice(*train_years))\n",
    "ds_valid = ds.sel(time=slice(*val_years))\n",
    "ds_test = ds.sel(time=slice(*test_years))\n"
   ]
  },
  {
   "cell_type": "markdown",
   "metadata": {},
   "source": [
    "#### Define model parameters"
   ]
  },
  {
   "cell_type": "code",
   "execution_count": 27,
   "metadata": {},
   "outputs": [
    {
     "name": "stdout",
     "output_type": "stream",
     "text": [
      "Loading data to RAM...\n",
      "Time: 33.83s\n",
      "Loading data to RAM...\n",
      "Time: 4.31s\n"
     ]
    }
   ],
   "source": [
    "# Train and validation data\n",
    "training_ds = WeatherBenchDatasetXarrayHealpixTemp(ds=ds_train, out_features=out_features, delta_t=delta_t,\n",
    "                                                   len_sqce=len_sqce, max_lead_time=max_lead_time,\n",
    "                                                   years=train_years, nodes=nodes, nb_timesteps=nb_timesteps, \n",
    "                                                   mean=train_mean_, std=train_std_, load=False)\n",
    "validation_ds = WeatherBenchDatasetXarrayHealpixTemp(ds=ds_valid, out_features=out_features, delta_t=delta_t,\n",
    "                                                     len_sqce=len_sqce, max_lead_time=max_lead_time,\n",
    "                                                     years=val_years, nodes=nodes, nb_timesteps=nb_timesteps, \n",
    "                                                     mean=train_mean_, std=train_std_, load=False)\n",
    "\n",
    "dl_train = DataLoader(training_ds, batch_size=batch_size, shuffle=True, num_workers=num_workers,\\\n",
    "                      pin_memory=pin_memory)\n",
    "\n",
    "dl_val = DataLoader(validation_ds, batch_size=batch_size*2, shuffle=False, num_workers=num_workers,\\\n",
    "                    pin_memory=pin_memory)"
   ]
  },
  {
   "cell_type": "code",
   "execution_count": 28,
   "metadata": {},
   "outputs": [],
   "source": [
    "# Model\n",
    "#spherical_unet = UNetSphericalTempHealpix(N=nodes, len_sqce=len_sqce, in_channels=in_features, out_channels=out_features, graph_width=3)\n",
    "\n",
    "spherical_unet = UNetSphericalHealpix(N=nodes, in_channels=in_features*len_sqce, out_channels=out_features, kernel_size=3)\n",
    "spherical_unet, device = init_device(spherical_unet, gpu=gpu)\n"
   ]
  },
  {
   "cell_type": "markdown",
   "metadata": {},
   "source": [
    "Train and test. Plot results"
   ]
  },
  {
   "cell_type": "code",
   "execution_count": 29,
   "metadata": {},
   "outputs": [
    {
     "name": "stdout",
     "output_type": "stream",
     "text": [
      "Batch idx: 2250; Loss: 0.103Epoch:   1/ 15  - loss: 0.102  - val_loss: 0.05662  - time: 1449.496799\n",
      "Batch idx: 2250; Loss: 0.046Epoch:   2/ 15  - loss: 0.046  - val_loss: 0.06153  - time: 1447.978265\n",
      "Batch idx: 2250; Loss: 0.040Epoch:   3/ 15  - loss: 0.040  - val_loss: 0.06191  - time: 1447.315451\n",
      "Batch idx: 2250; Loss: 0.037Epoch:   4/ 15  - loss: 0.037  - val_loss: 0.04623  - time: 1447.489559\n",
      "Batch idx: 2250; Loss: 0.036Epoch:   5/ 15  - loss: 0.036  - val_loss: 0.05389  - time: 1448.982391\n",
      "Batch idx: 2250; Loss: 0.034Epoch:   6/ 15  - loss: 0.034  - val_loss: 0.04010  - time: 1449.442725\n",
      "Batch idx: 2250; Loss: 0.034Epoch:   7/ 15  - loss: 0.034  - val_loss: 0.04049  - time: 1450.100492\n",
      "Batch idx: 2250; Loss: 0.033Epoch:   8/ 15  - loss: 0.033  - val_loss: 0.03850  - time: 1450.498501\n",
      "Batch idx: 2250; Loss: 0.033Epoch:   9/ 15  - loss: 0.033  - val_loss: 0.04047  - time: 1447.825625\n",
      "Batch idx: 2250; Loss: 0.033Epoch:  10/ 15  - loss: 0.033  - val_loss: 0.04217  - time: 1447.785420\n",
      "Batch idx: 2250; Loss: 0.032Epoch:  11/ 15  - loss: 0.032  - val_loss: 0.04016  - time: 1449.541712\n",
      "Batch idx: 2250; Loss: 0.032Epoch:  12/ 15  - loss: 0.032  - val_loss: 0.03823  - time: 1447.819944\n",
      "Batch idx: 2250; Loss: 0.032Epoch:  13/ 15  - loss: 0.032  - val_loss: 0.03915  - time: 1451.273772\n",
      "Batch idx: 2250; Loss: 0.031Epoch:  14/ 15  - loss: 0.031  - val_loss: 0.04163  - time: 1467.106517\n",
      "Batch idx: 2250; Loss: 0.031Epoch:  15/ 15  - loss: 0.031  - val_loss: 0.03702  - time: 1478.535650\n"
     ]
    }
   ],
   "source": [
    "# Train model\n",
    "train_loss, val_loss = train_model_2steps(spherical_unet, device, training_ds, constants_tensor.transpose(1,0), batch_size=100, epochs=15, \\\n",
    "                                           lr=learning_rate, validation_ds=validation_ds)\n"
   ]
  },
  {
   "cell_type": "code",
   "execution_count": 30,
   "metadata": {},
   "outputs": [
    {
     "data": {
      "image/png": "[encoded data removed]",
      "text/plain": [
       "<Figure size 432x288 with 1 Axes>"
      ]
     },
     "metadata": {
      "needs_background": "light"
     },
     "output_type": "display_data"
    }
   ],
   "source": [
    "# Show training losses\n",
    "plt.plot(train_loss, label='Training loss')\n",
    "plt.plot(val_loss, label='Validation loss')\n",
    "plt.xlabel('Epochs')\n",
    "plt.ylabel('MSE Loss')\n",
    "plt.legend()\n",
    "plt.show()\n",
    "\n",
    "del dl_train, dl_val, training_ds, validation_ds\n",
    "torch.cuda.empty_cache()"
   ]
  }
 ],
 "metadata": {
  "kernelspec": {
   "display_name": "Python 3",
   "language": "python",
   "name": "python3"
  },
  "language_info": {
   "codemirror_mode": {
    "name": "ipython",
    "version": 3
   },
   "file_extension": ".py",
   "mimetype": "text/x-python",
   "name": "python",
   "nbconvert_exporter": "python",
   "pygments_lexer": "ipython3",
   "version": "3.7.7"
  }
 },
 "nbformat": 4,
 "nbformat_minor": 4
}
