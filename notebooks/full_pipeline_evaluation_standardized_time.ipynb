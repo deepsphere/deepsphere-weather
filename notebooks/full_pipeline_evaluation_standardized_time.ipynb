{
 "cells": [
  {
   "cell_type": "markdown",
   "metadata": {},
   "source": [
    "run original architecture - partial train data"
   ]
  },
  {
   "cell_type": "code",
   "execution_count": 1,
   "metadata": {},
   "outputs": [],
   "source": [
    "%load_ext autoreload\n",
    "%autoreload 2"
   ]
  },
  {
   "cell_type": "code",
   "execution_count": 4,
   "metadata": {},
   "outputs": [],
   "source": [
    "import sys\n",
    "sys.path.append('/'.join(sys.path[0].split('/')[:-1]))\n",
    "\n",
    "from modules.full_pipeline_evaluation import main"
   ]
  },
  {
   "cell_type": "markdown",
   "metadata": {},
   "source": [
    "## Output after first pass with original architecture and data standardized based on monthly statistics"
   ]
  },
  {
   "cell_type": "code",
   "execution_count": 3,
   "metadata": {},
   "outputs": [
    {
     "name": "stdout",
     "output_type": "stream",
     "text": [
      "Reading confing file and set up folders...\n",
      "Load data files...\n"
     ]
    },
    {
     "name": "stderr",
     "output_type": "stream",
     "text": [
      "/home/bolon/miniconda3/envs/weather/lib/python3.7/site-packages/dask/core.py:121: RuntimeWarning: invalid value encountered in true_divide\n",
      "  return func(*(_execute_task(a, cache) for a in args))\n",
      "/home/bolon/miniconda3/envs/weather/lib/python3.7/site-packages/dask/core.py:121: RuntimeWarning: invalid value encountered in true_divide\n",
      "  return func(*(_execute_task(a, cache) for a in args))\n"
     ]
    },
    {
     "name": "stdout",
     "output_type": "stream",
     "text": [
      "Loading data to RAM...\n"
     ]
    },
    {
     "name": "stderr",
     "output_type": "stream",
     "text": [
      "/home/bolon/miniconda3/envs/weather/lib/python3.7/site-packages/dask/core.py:121: RuntimeWarning: invalid value encountered in true_divide\n",
      "  return func(*(_execute_task(a, cache) for a in args))\n"
     ]
    },
    {
     "name": "stdout",
     "output_type": "stream",
     "text": [
      "Time: 34.14s\n"
     ]
    },
    {
     "name": "stderr",
     "output_type": "stream",
     "text": [
      "/home/bolon/miniconda3/envs/weather/lib/python3.7/site-packages/dask/core.py:121: RuntimeWarning: invalid value encountered in true_divide\n",
      "  return func(*(_execute_task(a, cache) for a in args))\n",
      "/home/bolon/miniconda3/envs/weather/lib/python3.7/site-packages/dask/core.py:121: RuntimeWarning: invalid value encountered in true_divide\n",
      "  return func(*(_execute_task(a, cache) for a in args))\n"
     ]
    },
    {
     "name": "stdout",
     "output_type": "stream",
     "text": [
      "Loading data to RAM...\n"
     ]
    },
    {
     "name": "stderr",
     "output_type": "stream",
     "text": [
      "/home/bolon/miniconda3/envs/weather/lib/python3.7/site-packages/dask/core.py:121: RuntimeWarning: invalid value encountered in true_divide\n",
      "  return func(*(_execute_task(a, cache) for a in args))\n"
     ]
    },
    {
     "name": "stdout",
     "output_type": "stream",
     "text": [
      "Time: 6.12s\n",
      "Define model...\n",
      "Train model...\n",
      "Epoch : 0"
     ]
    }
   ],
   "source": [
    "training_ds, batch1, batch2, output1, output2 = main()"
   ]
  },
  {
   "cell_type": "code",
   "execution_count": 4,
   "metadata": {},
   "outputs": [
    {
     "data": {
      "text/plain": [
       "tensor([[[-2.7417, -0.9732, -0.8322,  ...,  0.0612,  1.5666,  1.8796],\n",
       "         [-2.7273, -1.0314, -0.8073,  ...,  0.1223,  0.5305,  0.5726],\n",
       "         [-3.0948, -1.3137, -0.8365,  ...,  0.1223,  1.7418,  1.4749],\n",
       "         ...,\n",
       "         [-0.1172, -0.2636, -0.8247,  ..., -0.1220,  0.9766,  0.8882],\n",
       "         [-0.1394, -0.6999, -0.8247,  ..., -0.1220,  1.7180,  1.9259],\n",
       "         [-0.1639, -0.4418, -0.8262,  ..., -0.0609,  1.5136,  1.8794]],\n",
       "\n",
       "        [[-1.0580,  1.9544,  0.1291,  ...,  0.0612,  1.5666,  1.8796],\n",
       "         [-1.0473,  1.2064, -0.0188,  ...,  0.1223,  0.5305,  0.5726],\n",
       "         [-1.0173,  1.9259,  0.2265,  ...,  0.1223,  1.7418,  1.4749],\n",
       "         ...,\n",
       "         [ 0.9470, -0.9927,  1.6042,  ..., -0.1220,  0.9766,  0.8882],\n",
       "         [ 1.3995, -0.4889,  1.5115,  ..., -0.1220,  1.7180,  1.9259],\n",
       "         [ 1.0788, -1.1414,  1.5665,  ..., -0.0609,  1.5136,  1.8794]],\n",
       "\n",
       "        [[ 0.8247, -1.4578, -0.8323,  ...,  0.0612,  1.5666,  1.8796],\n",
       "         [ 0.7983, -0.8014, -0.8369,  ...,  0.1223,  0.5305,  0.5726],\n",
       "         [ 0.7385, -0.4202, -0.8369,  ...,  0.1223,  1.7418,  1.4749],\n",
       "         ...,\n",
       "         [-1.3410, -0.4214,  1.0660,  ..., -0.1220,  0.9766,  0.8882],\n",
       "         [-1.1912, -0.2457,  1.2224,  ..., -0.1220,  1.7180,  1.9259],\n",
       "         [-1.0363, -0.0881,  1.1564,  ..., -0.0609,  1.5136,  1.8794]],\n",
       "\n",
       "        ...,\n",
       "\n",
       "        [[-0.1398, -2.0668,  1.7166,  ...,  0.0612,  1.5666,  1.8796],\n",
       "         [ 0.0927, -1.0940,  1.7399,  ...,  0.1223,  0.5305,  0.5726],\n",
       "         [ 0.4351, -0.6386,  1.6980,  ...,  0.1223,  1.7418,  1.4749],\n",
       "         ...,\n",
       "         [ 0.3080,  0.6844, -0.8169,  ..., -0.1220,  0.9766,  0.8882],\n",
       "         [ 0.0207, -0.0560, -0.8436,  ..., -0.1220,  1.7180,  1.9259],\n",
       "         [ 0.0405,  0.0283, -0.8363,  ..., -0.0609,  1.5136,  1.8794]],\n",
       "\n",
       "        [[-0.4257,  0.9978,  0.8789,  ...,  0.0612,  1.5666,  1.8796],\n",
       "         [-0.5423,  0.9964,  0.7758,  ...,  0.1223,  0.5305,  0.5726],\n",
       "         [-0.4613,  1.9645,  0.9727,  ...,  0.1223,  1.7418,  1.4749],\n",
       "         ...,\n",
       "         [ 0.0109, -0.9070,  1.2153,  ..., -0.1220,  0.9766,  0.8882],\n",
       "         [ 0.2339, -0.6048,  1.0506,  ..., -0.1220,  1.7180,  1.9259],\n",
       "         [ 0.3412,  0.0656,  1.1361,  ..., -0.0609,  1.5136,  1.8794]],\n",
       "\n",
       "        [[ 0.7775,  0.1764, -0.8225,  ...,  0.0612,  1.5666,  1.8796],\n",
       "         [ 0.7840, -0.0469, -0.8169,  ...,  0.1223,  0.5305,  0.5726],\n",
       "         [ 0.7840, -0.4564, -0.8169,  ...,  0.1223,  1.7418,  1.4749],\n",
       "         ...,\n",
       "         [-0.7303,  0.8350,  1.1598,  ..., -0.1220,  0.9766,  0.8882],\n",
       "         [-0.6190, -0.0223,  1.3086,  ..., -0.1220,  1.7180,  1.9259],\n",
       "         [-0.8726, -0.0803,  1.2369,  ..., -0.0609,  1.5136,  1.8794]]],\n",
       "       device='cuda:0')"
      ]
     },
     "execution_count": 4,
     "metadata": {},
     "output_type": "execute_result"
    }
   ],
   "source": [
    "batch1"
   ]
  },
  {
   "cell_type": "code",
   "execution_count": 5,
   "metadata": {},
   "outputs": [
    {
     "data": {
      "text/plain": [
       "tensor([[[nan, nan],\n",
       "         [nan, nan],\n",
       "         [nan, nan],\n",
       "         ...,\n",
       "         [nan, nan],\n",
       "         [nan, nan],\n",
       "         [nan, nan]],\n",
       "\n",
       "        [[nan, nan],\n",
       "         [nan, nan],\n",
       "         [nan, nan],\n",
       "         ...,\n",
       "         [nan, nan],\n",
       "         [nan, nan],\n",
       "         [nan, nan]],\n",
       "\n",
       "        [[nan, nan],\n",
       "         [nan, nan],\n",
       "         [nan, nan],\n",
       "         ...,\n",
       "         [nan, nan],\n",
       "         [nan, nan],\n",
       "         [nan, nan]],\n",
       "\n",
       "        ...,\n",
       "\n",
       "        [[nan, nan],\n",
       "         [nan, nan],\n",
       "         [nan, nan],\n",
       "         ...,\n",
       "         [nan, nan],\n",
       "         [nan, nan],\n",
       "         [nan, nan]],\n",
       "\n",
       "        [[nan, nan],\n",
       "         [nan, nan],\n",
       "         [nan, nan],\n",
       "         ...,\n",
       "         [nan, nan],\n",
       "         [nan, nan],\n",
       "         [nan, nan]],\n",
       "\n",
       "        [[nan, nan],\n",
       "         [nan, nan],\n",
       "         [nan, nan],\n",
       "         ...,\n",
       "         [nan, nan],\n",
       "         [nan, nan],\n",
       "         [nan, nan]]], device='cuda:0', grad_fn=<AsStridedBackward>)"
      ]
     },
     "execution_count": 5,
     "metadata": {},
     "output_type": "execute_result"
    }
   ],
   "source": [
    "output1"
   ]
  },
  {
   "cell_type": "code",
   "execution_count": 6,
   "metadata": {},
   "outputs": [
    {
     "data": {
      "text/plain": [
       "tensor([[[    nan,     nan,  1.7530,  ...,  0.0612,  1.5666,  1.8796],\n",
       "         [    nan,     nan,  1.7612,  ...,  0.1223,  0.5305,  0.5726],\n",
       "         [    nan,     nan,  1.7276,  ...,  0.1223,  1.7418,  1.4749],\n",
       "         ...,\n",
       "         [    nan,     nan, -0.8073,  ..., -0.1220,  0.9766,  0.8882],\n",
       "         [    nan,     nan, -0.8247,  ..., -0.1220,  1.7180,  1.9259],\n",
       "         [    nan,     nan, -0.8262,  ..., -0.0609,  1.5136,  1.8794]],\n",
       "\n",
       "        [[    nan,     nan, -0.8225,  ...,  0.0612,  1.5666,  1.8796],\n",
       "         [    nan,     nan, -0.8169,  ...,  0.1223,  0.5305,  0.5726],\n",
       "         [    nan,     nan, -0.8169,  ...,  0.1223,  1.7418,  1.4749],\n",
       "         ...,\n",
       "         [    nan,     nan,  0.0767,  ..., -0.1220,  0.9766,  0.8882],\n",
       "         [    nan,     nan,  0.3039,  ..., -0.1220,  1.7180,  1.9259],\n",
       "         [    nan,     nan,  0.1727,  ..., -0.0609,  1.5136,  1.8794]],\n",
       "\n",
       "        [[    nan,     nan, -0.8323,  ...,  0.0612,  1.5666,  1.8796],\n",
       "         [    nan,     nan, -0.8369,  ...,  0.1223,  0.5305,  0.5726],\n",
       "         [    nan,     nan, -0.8369,  ...,  0.1223,  1.7418,  1.4749],\n",
       "         ...,\n",
       "         [    nan,     nan, -0.8247,  ..., -0.1220,  0.9766,  0.8882],\n",
       "         [    nan,     nan, -0.8247,  ..., -0.1220,  1.7180,  1.9259],\n",
       "         [    nan,     nan, -0.8262,  ..., -0.0609,  1.5136,  1.8794]],\n",
       "\n",
       "        ...,\n",
       "\n",
       "        [[    nan,     nan, -0.4517,  ...,  0.0612,  1.5666,  1.8796],\n",
       "         [    nan,     nan, -0.5864,  ...,  0.1223,  0.5305,  0.5726],\n",
       "         [    nan,     nan, -0.3564,  ...,  0.1223,  1.7418,  1.4749],\n",
       "         ...,\n",
       "         [    nan,     nan,  1.7168,  ..., -0.1220,  0.9766,  0.8882],\n",
       "         [    nan,     nan,  1.6778,  ..., -0.1220,  1.7180,  1.9259],\n",
       "         [    nan,     nan,  1.7054,  ..., -0.0609,  1.5136,  1.8794]],\n",
       "\n",
       "        [[    nan,     nan, -0.8254,  ...,  0.0612,  1.5666,  1.8796],\n",
       "         [    nan,     nan, -0.8232,  ...,  0.1223,  0.5305,  0.5726],\n",
       "         [    nan,     nan, -0.8230,  ...,  0.1223,  1.7418,  1.4749],\n",
       "         ...,\n",
       "         [    nan,     nan,  0.7875,  ..., -0.1220,  0.9766,  0.8882],\n",
       "         [    nan,     nan,  0.9767,  ..., -0.1220,  1.7180,  1.9259],\n",
       "         [    nan,     nan,  0.8827,  ..., -0.0609,  1.5136,  1.8794]],\n",
       "\n",
       "        [[    nan,     nan, -0.8225,  ...,  0.0612,  1.5666,  1.8796],\n",
       "         [    nan,     nan, -0.8169,  ...,  0.1223,  0.5305,  0.5726],\n",
       "         [    nan,     nan, -0.8169,  ...,  0.1223,  1.7418,  1.4749],\n",
       "         ...,\n",
       "         [    nan,     nan, -0.8461,  ..., -0.1220,  0.9766,  0.8882],\n",
       "         [    nan,     nan, -0.8461,  ..., -0.1220,  1.7180,  1.9259],\n",
       "         [    nan,     nan, -0.8370,  ..., -0.0609,  1.5136,  1.8794]]],\n",
       "       device='cuda:0', grad_fn=<CatBackward>)"
      ]
     },
     "execution_count": 6,
     "metadata": {},
     "output_type": "execute_result"
    }
   ],
   "source": [
    "batch2"
   ]
  },
  {
   "cell_type": "code",
   "execution_count": null,
   "metadata": {},
   "outputs": [],
   "source": []
  },
  {
   "cell_type": "markdown",
   "metadata": {},
   "source": [
    "## Same but no batch normalization layers or shuffling indices"
   ]
  },
  {
   "cell_type": "code",
   "execution_count": 3,
   "metadata": {},
   "outputs": [
    {
     "name": "stdout",
     "output_type": "stream",
     "text": [
      "Reading confing file and set up folders...\n",
      "Load data files...\n"
     ]
    },
    {
     "name": "stderr",
     "output_type": "stream",
     "text": [
      "/home/bolon/miniconda3/envs/weather/lib/python3.7/site-packages/dask/core.py:121: RuntimeWarning: invalid value encountered in true_divide\n",
      "  return func(*(_execute_task(a, cache) for a in args))\n",
      "/home/bolon/miniconda3/envs/weather/lib/python3.7/site-packages/dask/core.py:121: RuntimeWarning: invalid value encountered in true_divide\n",
      "  return func(*(_execute_task(a, cache) for a in args))\n"
     ]
    },
    {
     "name": "stdout",
     "output_type": "stream",
     "text": [
      "Loading data to RAM...\n"
     ]
    },
    {
     "name": "stderr",
     "output_type": "stream",
     "text": [
      "/home/bolon/miniconda3/envs/weather/lib/python3.7/site-packages/dask/core.py:121: RuntimeWarning: invalid value encountered in true_divide\n",
      "  return func(*(_execute_task(a, cache) for a in args))\n"
     ]
    },
    {
     "name": "stdout",
     "output_type": "stream",
     "text": [
      "Time: 32.98s\n"
     ]
    },
    {
     "name": "stderr",
     "output_type": "stream",
     "text": [
      "/home/bolon/miniconda3/envs/weather/lib/python3.7/site-packages/dask/core.py:121: RuntimeWarning: invalid value encountered in true_divide\n",
      "  return func(*(_execute_task(a, cache) for a in args))\n",
      "/home/bolon/miniconda3/envs/weather/lib/python3.7/site-packages/dask/core.py:121: RuntimeWarning: invalid value encountered in true_divide\n",
      "  return func(*(_execute_task(a, cache) for a in args))\n"
     ]
    },
    {
     "name": "stdout",
     "output_type": "stream",
     "text": [
      "Loading data to RAM...\n"
     ]
    },
    {
     "name": "stderr",
     "output_type": "stream",
     "text": [
      "/home/bolon/miniconda3/envs/weather/lib/python3.7/site-packages/dask/core.py:121: RuntimeWarning: invalid value encountered in true_divide\n",
      "  return func(*(_execute_task(a, cache) for a in args))\n"
     ]
    },
    {
     "name": "stdout",
     "output_type": "stream",
     "text": [
      "Time: 6.62s\n",
      "Define model...\n",
      "Train model...\n",
      "Epoch : 0"
     ]
    }
   ],
   "source": [
    "training_ds, batch1, batch2, output1, output2 = main()"
   ]
  },
  {
   "cell_type": "code",
   "execution_count": 15,
   "metadata": {},
   "outputs": [
    {
     "data": {
      "text/plain": [
       "tensor([[[-1.4793, -0.7382, -0.8232,  ...,  0.0612,  1.5666,  1.8796],\n",
       "         [-1.6047, -0.5688, -0.8184,  ...,  0.1223,  0.5305,  0.5726],\n",
       "         [-1.7322, -0.6811, -0.8183,  ...,  0.1223,  1.7418,  1.4749],\n",
       "         ...,\n",
       "         [ 0.7499,  0.1848, -0.8445,  ..., -0.1220,  0.9766,  0.8882],\n",
       "         [ 0.6280,  0.4632, -0.8445,  ..., -0.1220,  1.7180,  1.9259],\n",
       "         [ 0.7759,  0.8954, -0.8363,  ..., -0.0609,  1.5136,  1.8794]],\n",
       "\n",
       "        [[-1.4293, -0.4989, -0.8232,  ...,  0.0612,  1.5666,  1.8796],\n",
       "         [-1.5871, -0.5268, -0.8184,  ...,  0.1223,  0.5305,  0.5726],\n",
       "         [-1.7143, -0.6677, -0.8183,  ...,  0.1223,  1.7418,  1.4749],\n",
       "         ...,\n",
       "         [ 1.0356, -0.0156, -0.8445,  ..., -0.1220,  0.9766,  0.8882],\n",
       "         [ 0.9615,  0.3028, -0.8445,  ..., -0.1220,  1.7180,  1.9259],\n",
       "         [ 1.0397,  0.5955, -0.8363,  ..., -0.0609,  1.5136,  1.8794]],\n",
       "\n",
       "        [[-1.2753, -0.3466, -0.8232,  ...,  0.0612,  1.5666,  1.8796],\n",
       "         [-1.4425, -0.5281, -0.8184,  ...,  0.1223,  0.5305,  0.5726],\n",
       "         [-1.5690, -0.7430, -0.8183,  ...,  0.1223,  1.7418,  1.4749],\n",
       "         ...,\n",
       "         [ 0.9711, -0.2032, -0.8445,  ..., -0.1220,  0.9766,  0.8882],\n",
       "         [ 0.9602, -0.0646, -0.8445,  ..., -0.1220,  1.7180,  1.9259],\n",
       "         [ 0.9977,  0.1783, -0.8363,  ..., -0.0609,  1.5136,  1.8794]],\n",
       "\n",
       "        ...,\n",
       "\n",
       "        [[ 0.7010,  0.2993, -0.8232,  ...,  0.0612,  1.5666,  1.8796],\n",
       "         [ 0.6434,  0.7329, -0.8184,  ...,  0.1223,  0.5305,  0.5726],\n",
       "         [ 0.6530, -0.3344, -0.8183,  ...,  0.1223,  1.7418,  1.4749],\n",
       "         ...,\n",
       "         [-0.5017,  0.7941, -0.4898,  ..., -0.1220,  0.9766,  0.8882],\n",
       "         [-0.8641,  0.3921, -0.2533,  ..., -0.1220,  1.7180,  1.9259],\n",
       "         [-0.7094,  0.5079, -0.4019,  ..., -0.0609,  1.5136,  1.8794]],\n",
       "\n",
       "        [[ 0.4347, -0.0080, -0.8232,  ...,  0.0612,  1.5666,  1.8796],\n",
       "         [ 0.4486,  0.7031, -0.8184,  ...,  0.1223,  0.5305,  0.5726],\n",
       "         [ 0.4966, -0.6083, -0.8183,  ...,  0.1223,  1.7418,  1.4749],\n",
       "         ...,\n",
       "         [-0.0895,  0.9619, -0.8353,  ..., -0.1220,  0.9766,  0.8882],\n",
       "         [-0.4333,  0.6138, -0.7753,  ..., -0.1220,  1.7180,  1.9259],\n",
       "         [-0.3285,  0.9190, -0.8273,  ..., -0.0609,  1.5136,  1.8794]],\n",
       "\n",
       "        [[-0.0519, -0.2643, -0.8232,  ...,  0.0612,  1.5666,  1.8796],\n",
       "         [-0.0312,  0.5797, -0.8184,  ...,  0.1223,  0.5305,  0.5726],\n",
       "         [ 0.0193, -0.8666, -0.8183,  ...,  0.1223,  1.7418,  1.4749],\n",
       "         ...,\n",
       "         [ 0.2375,  0.7640, -0.8445,  ..., -0.1220,  0.9766,  0.8882],\n",
       "         [-0.0458,  0.6299, -0.8445,  ..., -0.1220,  1.7180,  1.9259],\n",
       "         [ 0.1488,  0.9728, -0.8363,  ..., -0.0609,  1.5136,  1.8794]]],\n",
       "       device='cuda:0')"
      ]
     },
     "execution_count": 15,
     "metadata": {},
     "output_type": "execute_result"
    }
   ],
   "source": [
    "batch1"
   ]
  },
  {
   "cell_type": "code",
   "execution_count": 17,
   "metadata": {},
   "outputs": [
    {
     "data": {
      "text/plain": [
       "torch.Size([120, 3072, 14])"
      ]
     },
     "execution_count": 17,
     "metadata": {},
     "output_type": "execute_result"
    }
   ],
   "source": [
    "aux.shape"
   ]
  },
  {
   "cell_type": "code",
   "execution_count": 16,
   "metadata": {},
   "outputs": [
    {
     "data": {
      "text/plain": [
       "tensor(177)"
      ]
     },
     "execution_count": 16,
     "metadata": {},
     "output_type": "execute_result"
    }
   ],
   "source": [
    "aux = batch1.cpu().abs() < 1e-4\n",
    "aux.sum()"
   ]
  },
  {
   "cell_type": "code",
   "execution_count": 5,
   "metadata": {},
   "outputs": [
    {
     "data": {
      "text/plain": [
       "tensor([[[nan, nan],\n",
       "         [nan, nan],\n",
       "         [nan, nan],\n",
       "         ...,\n",
       "         [nan, nan],\n",
       "         [nan, nan],\n",
       "         [nan, nan]],\n",
       "\n",
       "        [[nan, nan],\n",
       "         [nan, nan],\n",
       "         [nan, nan],\n",
       "         ...,\n",
       "         [nan, nan],\n",
       "         [nan, nan],\n",
       "         [nan, nan]],\n",
       "\n",
       "        [[nan, nan],\n",
       "         [nan, nan],\n",
       "         [nan, nan],\n",
       "         ...,\n",
       "         [nan, nan],\n",
       "         [nan, nan],\n",
       "         [nan, nan]],\n",
       "\n",
       "        ...,\n",
       "\n",
       "        [[nan, nan],\n",
       "         [nan, nan],\n",
       "         [nan, nan],\n",
       "         ...,\n",
       "         [nan, nan],\n",
       "         [nan, nan],\n",
       "         [nan, nan]],\n",
       "\n",
       "        [[nan, nan],\n",
       "         [nan, nan],\n",
       "         [nan, nan],\n",
       "         ...,\n",
       "         [nan, nan],\n",
       "         [nan, nan],\n",
       "         [nan, nan]],\n",
       "\n",
       "        [[nan, nan],\n",
       "         [nan, nan],\n",
       "         [nan, nan],\n",
       "         ...,\n",
       "         [nan, nan],\n",
       "         [nan, nan],\n",
       "         [nan, nan]]], device='cuda:0', grad_fn=<AsStridedBackward>)"
      ]
     },
     "execution_count": 5,
     "metadata": {},
     "output_type": "execute_result"
    }
   ],
   "source": [
    "output1"
   ]
  },
  {
   "cell_type": "code",
   "execution_count": 6,
   "metadata": {},
   "outputs": [
    {
     "data": {
      "text/plain": [
       "tensor([[[    nan,     nan,  0.6854,  ...,  0.0612,  1.5666,  1.8796],\n",
       "         [    nan,     nan,  0.7731,  ...,  0.1223,  0.5305,  0.5726],\n",
       "         [    nan,     nan,  0.5640,  ...,  0.1223,  1.7418,  1.4749],\n",
       "         ...,\n",
       "         [    nan,     nan, -0.8445,  ..., -0.1220,  0.9766,  0.8882],\n",
       "         [    nan,     nan, -0.8445,  ..., -0.1220,  1.7180,  1.9259],\n",
       "         [    nan,     nan, -0.8363,  ..., -0.0609,  1.5136,  1.8794]],\n",
       "\n",
       "        [[    nan,     nan,  1.1732,  ...,  0.0612,  1.5666,  1.8796],\n",
       "         [    nan,     nan,  1.2458,  ...,  0.1223,  0.5305,  0.5726],\n",
       "         [    nan,     nan,  1.0839,  ...,  0.1223,  1.7418,  1.4749],\n",
       "         ...,\n",
       "         [    nan,     nan, -0.8445,  ..., -0.1220,  0.9766,  0.8882],\n",
       "         [    nan,     nan, -0.8445,  ..., -0.1220,  1.7180,  1.9259],\n",
       "         [    nan,     nan, -0.8363,  ..., -0.0609,  1.5136,  1.8794]],\n",
       "\n",
       "        [[    nan,     nan,  1.5222,  ...,  0.0612,  1.5666,  1.8796],\n",
       "         [    nan,     nan,  1.5716,  ...,  0.1223,  0.5305,  0.5726],\n",
       "         [    nan,     nan,  1.4679,  ...,  0.1223,  1.7418,  1.4749],\n",
       "         ...,\n",
       "         [    nan,     nan, -0.8445,  ..., -0.1220,  0.9766,  0.8882],\n",
       "         [    nan,     nan, -0.8445,  ..., -0.1220,  1.7180,  1.9259],\n",
       "         [    nan,     nan, -0.8363,  ..., -0.0609,  1.5136,  1.8794]],\n",
       "\n",
       "        ...,\n",
       "\n",
       "        [[    nan,     nan, -0.8232,  ...,  0.0612,  1.5666,  1.8796],\n",
       "         [    nan,     nan, -0.8136,  ...,  0.1223,  0.5305,  0.5726],\n",
       "         [    nan,     nan, -0.8183,  ...,  0.1223,  1.7418,  1.4749],\n",
       "         ...,\n",
       "         [    nan,     nan, -0.8445,  ..., -0.1220,  0.9766,  0.8882],\n",
       "         [    nan,     nan, -0.8445,  ..., -0.1220,  1.7180,  1.9259],\n",
       "         [    nan,     nan, -0.8363,  ..., -0.0609,  1.5136,  1.8794]],\n",
       "\n",
       "        [[    nan,     nan, -0.5823,  ...,  0.0612,  1.5666,  1.8796],\n",
       "         [    nan,     nan, -0.4896,  ...,  0.1223,  0.5305,  0.5726],\n",
       "         [    nan,     nan, -0.6849,  ...,  0.1223,  1.7418,  1.4749],\n",
       "         ...,\n",
       "         [    nan,     nan, -0.8445,  ..., -0.1220,  0.9766,  0.8882],\n",
       "         [    nan,     nan, -0.8445,  ..., -0.1220,  1.7180,  1.9259],\n",
       "         [    nan,     nan, -0.8363,  ..., -0.0609,  1.5136,  1.8794]],\n",
       "\n",
       "        [[    nan,     nan,  0.0716,  ...,  0.0612,  1.5666,  1.8796],\n",
       "         [    nan,     nan,  0.1671,  ...,  0.1223,  0.5305,  0.5726],\n",
       "         [    nan,     nan, -0.0768,  ...,  0.1223,  1.7418,  1.4749],\n",
       "         ...,\n",
       "         [    nan,     nan, -0.8445,  ..., -0.1220,  0.9766,  0.8882],\n",
       "         [    nan,     nan, -0.8445,  ..., -0.1220,  1.7180,  1.9259],\n",
       "         [    nan,     nan, -0.8363,  ..., -0.0609,  1.5136,  1.8794]]],\n",
       "       device='cuda:0', grad_fn=<CatBackward>)"
      ]
     },
     "execution_count": 6,
     "metadata": {},
     "output_type": "execute_result"
    }
   ],
   "source": [
    "batch2"
   ]
  },
  {
   "cell_type": "code",
   "execution_count": null,
   "metadata": {},
   "outputs": [],
   "source": []
  },
  {
   "cell_type": "markdown",
   "metadata": {},
   "source": [
    "## With original data"
   ]
  },
  {
   "cell_type": "code",
   "execution_count": 6,
   "metadata": {},
   "outputs": [
    {
     "name": "stdout",
     "output_type": "stream",
     "text": [
      "Reading confing file and set up folders...\n",
      "Load data files...\n",
      "Loading data to RAM...\n",
      "Time: 34.51s\n",
      "Loading data to RAM...\n",
      "Time: 5.95s\n",
      "Define model...\n",
      "Train model...\n",
      "Epoch : 0"
     ]
    }
   ],
   "source": [
    "training_ds, batch1, batch2, output1, output2 = main()"
   ]
  },
  {
   "cell_type": "code",
   "execution_count": 7,
   "metadata": {},
   "outputs": [
    {
     "data": {
      "text/plain": [
       "tensor([[[ 2.0119,  2.5639,  1.7865,  ...,  0.0612,  1.5666,  1.8796],\n",
       "         [ 2.0480,  2.2445,  1.6485,  ...,  0.1223,  0.5305,  0.5726],\n",
       "         [ 2.0642,  3.1423,  1.8212,  ...,  0.1223,  1.7418,  1.4749],\n",
       "         ...,\n",
       "         [ 2.3161,  2.0949,  1.1572,  ..., -0.1220,  0.9766,  0.8882],\n",
       "         [ 2.2523,  2.0853,  0.9008,  ..., -0.1220,  1.7180,  1.9259],\n",
       "         [ 2.3050,  2.1543,  1.0027,  ..., -0.0609,  1.5136,  1.8794]],\n",
       "\n",
       "        [[ 2.4328,  1.8347, -0.8023,  ...,  0.0612,  1.5666,  1.8796],\n",
       "         [ 2.4625,  2.2491, -0.8023,  ...,  0.1223,  0.5305,  0.5726],\n",
       "         [ 2.4342,  2.3526, -0.8023,  ...,  0.1223,  1.7418,  1.4749],\n",
       "         ...,\n",
       "         [ 2.4018,  2.1886,  1.7423,  ..., -0.1220,  0.9766,  0.8882],\n",
       "         [ 2.4226,  2.3404,  1.8433,  ..., -0.1220,  1.7180,  1.9259],\n",
       "         [ 2.3862,  2.2094,  1.8541,  ..., -0.0609,  1.5136,  1.8794]],\n",
       "\n",
       "        [[ 2.6291,  2.1988, -0.8023,  ...,  0.0612,  1.5666,  1.8796],\n",
       "         [ 2.6028,  2.4238, -0.8023,  ...,  0.1223,  0.5305,  0.5726],\n",
       "         [ 2.6218,  2.7708, -0.8023,  ...,  0.1223,  1.7418,  1.4749],\n",
       "         ...,\n",
       "         [ 2.4069,  2.2876,  0.7178,  ..., -0.1220,  0.9766,  0.8882],\n",
       "         [ 2.4115,  2.3600,  0.9366,  ..., -0.1220,  1.7180,  1.9259],\n",
       "         [ 2.3985,  2.2702,  0.8886,  ..., -0.0609,  1.5136,  1.8794]],\n",
       "\n",
       "        ...,\n",
       "\n",
       "        [[ 2.3966,  1.5664,  1.9905,  ...,  0.0612,  1.5666,  1.8796],\n",
       "         [ 2.4020,  1.5381,  2.0018,  ...,  0.1223,  0.5305,  0.5726],\n",
       "         [ 2.3855,  1.9657,  1.8672,  ...,  0.1223,  1.7418,  1.4749],\n",
       "         ...,\n",
       "         [ 2.0574,  2.3306, -0.8023,  ..., -0.1220,  0.9766,  0.8882],\n",
       "         [ 1.9899,  2.3772, -0.8023,  ..., -0.1220,  1.7180,  1.9259],\n",
       "         [ 2.0250,  2.3902, -0.8023,  ..., -0.0609,  1.5136,  1.8794]],\n",
       "\n",
       "        [[ 2.4387,  1.6570,  0.2858,  ...,  0.0612,  1.5666,  1.8796],\n",
       "         [ 2.3859,  1.7825,  0.4554,  ...,  0.1223,  0.5305,  0.5726],\n",
       "         [ 2.4532,  1.7560,  0.1876,  ...,  0.1223,  1.7418,  1.4749],\n",
       "         ...,\n",
       "         [ 2.4279,  1.9596, -0.8023,  ..., -0.1220,  0.9766,  0.8882],\n",
       "         [ 2.4579,  2.0971, -0.8023,  ..., -0.1220,  1.7180,  1.9259],\n",
       "         [ 2.4248,  2.1349, -0.8023,  ..., -0.0609,  1.5136,  1.8794]],\n",
       "\n",
       "        [[ 2.6351,  2.5048, -0.8023,  ...,  0.0612,  1.5666,  1.8796],\n",
       "         [ 2.6362,  2.5240, -0.8023,  ...,  0.1223,  0.5305,  0.5726],\n",
       "         [ 2.6587,  2.5378, -0.8023,  ...,  0.1223,  1.7418,  1.4749],\n",
       "         ...,\n",
       "         [ 2.6691,  2.6409, -0.8023,  ..., -0.1220,  0.9766,  0.8882],\n",
       "         [ 2.6782,  2.6279, -0.8023,  ..., -0.1220,  1.7180,  1.9259],\n",
       "         [ 2.6693,  2.4340, -0.8023,  ..., -0.0609,  1.5136,  1.8794]]],\n",
       "       device='cuda:0')"
      ]
     },
     "execution_count": 7,
     "metadata": {},
     "output_type": "execute_result"
    }
   ],
   "source": [
    "batch1"
   ]
  },
  {
   "cell_type": "code",
   "execution_count": 8,
   "metadata": {},
   "outputs": [
    {
     "data": {
      "text/plain": [
       "tensor(47)"
      ]
     },
     "execution_count": 8,
     "metadata": {},
     "output_type": "execute_result"
    }
   ],
   "source": [
    "aux = batch1.cpu().abs() < 1e-4\n",
    "aux.sum()"
   ]
  },
  {
   "cell_type": "code",
   "execution_count": 9,
   "metadata": {},
   "outputs": [
    {
     "data": {
      "text/plain": [
       "tensor([[[-0.1132, -0.1517],\n",
       "         [-1.0113,  0.3003],\n",
       "         [-0.8521,  0.1761],\n",
       "         ...,\n",
       "         [-0.1391,  0.2590],\n",
       "         [-0.0472,  0.7690],\n",
       "         [ 0.4145,  0.1268]],\n",
       "\n",
       "        [[ 0.6500,  0.1034],\n",
       "         [ 0.1337, -0.1135],\n",
       "         [ 0.0316,  0.9644],\n",
       "         ...,\n",
       "         [-0.2682,  0.6434],\n",
       "         [-0.4964,  0.4144],\n",
       "         [ 0.4058,  0.0922]],\n",
       "\n",
       "        [[ 0.1225,  0.5214],\n",
       "         [-0.1627, -0.5289],\n",
       "         [-0.6756,  1.1678],\n",
       "         ...,\n",
       "         [ 0.0179,  0.5190],\n",
       "         [ 0.1062,  1.0352],\n",
       "         [ 0.5212, -0.0426]],\n",
       "\n",
       "        ...,\n",
       "\n",
       "        [[ 0.5973,  0.7328],\n",
       "         [-0.5028,  1.0879],\n",
       "         [-0.0239,  0.9253],\n",
       "         ...,\n",
       "         [-0.4649, -0.1093],\n",
       "         [-0.5653, -0.0819],\n",
       "         [-0.8256, -0.0690]],\n",
       "\n",
       "        [[ 0.2823, -0.1242],\n",
       "         [-0.3858, -0.2438],\n",
       "         [-0.8964,  0.2701],\n",
       "         ...,\n",
       "         [-0.6260, -0.3201],\n",
       "         [-0.8223, -0.2419],\n",
       "         [-0.2527, -0.3082]],\n",
       "\n",
       "        [[-1.0552, -0.6815],\n",
       "         [-0.5451, -0.1173],\n",
       "         [-1.1719,  0.1828],\n",
       "         ...,\n",
       "         [ 0.0105, -0.2093],\n",
       "         [ 0.0759,  0.0164],\n",
       "         [ 0.1994,  0.4646]]], device='cuda:0', grad_fn=<AsStridedBackward>)"
      ]
     },
     "execution_count": 9,
     "metadata": {},
     "output_type": "execute_result"
    }
   ],
   "source": [
    "output1"
   ]
  },
  {
   "cell_type": "markdown",
   "metadata": {},
   "source": [
    "## Special initialization of weights"
   ]
  },
  {
   "cell_type": "code",
   "execution_count": 5,
   "metadata": {},
   "outputs": [
    {
     "name": "stdout",
     "output_type": "stream",
     "text": [
      "Reading confing file and set up folders...\n",
      "Load data files...\n"
     ]
    },
    {
     "name": "stderr",
     "output_type": "stream",
     "text": [
      "/home/bolon/miniconda3/envs/weather/lib/python3.7/site-packages/dask/core.py:121: RuntimeWarning: invalid value encountered in true_divide\n",
      "  return func(*(_execute_task(a, cache) for a in args))\n",
      "/home/bolon/miniconda3/envs/weather/lib/python3.7/site-packages/dask/core.py:121: RuntimeWarning: invalid value encountered in true_divide\n",
      "  return func(*(_execute_task(a, cache) for a in args))\n"
     ]
    },
    {
     "name": "stdout",
     "output_type": "stream",
     "text": [
      "Loading data to RAM...\n"
     ]
    },
    {
     "name": "stderr",
     "output_type": "stream",
     "text": [
      "/home/bolon/miniconda3/envs/weather/lib/python3.7/site-packages/dask/core.py:121: RuntimeWarning: invalid value encountered in true_divide\n",
      "  return func(*(_execute_task(a, cache) for a in args))\n"
     ]
    },
    {
     "name": "stdout",
     "output_type": "stream",
     "text": [
      "Time: 33.71s\n"
     ]
    },
    {
     "name": "stderr",
     "output_type": "stream",
     "text": [
      "/home/bolon/miniconda3/envs/weather/lib/python3.7/site-packages/dask/core.py:121: RuntimeWarning: invalid value encountered in true_divide\n",
      "  return func(*(_execute_task(a, cache) for a in args))\n",
      "/home/bolon/miniconda3/envs/weather/lib/python3.7/site-packages/dask/core.py:121: RuntimeWarning: invalid value encountered in true_divide\n",
      "  return func(*(_execute_task(a, cache) for a in args))\n"
     ]
    },
    {
     "name": "stdout",
     "output_type": "stream",
     "text": [
      "Loading data to RAM...\n"
     ]
    },
    {
     "name": "stderr",
     "output_type": "stream",
     "text": [
      "/home/bolon/miniconda3/envs/weather/lib/python3.7/site-packages/dask/core.py:121: RuntimeWarning: invalid value encountered in true_divide\n",
      "  return func(*(_execute_task(a, cache) for a in args))\n"
     ]
    },
    {
     "name": "stdout",
     "output_type": "stream",
     "text": [
      "Time: 6.19s\n",
      "Define model...\n",
      "yes\n",
      "yes\n",
      "yes\n",
      "yes\n",
      "yes\n",
      "yes\n",
      "yes\n",
      "yes\n",
      "yes\n",
      "yes\n",
      "yes\n",
      "yes\n",
      "yes\n",
      "yes\n",
      "Train model...\n",
      "Epoch : 0"
     ]
    }
   ],
   "source": [
    "training_ds, batch1, batch2, output1, output2 = main()"
   ]
  },
  {
   "cell_type": "code",
   "execution_count": 6,
   "metadata": {},
   "outputs": [
    {
     "data": {
      "text/plain": [
       "tensor([[[ 0.1883,  0.1393,  1.3354,  ...,  0.0612,  1.5666,  1.8796],\n",
       "         [ 0.1283, -0.5404,  1.4066,  ...,  0.1223,  0.5305,  0.5726],\n",
       "         [-0.0319, -0.3298,  1.2612,  ...,  0.1223,  1.7418,  1.4749],\n",
       "         ...,\n",
       "         [-1.2608, -0.0810, -0.8427,  ..., -0.1220,  0.9766,  0.8882],\n",
       "         [-1.3157, -0.1601, -0.8428,  ..., -0.1220,  1.7180,  1.9259],\n",
       "         [-1.4062, -0.0637, -0.8352,  ..., -0.0609,  1.5136,  1.8794]],\n",
       "\n",
       "        [[ 0.3941,  2.1510, -0.8225,  ...,  0.0612,  1.5666,  1.8796],\n",
       "         [ 0.4551,  1.3161, -0.8169,  ...,  0.1223,  0.5305,  0.5726],\n",
       "         [ 0.5762,  1.4148, -0.8169,  ...,  0.1223,  1.7418,  1.4749],\n",
       "         ...,\n",
       "         [-0.0345,  0.7209,  1.4839,  ..., -0.1220,  0.9766,  0.8882],\n",
       "         [-0.4020,  0.0276,  1.5822,  ..., -0.1220,  1.7180,  1.9259],\n",
       "         [-0.0691,  0.6317,  1.5415,  ..., -0.0609,  1.5136,  1.8794]],\n",
       "\n",
       "        [[ 0.0521,  0.4949, -0.8214,  ...,  0.0612,  1.5666,  1.8796],\n",
       "         [ 0.2914,  0.6639, -0.8265,  ...,  0.1223,  0.5305,  0.5726],\n",
       "         [ 0.1055,  1.8914, -0.7810,  ...,  0.1223,  1.7418,  1.4749],\n",
       "         ...,\n",
       "         [ 0.3559, -0.1022,  1.7509,  ..., -0.1220,  0.9766,  0.8882],\n",
       "         [ 0.4671,  0.2210,  1.7738,  ..., -0.1220,  1.7180,  1.9259],\n",
       "         [ 0.3292, -0.5953,  1.7648,  ..., -0.0609,  1.5136,  1.8794]],\n",
       "\n",
       "        ...,\n",
       "\n",
       "        [[ 1.7813, -0.1705,  1.2757,  ...,  0.0612,  1.5666,  1.8796],\n",
       "         [ 1.5935, -0.0294,  1.3462,  ...,  0.1223,  0.5305,  0.5726],\n",
       "         [ 1.6849, -0.4709,  1.1962,  ...,  0.1223,  1.7418,  1.4749],\n",
       "         ...,\n",
       "         [-0.0188,  0.2059, -0.8291,  ..., -0.1220,  0.9766,  0.8882],\n",
       "         [-0.2037,  0.2320, -0.8292,  ..., -0.1220,  1.7180,  1.9259],\n",
       "         [-0.1167,  0.2350, -0.8284,  ..., -0.0609,  1.5136,  1.8794]],\n",
       "\n",
       "        [[ 0.3376, -0.8867,  1.6202,  ...,  0.0612,  1.5666,  1.8796],\n",
       "         [ 0.3425, -0.4141,  1.6529,  ...,  0.1223,  0.5305,  0.5726],\n",
       "         [ 0.4712, -0.7424,  1.5640,  ...,  0.1223,  1.7418,  1.4749],\n",
       "         ...,\n",
       "         [-1.2295, -0.6858, -0.8291,  ..., -0.1220,  0.9766,  0.8882],\n",
       "         [-1.2253, -0.6507, -0.8292,  ..., -0.1220,  1.7180,  1.9259],\n",
       "         [-1.3448, -0.9083, -0.8284,  ..., -0.0609,  1.5136,  1.8794]],\n",
       "\n",
       "        [[-1.5845, -0.6373,  1.7313,  ...,  0.0612,  1.5666,  1.8796],\n",
       "         [-1.3710, -0.3282,  1.7046,  ...,  0.1223,  0.5305,  0.5726],\n",
       "         [-1.4252,  0.4249,  1.7337,  ...,  0.1223,  1.7418,  1.4749],\n",
       "         ...,\n",
       "         [-1.5340,  0.0587, -0.4565,  ..., -0.1220,  0.9766,  0.8882],\n",
       "         [-1.7758,  0.1218, -0.6628,  ..., -0.1220,  1.7180,  1.9259],\n",
       "         [-1.6676,  0.1083, -0.5514,  ..., -0.0609,  1.5136,  1.8794]]],\n",
       "       device='cuda:0')"
      ]
     },
     "execution_count": 6,
     "metadata": {},
     "output_type": "execute_result"
    }
   ],
   "source": [
    "batch1"
   ]
  },
  {
   "cell_type": "code",
   "execution_count": 7,
   "metadata": {},
   "outputs": [
    {
     "data": {
      "text/plain": [
       "tensor([[[nan, nan],\n",
       "         [nan, nan],\n",
       "         [nan, nan],\n",
       "         ...,\n",
       "         [nan, nan],\n",
       "         [nan, nan],\n",
       "         [nan, nan]],\n",
       "\n",
       "        [[nan, nan],\n",
       "         [nan, nan],\n",
       "         [nan, nan],\n",
       "         ...,\n",
       "         [nan, nan],\n",
       "         [nan, nan],\n",
       "         [nan, nan]],\n",
       "\n",
       "        [[nan, nan],\n",
       "         [nan, nan],\n",
       "         [nan, nan],\n",
       "         ...,\n",
       "         [nan, nan],\n",
       "         [nan, nan],\n",
       "         [nan, nan]],\n",
       "\n",
       "        ...,\n",
       "\n",
       "        [[nan, nan],\n",
       "         [nan, nan],\n",
       "         [nan, nan],\n",
       "         ...,\n",
       "         [nan, nan],\n",
       "         [nan, nan],\n",
       "         [nan, nan]],\n",
       "\n",
       "        [[nan, nan],\n",
       "         [nan, nan],\n",
       "         [nan, nan],\n",
       "         ...,\n",
       "         [nan, nan],\n",
       "         [nan, nan],\n",
       "         [nan, nan]],\n",
       "\n",
       "        [[nan, nan],\n",
       "         [nan, nan],\n",
       "         [nan, nan],\n",
       "         ...,\n",
       "         [nan, nan],\n",
       "         [nan, nan],\n",
       "         [nan, nan]]], device='cuda:0', grad_fn=<AsStridedBackward>)"
      ]
     },
     "execution_count": 7,
     "metadata": {},
     "output_type": "execute_result"
    }
   ],
   "source": [
    "output1"
   ]
  },
  {
   "cell_type": "code",
   "execution_count": null,
   "metadata": {},
   "outputs": [],
   "source": []
  }
 ],
 "metadata": {
  "kernelspec": {
   "display_name": "Python 3",
   "language": "python",
   "name": "python3"
  },
  "language_info": {
   "codemirror_mode": {
    "name": "ipython",
    "version": 3
   },
   "file_extension": ".py",
   "mimetype": "text/x-python",
   "name": "python",
   "nbconvert_exporter": "python",
   "pygments_lexer": "ipython3",
   "version": "3.7.7"
  }
 },
 "nbformat": 4,
 "nbformat_minor": 4
}
