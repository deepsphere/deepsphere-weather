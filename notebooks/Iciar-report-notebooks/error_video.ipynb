{
 "cells": [
  {
   "cell_type": "markdown",
   "metadata": {},
   "source": [
    "# Error video"
   ]
  },
  {
   "cell_type": "code",
   "execution_count": 1,
   "metadata": {},
   "outputs": [],
   "source": [
    "import sys\n",
    "sys.path.append('/'.join(sys.path[0].split('/')[:-1]))\n",
    "\n",
    "import os\n",
    "import subprocess\n",
    "import glob\n",
    "import time\n",
    "\n",
    "import xarray as xr\n",
    "import numpy as np\n",
    "import healpy as hp\n",
    "from scipy import interpolate\n",
    "\n",
    "import matplotlib.pyplot as plt\n",
    "import cartopy.crs as ccrs\n",
    "import cartopy\n",
    "\n",
    "from modules.plotting import plot_signal\n",
    "from modules.utils import load_test_data\n",
    "from modules.test import compute_rmse_healpix, compute_relBIAS, compute_rSD, compute_R2\n",
    "from modules.data import hp_to_equiangular\n",
    "\n",
    "DATADIR = '../data/healpix/'\n",
    "lead_time = 6\n",
    "max_lead_time = 5*24\n",
    "nodes = 3072\n",
    "resolution = 5.625\n",
    "\n",
    "model_description = 'all_const_len2_delta6'\n",
    "\n",
    "obs = xr.open_mfdataset(DATADIR + 'predictions/observations.nc', combine='by_coords')\n",
    "pred = xr.open_mfdataset(DATADIR + 'predictions/spherical_unet_' + model_description + '.nc', combine='by_coords')"
   ]
  },
  {
   "cell_type": "code",
   "execution_count": 22,
   "metadata": {},
   "outputs": [],
   "source": [
    "def create_video(error_ds, var, var_name, folder, lead_time=6, resolution=5.625):\n",
    "    \n",
    "    proj = ccrs.PlateCarree()\n",
    "    lead_times = np.arange(lead_time, max_lead_time+lead_time, lead_time)\n",
    "    \n",
    "    vmin_ = error_ds[var].min(xr.ALL_DIMS).values\n",
    "    vmax_ = error_ds[var].max(xr.ALL_DIMS).values\n",
    "    \n",
    "    vmin = min(vmin_, -vmax_)\n",
    "    vmax = max(vmax_, -vmin_)\n",
    "    \n",
    "    for lead_time_idx, lead in enumerate(lead_times):\n",
    "    \n",
    "        f, ax = plt.subplots(1, 1, figsize=(10, 5), subplot_kw=dict(projection=proj))\n",
    "\n",
    "        sample_in = hp_to_equiangular(error_ds.isel(lead_time=lead_time_idx), resolution)\n",
    "        plot_signal(f, sample=sample_in, var=var, vmin=vmin, vmax=vmax, proj=proj, ax=ax, cbar_shrink=0.8)\n",
    "        ax.set_title(var_name + ' (forecast - observation), forecast time = {} h'.format(lead), fontsize=15)\n",
    "\n",
    "        f.tight_layout(pad=-2);\n",
    "        filename = 'error_' + var + '_' + str(lead_time_idx) + \".png\"\n",
    "        plt.savefig(folder + filename, bbox_inches = 'tight')\n",
    "\n",
    "    \n",
    "    subprocess.call([\n",
    "        'ffmpeg',  '-r', '2', '-f', 'image2', '-s', '1920x1080', '-i', folder+'error_' + var + '_%d.png', '-vcodec',\n",
    "        'libx264', '-crf', '25', '-pix_fmt', 'yuv420p', folder+'error_'+var+'.mp4'\n",
    "    ])\n",
    "    \n",
    "    for file_name in glob.glob(folder + \"error_\" + var + \"*.png\"):\n",
    "        os.remove(file_name)"
   ]
  },
  {
   "cell_type": "code",
   "execution_count": 25,
   "metadata": {},
   "outputs": [],
   "source": [
    "%%capture\n",
    "\n",
    "time_sample = 12\n",
    "error = (pred.isel(time=time_sample) - obs.isel(time=time_sample)).load()\n",
    "\n",
    "create_video(error, 'z', 'Z500', DATADIR + 'videos/')\n",
    "create_video(error, 't', 'T850', DATADIR + 'videos/')"
   ]
  }
 ],
 "metadata": {
  "kernelspec": {
   "display_name": "Python 3",
   "language": "python",
   "name": "python3"
  },
  "language_info": {
   "codemirror_mode": {
    "name": "ipython",
    "version": 3
   },
   "file_extension": ".py",
   "mimetype": "text/x-python",
   "name": "python",
   "nbconvert_exporter": "python",
   "pygments_lexer": "ipython3",
   "version": "3.7.7"
  }
 },
 "nbformat": 4,
 "nbformat_minor": 4
}
