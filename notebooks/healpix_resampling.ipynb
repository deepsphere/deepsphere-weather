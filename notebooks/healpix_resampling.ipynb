{
 "cells": [
  {
   "cell_type": "code",
   "execution_count": 1,
   "metadata": {},
   "outputs": [],
   "source": [
    "import sys\n",
    "sys.path.append('/'.join(sys.path[0].split('/')[:-1]))\n",
    "\n",
    "import xarray as xr\n",
    "import numpy as np\n",
    "import os\n",
    "from pathlib import Path\n",
    "import healpy as hp"
   ]
  },
  {
   "cell_type": "code",
   "execution_count": 2,
   "metadata": {},
   "outputs": [],
   "source": [
    "input_dir = '../data/equiangular/5.625deg/'\n",
    "output_dir = '../data/healpix/5.625deg/'\n",
    "nside = 16\n",
    "n_pixels = 12*(nside**2)"
   ]
  },
  {
   "cell_type": "code",
   "execution_count": 9,
   "metadata": {},
   "outputs": [],
   "source": [
    "# New HEALPix grid\n",
    "n_pixels = 12*(nside**2)\n",
    "hp_lon, hp_lat = hp.pix2ang(nside, np.arange(n_pixels), lonlat=True, nest=True)\n",
    "lon_idx = xr.DataArray(hp_lon, dims=[\"lon\"])\n",
    "lat_idx = xr.DataArray(hp_lat, dims=[\"lat\"])\n",
    "\n",
    "# Interpolate and save all atmospheric fields\n",
    "all_files = os.listdir(input_dir)\n",
    "all_files = ['toa_incident_solar_radiation']\n",
    "for f in all_files:\n",
    "    # Interpolate\n",
    "    ds = xr.open_mfdataset(input_dir + f + '/*.nc', combine='by_coords')\n",
    "    interp_ds = ds.interp(lon=('node', lon_idx), lat=('node', lat_idx)).interpolate_na(dim='node')\n",
    "    interp_ds = interp_ds.assign_coords(node=np.arange(n_pixels))\n",
    "    \n",
    "    # Create out folder\n",
    "    out_path =  output_dir + f + \"/\"\n",
    "    Path(out_path).mkdir(parents=True, exist_ok=True)\n",
    "    \n",
    "    # Save\n",
    "    out_filename = f + '_5.625deg.nc'\n",
    "    interp_ds.to_netcdf(out_path + out_filename)"
   ]
  },
  {
   "cell_type": "code",
   "execution_count": null,
   "metadata": {},
   "outputs": [],
   "source": []
  }
 ],
 "metadata": {
  "kernelspec": {
   "display_name": "Python 3",
   "language": "python",
   "name": "python3"
  },
  "language_info": {
   "codemirror_mode": {
    "name": "ipython",
    "version": 3
   },
   "file_extension": ".py",
   "mimetype": "text/x-python",
   "name": "python",
   "nbconvert_exporter": "python",
   "pygments_lexer": "ipython3",
   "version": "3.7.6"
  }
 },
 "nbformat": 4,
 "nbformat_minor": 4
}
