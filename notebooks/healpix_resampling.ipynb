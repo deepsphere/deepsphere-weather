{
 "cells": [
  {
   "cell_type": "markdown",
   "metadata": {},
   "source": [
    "## Resample data into Healpix\n",
    "\n",
    "1. Create HEALPix grid \n",
    "2. Extract data if it is still in a zip file\n",
    "3. Interpolate from initial points to Healpix grid. Uses linear interpolation\n",
    "4. Save file"
   ]
  },
  {
   "cell_type": "code",
   "execution_count": 2,
   "metadata": {},
   "outputs": [],
   "source": [
    "import sys\n",
    "sys.path.append('/'.join(sys.path[0].split('/')[:-1]))\n",
    "\n",
    "import zipfile\n",
    "\n",
    "import xarray as xr\n",
    "import numpy as np\n",
    "import os\n",
    "from pathlib import Path\n",
    "import healpy as hp"
   ]
  },
  {
   "cell_type": "code",
   "execution_count": 3,
   "metadata": {},
   "outputs": [],
   "source": [
    "input_dir = '../data/equiangular/5.625deg/'\n",
    "output_dir = '../data/healpix/5.625deg/'\n",
    "nside = 16\n",
    "n_pixels = 12*(nside**2)"
   ]
  },
  {
   "cell_type": "code",
   "execution_count": 4,
   "metadata": {},
   "outputs": [],
   "source": [
    "# New HEALPix grid\n",
    "n_pixels = 12*(nside**2)\n",
    "hp_lon, hp_lat = hp.pix2ang(nside, np.arange(n_pixels), lonlat=True, nest=True)\n",
    "lon_idx = xr.DataArray(hp_lon, dims=[\"lon\"])\n",
    "lat_idx = xr.DataArray(hp_lat, dims=[\"lat\"])"
   ]
  },
  {
   "cell_type": "code",
   "execution_count": 5,
   "metadata": {},
   "outputs": [
    {
     "data": {
      "text/plain": [
       "['toa_incident_solar_radiation',\n",
       " 'total_precipitation',\n",
       " 'potential_vorticity',\n",
       " 'temperature_850',\n",
       " 'vorticity',\n",
       " 'geopotential_500',\n",
       " '10m_v_component_of_wind',\n",
       " 'constants',\n",
       " 'u_component_of_wind',\n",
       " 'total_cloud_cover',\n",
       " 'specific_humidity',\n",
       " '2m_temperature',\n",
       " '10m_u_component_of_wind',\n",
       " 'temperature',\n",
       " 'v_component_of_wind',\n",
       " 'all_5.625deg.zip',\n",
       " 'relative_humidity',\n",
       " 'geopotential']"
      ]
     },
     "execution_count": 5,
     "metadata": {},
     "output_type": "execute_result"
    }
   ],
   "source": [
    "all_files = os.listdir(input_dir)\n",
    "all_files"
   ]
  },
  {
   "cell_type": "code",
   "execution_count": 6,
   "metadata": {},
   "outputs": [
    {
     "name": "stdout",
     "output_type": "stream",
     "text": [
      "Working on  toa_incident_solar_radiation\n",
      "Interpolation...\n",
      "Working on  temperature_850\n",
      "Data Extraction...\n",
      "Interpolation...\n",
      "Working on  geopotential_500\n",
      "Data Extraction...\n",
      "Interpolation...\n",
      "Working on  constants\n",
      "Interpolation...\n",
      "Working on  total_cloud_cover\n",
      "Interpolation...\n"
     ]
    }
   ],
   "source": [
    "#all_files = os.listdir(input_dir)\n",
    "all_files = ['toa_incident_solar_radiation', 'temperature_850', 'geopotential_500', 'constants', 'total_cloud_cover']\n",
    "\n",
    "#all_files = ['toa_incident_solar_radiation']\n",
    "for f in all_files:\n",
    "    print('Working on ', f)\n",
    "    \n",
    "    # Check if file has been unzip\n",
    "    if not os.path.isfile(input_dir + f + '/' + f + '_1979_5.625deg.nc') and not os.path.isfile(input_dir + f + '/' + f + '_5.625deg.nc'):\n",
    "        print('Data Extraction...')\n",
    "        # extract data in the same folder \n",
    "        with zipfile.ZipFile(input_dir + f + '/' + f + '_5.625deg.zip',\"r\") as zip_ref:\n",
    "            zip_ref.extractall(input_dir + f + '/')\n",
    "            \n",
    "    # Interpolate\n",
    "    print('Interpolation...')\n",
    "    ds = xr.open_mfdataset(input_dir + f + '/*.nc', combine='by_coords')\n",
    "    \n",
    "    #linear interpolation\n",
    "    interp_ds = ds.interp(lon=('node', lon_idx), lat=('node', lat_idx)).interpolate_na(dim='node') \n",
    "    interp_ds = interp_ds.assign_coords(node=np.arange(n_pixels))\n",
    "    \n",
    "    # Create out folder\n",
    "    out_path =  output_dir + f + \"/\"\n",
    "    Path(out_path).mkdir(parents=True, exist_ok=True)\n",
    "    \n",
    "    # Save\n",
    "    out_filename = f + '_5.625deg.nc'\n",
    "    interp_ds.to_netcdf(out_path + out_filename)"
   ]
  }
 ],
 "metadata": {
  "kernelspec": {
   "display_name": "Python 3",
   "language": "python",
   "name": "python3"
  },
  "language_info": {
   "codemirror_mode": {
    "name": "ipython",
    "version": 3
   },
   "file_extension": ".py",
   "mimetype": "text/x-python",
   "name": "python",
   "nbconvert_exporter": "python",
   "pygments_lexer": "ipython3",
   "version": "3.7.6"
  }
 },
 "nbformat": 4,
 "nbformat_minor": 4
}
