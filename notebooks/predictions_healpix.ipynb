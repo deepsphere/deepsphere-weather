{
 "cells": [
  {
   "cell_type": "markdown",
   "metadata": {},
   "source": [
    "## Generate prediction of different models\n",
    "\n",
    "The variables that need to be modified are:\n",
    "\n",
    "* name of model file\n",
    "* number of epochs we want to evaluate (in case we have saved the model status at different epochs and we want to compare performance)\n",
    "* architecture of the model. Needs to match the architecture of the model we are loading the parameters of "
   ]
  },
  {
   "cell_type": "markdown",
   "metadata": {},
   "source": [
    "#### Import libraries and external functions"
   ]
  },
  {
   "cell_type": "markdown",
   "metadata": {},
   "source": [
    "Only for notebooks"
   ]
  },
  {
   "cell_type": "code",
   "execution_count": 1,
   "metadata": {},
   "outputs": [],
   "source": [
    "%load_ext autoreload\n",
    "%autoreload 2"
   ]
  },
  {
   "cell_type": "code",
   "execution_count": 2,
   "metadata": {},
   "outputs": [],
   "source": [
    "import sys\n",
    "import os\n",
    "sys.path.append(os.path.abspath('../'))\n",
    "\n",
    "import xarray as xr\n",
    "import matplotlib.pyplot as plt\n",
    "import numpy as np\n",
    "import time\n",
    "import healpy as hp\n",
    "import random\n",
    "import pickle\n",
    "import pandas as pd\n",
    "import matplotlib.pyplot as plt\n",
    "from matplotlib import cm, colors\n",
    "\n",
    "\n",
    "import torch\n",
    "from torch import nn, optim\n",
    "from torch.utils.data import Dataset, DataLoader\n",
    "from torch.nn.parameter import Parameter\n",
    "\n",
    "from modules.utils import init_device\n",
    "from modules.architectures import *\n",
    "from modules.test import compute_rmse\n",
    "from modules.plotting import plot_rmses\n",
    "from modules.full_pipeline import load_data_split, WeatherBenchDatasetXarrayHealpixTemp, \\\n",
    "                                  train_model_2steps, create_iterative_predictions_healpix_temp, \\\n",
    "                                  compute_errors, plot_climatology\n",
    "from modules.plotting import plot_general_skills, plot_benchmark, plot_skillmaps, plot_benchmark_simple\n",
    "from modules.data import hp_to_equiangular\n",
    "from modules.mail import send_info_mail\n",
    "\n",
    "\n",
    "import warnings\n",
    "warnings.filterwarnings(\"ignore\")"
   ]
  },
  {
   "cell_type": "code",
   "execution_count": 3,
   "metadata": {},
   "outputs": [],
   "source": [
    "model_path = '/nfs_home/wefeng/results/healpix/models/'\n",
    "model_name_epochs = 'all_const_len2_delta_6_architecture_loss_v0_8steps_constant_increasing_static_l3_long_connections_per_epoch'\n",
    "#model_name = model_path + model_name_epochs + '_epoch_{}.h5'.format(num_epoch)\n"
   ]
  },
  {
   "cell_type": "markdown",
   "metadata": {},
   "source": [
    "Define paths and create directories if required"
   ]
  },
  {
   "cell_type": "code",
   "execution_count": 4,
   "metadata": {},
   "outputs": [],
   "source": [
    "datadir = \"/nfs_home/wefeng/healpix/\"\n",
    "input_dir = datadir + \"5.625deg_nearest/\"\n",
    "model_save_path = '/nfs_home/wefeng/results/healpix/models/'\n",
    "result_path = '/nfs_home/wefeng/results/healpix/'\n",
    "\n",
    "prediction_path = '/nfs_home/wefeng/results/healpix/predictions/'\n",
    "\n",
    "if not os.path.isdir(model_save_path):\n",
    "    os.mkdir(model_save_path)\n"
   ]
  },
  {
   "cell_type": "markdown",
   "metadata": {},
   "source": [
    "Define constants and load data"
   ]
  },
  {
   "cell_type": "code",
   "execution_count": 5,
   "metadata": {},
   "outputs": [],
   "source": [
    "chunk_size = 521\n",
    "\n",
    "train_years = ('1990', '2012')#('1979', '2012')\n",
    "val_years = ('2013', '2016')\n",
    "test_years = ('2017', '2018')\n",
    "\n",
    "nodes = 12*16*16\n",
    "max_lead_time = 5*24\n",
    "nb_timesteps = 2\n",
    "\n",
    "os.environ[\"CUDA_DEVICE_ORDER\"]=\"PCI_BUS_ID\"\n",
    "os.environ[\"CUDA_VISIBLE_DEVICES\"]=\"0\"\n",
    "gpu = [0]\n",
    "num_workers = 10\n",
    "pin_memory = True\n",
    "\n",
    "nb_epochs = 2\n",
    "learning_rate = 8e-3\n",
    "\n",
    "obs = xr.open_mfdataset(prediction_path + 'observations_nearest.nc', combine='by_coords', chunks={'time':chunk_size})\n",
    "rmses_weyn = xr.open_dataset(datadir + 'metrics/rmses_weyn.nc')"
   ]
  },
  {
   "cell_type": "markdown",
   "metadata": {},
   "source": [
    "#### Data\n",
    "\n",
    "Load data, define dynamic dataset and separate into train, validation and test"
   ]
  },
  {
   "cell_type": "code",
   "execution_count": 6,
   "metadata": {},
   "outputs": [
    {
     "name": "stdout",
     "output_type": "stream",
     "text": [
      "/nfs_home/wefeng/healpix/5.625deg_nearest/\n"
     ]
    }
   ],
   "source": [
    "ds_train, ds_valid, ds_test = load_data_split(input_dir, train_years, val_years, test_years, chunk_size)"
   ]
  },
  {
   "cell_type": "code",
   "execution_count": 7,
   "metadata": {},
   "outputs": [],
   "source": [
    "constants = xr.open_dataset(f'{input_dir}constants/constants_5.625deg_standardized.nc')\n",
    "\n",
    "orog = constants['orog']\n",
    "lsm = constants['lsm']\n",
    "lats = constants['lat2d']\n",
    "slt = constants['slt']\n",
    "\n",
    "num_constants = len([orog, lats, lsm, slt])\n",
    "\n",
    "train_mean_ = xr.open_mfdataset(f'{input_dir}mean_train_features_dynamic.nc')\n",
    "train_std_ = xr.open_mfdataset(f'{input_dir}std_train_features_dynamic.nc')"
   ]
  },
  {
   "cell_type": "markdown",
   "metadata": {},
   "source": [
    "Define model parameters"
   ]
  },
  {
   "cell_type": "code",
   "execution_count": 8,
   "metadata": {},
   "outputs": [],
   "source": [
    "len_sqce = 2\n",
    "# define time resolution\n",
    "delta_t = 6\n",
    "\n",
    "# predict 5days data\n",
    "max_lead_time = 5*24\n",
    "in_features = 7\n",
    "out_features = 2"
   ]
  },
  {
   "cell_type": "markdown",
   "metadata": {},
   "source": [
    "Generate dataloader"
   ]
  },
  {
   "cell_type": "markdown",
   "metadata": {},
   "source": [
    "#### Model\n",
    "\n",
    "Define model, train and evaluate train and validation losses\n",
    "\n"
   ]
  },
  {
   "cell_type": "code",
   "execution_count": 9,
   "metadata": {},
   "outputs": [],
   "source": [
    "batch_size = 70\n",
    "epochs = 10"
   ]
  },
  {
   "cell_type": "code",
   "execution_count": 10,
   "metadata": {},
   "outputs": [],
   "source": [
    "constants_tensor = torch.tensor(xr.merge([orog, lats, lsm, slt], compat='override').to_array().values, \\\n",
    "                            dtype=torch.float)\n",
    "\n",
    "# standardize \n",
    "constants_tensor_mean = torch.mean(constants_tensor, dim=1, keepdim=True)\n",
    "constants_tensor_std = torch.std(constants_tensor, dim=1, keepdim=True)\n",
    "constants_tensor = (constants_tensor - constants_tensor_mean) / (constants_tensor_std + 1e-6)"
   ]
  },
  {
   "cell_type": "markdown",
   "metadata": {},
   "source": [
    "#### Test \n",
    "\n",
    "Define test dataloader, generate predictions and evaluate loss"
   ]
  },
  {
   "cell_type": "code",
   "execution_count": 11,
   "metadata": {},
   "outputs": [
    {
     "name": "stdout",
     "output_type": "stream",
     "text": [
      "Loading data to RAM...\n",
      "Time: 2.52s\n"
     ]
    }
   ],
   "source": [
    "# Testing data\n",
    "testing_ds = WeatherBenchDatasetXarrayHealpixTemp(ds=ds_test, out_features=out_features,\n",
    "                                                  len_sqce=len_sqce, delta_t=delta_t, years=test_years, \n",
    "                                                  nodes=nodes, nb_timesteps=nb_timesteps, \n",
    "                                                  mean=train_mean_, std=train_std_, \n",
    "                                                  max_lead_time=max_lead_time)"
   ]
  },
  {
   "cell_type": "markdown",
   "metadata": {},
   "source": [
    "### THIS NEEDS TO BE MODIFIED ACCORDING TO THE CHOSEN ARCHITECTURE! "
   ]
  },
  {
   "cell_type": "code",
   "execution_count": 12,
   "metadata": {},
   "outputs": [],
   "source": [
    "#UNetSphericalHealpixResidualLongConnections"
   ]
  },
  {
   "cell_type": "code",
   "execution_count": 13,
   "metadata": {},
   "outputs": [],
   "source": [
    "#UNetSphericalHealpixResidualShort3LevelsOnlyEncoder"
   ]
  },
  {
   "cell_type": "code",
   "execution_count": 14,
   "metadata": {},
   "outputs": [
    {
     "name": "stdout",
     "output_type": "stream",
     "text": [
      "Processing lead time 20 out of 20Z500 - 0: 84.03993143265939\n",
      "T850 - 0: 0.7830345083097875\n"
     ]
    },
    {
     "data": {
      "image/png": "[encoded data removed]",
      "text/plain": [
       "<Figure size 1080x288 with 2 Axes>"
      ]
     },
     "metadata": {
      "needs_background": "light"
     },
     "output_type": "display_data"
    }
   ],
   "source": [
    "for ep in range(11, 12):\n",
    "    model_name = model_path + model_name_epochs + '_epoch_{}.h5'.format(ep)\n",
    "    #architecture_name = \"debug_loading_model\n",
    "    description = model_name_epochs + '_epoch_{}'.format(ep)\n",
    "\n",
    "    pred_save_path = result_path + \"predictions/\" + model_name_epochs + '/'\n",
    "    \n",
    "    if not os.path.isdir(pred_save_path):\n",
    "        os.mkdir(pred_save_path)\n",
    "\n",
    "    model_filename = model_save_path + description + \".h5\"\n",
    "    pred_filename = pred_save_path +  description + \".nc\"\n",
    "    rmse_filename = result_path + 'metrics/rmse_' + description + '.nc'\n",
    "    \n",
    "    \n",
    "    \n",
    "\n",
    "    metrics_path = '/nfs_home/wefeng/results/healpix/metrics/'\n",
    "    figures_path = '/nfs_home/wefeng/results/healpix/figures/' + description + '/'\n",
    "    \n",
    "    if not os.path.isdir(figures_path):\n",
    "        os.mkdir(figures_path)\n",
    "\n",
    "    # load model\n",
    "    \n",
    "    spherical_unet_new2 = UNetSphericalHealpixResidualLongConnections(N=nodes, in_channels=in_features*len_sqce, out_channels=out_features, kernel_size=3)\n",
    "    state_to_load = torch.load(model_name)\n",
    "    \n",
    "    own_state = spherical_unet_new2.state_dict()\n",
    "    for name, param in state_to_load.items():\n",
    "        if name not in own_state:\n",
    "            if '.'.join(name.split('.')[1:]) not in own_state:\n",
    "            #own_state[name] = param\n",
    "                print(name)\n",
    "            else:\n",
    "                n = name\n",
    "                name = '.'.join(n.split('.')[1:])\n",
    "                \n",
    "            #continue\n",
    "        if isinstance(param, Parameter):\n",
    "            # backwards compatibility for serialized parameters\n",
    "            param = param.data\n",
    "        own_state[name].copy_(param)\n",
    "        \n",
    "    spherical_unet_new2, device = init_device(spherical_unet_new2, gpu=gpu)\n",
    "    \n",
    "    # compute predictions\n",
    "    predictions2, lead_times, times, nodes, out_lat, out_lon = \\\n",
    "    create_iterative_predictions_healpix_temp(spherical_unet_new2, \\\n",
    "                                              device, testing_ds, constants_tensor.transpose(1,0))\n",
    "    # save predictions\n",
    "    das = [];\n",
    "    lev_idx = 0\n",
    "    for var in ['z', 't']:       \n",
    "        das.append(xr.DataArray(\n",
    "            predictions2[:, :, :, lev_idx],\n",
    "            dims=['lead_time', 'time', 'node'],\n",
    "            coords={'lead_time': lead_times, 'time': times[:predictions2.shape[1]], 'node': np.arange(nodes)},\n",
    "            name=var\n",
    "        ))\n",
    "        lev_idx += 1\n",
    "\n",
    "    prediction_ds_new2 = xr.merge(das)\n",
    "    prediction_ds_new2 = prediction_ds_new2.assign_coords({'lat': out_lat, 'lon': out_lon})\n",
    "    \n",
    "    prediction_ds_new2.to_netcdf(pred_filename)\n",
    "    \n",
    "    # load observations\n",
    "    obs = xr.open_mfdataset(prediction_path + 'observations_nearest.nc', combine='by_coords')\n",
    "    obs = obs.isel(time=slice(6,prediction_ds_new2.time.shape[0]+6))\n",
    "    \n",
    "    # compute RMSE\n",
    "    rmse = compute_rmse(prediction_ds_new2, obs)\n",
    "    rmse.to_netcdf(rmse_filename)\n",
    "    \n",
    "    # plot RMSE\n",
    "    print('Z500 - 0:', rmse.z.values[0])\n",
    "    print('T850 - 0:', rmse.t.values[0])\n",
    "\n",
    "    plot_rmses(rmse, rmses_weyn.rename({'z500':'z', 't850':'t'}).isel(lead_time=list(range(20))), lead_time=6)\n",
    "\n",
    "    #del spherical_unet\n",
    "    #del prediction_ds, rmse\n",
    "    torch.cuda.empty_cache()"
   ]
  },
  {
   "cell_type": "markdown",
   "metadata": {},
   "source": [
    "#### Generate plots for evaluation"
   ]
  },
  {
   "cell_type": "code",
   "execution_count": null,
   "metadata": {},
   "outputs": [],
   "source": [
    "resolution = 5.625\n",
    "lead_time = 6\n",
    "start_time = len_sqce * lead_time - 6\n",
    "end_time = (6-lead_time) if (6-lead_time) > 0 else None\n",
    "\n",
    "# Data\n",
    "lead_times = np.arange(lead_time, max_lead_time+lead_time, lead_time)\n",
    "\n",
    "#obs = xr.open_mfdataset(prediction_path + 'observations_nearest.nc', combine='by_coords')\n",
    "#pred = xr.open_mfdataset(prediction_path  + description + '.nc', combine='by_coords')\n",
    "#obs = obs.isel(time=slice(6,pred.time.shape[0]+6))"
   ]
  },
  {
   "cell_type": "markdown",
   "metadata": {},
   "source": [
    "Compute errors"
   ]
  },
  {
   "cell_type": "code",
   "execution_count": null,
   "metadata": {},
   "outputs": [],
   "source": [
    "#obsc = xr.open_mfdataset(prediction_path + 'observations_nearest.nc', combine='by_coords', chunks={'time':chunk_size})\n",
    "#predc = xr.open_mfdataset(prediction_path  + description + '.nc', combine='by_coords', chunks={'time':chunk_size})\n",
    "#obsc = obsc.isel(time=slice(6,pred.time.shape[0]+6))"
   ]
  },
  {
   "cell_type": "code",
   "execution_count": null,
   "metadata": {},
   "outputs": [],
   "source": [
    "t = time.time()\n",
    "corr_map, rbias_map, rsd_map, rmse_map, obs_rmse, rmse_map_norm = compute_errors(prediction_ds_new2, obs)\n",
    "print(time.time() - t)"
   ]
  },
  {
   "cell_type": "code",
   "execution_count": null,
   "metadata": {},
   "outputs": [],
   "source": [
    "metrics_path + 'rmse_' + description + '.nc'"
   ]
  },
  {
   "cell_type": "code",
   "execution_count": null,
   "metadata": {},
   "outputs": [],
   "source": [
    "rmse_spherical = xr.load_dataset(metrics_path + 'rmse_' + description + '.nc')\n",
    "rbias_spherical = rbias_map.mean('node').compute()\n",
    "rsd_spherical = rsd_map.mean('node').compute()\n",
    "corr_spherical = corr_map.mean('node').compute()"
   ]
  },
  {
   "cell_type": "code",
   "execution_count": null,
   "metadata": {},
   "outputs": [],
   "source": [
    "rbias_spherical.to_netcdf(metrics_path + 'rbias_' + description + '.nc')\n",
    "rsd_spherical.to_netcdf(metrics_path + 'rsd_' + description + '.nc')\n",
    "corr_spherical.to_netcdf(metrics_path + 'corr_' + description + '.nc')"
   ]
  },
  {
   "cell_type": "code",
   "execution_count": null,
   "metadata": {},
   "outputs": [],
   "source": [
    "plot_benchmark_simple(rmse_spherical, description, lead_times, \n",
    "               input_dir=metrics_path, output_dir=figures_path, title=False)"
   ]
  },
  {
   "cell_type": "code",
   "execution_count": null,
   "metadata": {},
   "outputs": [],
   "source": [
    "plot_general_skills(rmse_map_norm, corr_map, rbias_map, rsd_map, description, lead_times, \n",
    "                    output_dir=figures_path, title=False)\n",
    "\n",
    "plot_skillmaps(rmse_map_norm, rsd_map, rbias_map, corr_map, description, lead_times, resolution, \n",
    "               output_dir=figures_path)"
   ]
  },
  {
   "cell_type": "markdown",
   "metadata": {},
   "source": [
    "Climatology Hovmoller"
   ]
  },
  {
   "cell_type": "code",
   "execution_count": null,
   "metadata": {},
   "outputs": [],
   "source": [
    "monthly_mean = prediction_ds_new2.groupby('time.month').mean().compute()\n",
    "monthly_mean_obs = obs.groupby('time.month').mean().compute()"
   ]
  },
  {
   "cell_type": "code",
   "execution_count": null,
   "metadata": {},
   "outputs": [],
   "source": [
    "lead_idx = 19\n",
    "\n",
    "# Computations\n",
    "monthly_mean.isel(lead_time=lead_idx)\n",
    "monthly_mean_eq = []\n",
    "for month in range(12):\n",
    "    monthly_mean_eq.append(hp_to_equiangular(monthly_mean.isel(lead_time=lead_idx, month=month), \n",
    "                                     resolution))\n",
    "monthly_mean_eq = xr.concat(monthly_mean_eq, pd.Index(np.arange(1, 13, 1), name='month'))\n",
    "monthly_lat_eq = monthly_mean_eq.mean('lon')\n",
    "\n",
    "monthly_mean_obs.isel(lead_time=lead_idx)\n",
    "monthly_mean_eq_obs = []\n",
    "for month in range(12):\n",
    "    monthly_mean_eq_obs.append(hp_to_equiangular(monthly_mean_obs.isel(lead_time=lead_idx, month=month), \n",
    "                                     resolution))\n",
    "monthly_mean_eq_obs = xr.concat(monthly_mean_eq_obs, pd.Index(np.arange(1, 13, 1), name='month'))\n",
    "monthly_lat_eq_obs = monthly_mean_eq_obs.mean('lon')\n",
    "\n",
    "pred_z = np.rot90(monthly_lat_eq.z.values, 3)\n",
    "pred_t = np.rot90(monthly_lat_eq.t.values, 3)\n",
    "obs_z = np.rot90(monthly_lat_eq_obs.z.values, 3)\n",
    "obs_t = np.rot90(monthly_lat_eq_obs.t.values, 3)\n",
    "\n",
    "diff_z = pred_z / obs_z\n",
    "diff_t = pred_t / obs_t\n",
    "\n",
    "# Labels and limits\n",
    "ticks = np.linspace(0, 31, 7).astype(int)\n",
    "lat_labels = np.linspace(-90, 90, 7).astype(int)\n",
    "month_labels = ['Jan', 'Feb', 'Mar', 'Apr', 'May', 'Jun', 'Jul', 'Aug', 'Sep', 'Oct', 'Nov', 'Dec']\n",
    "\n",
    "vmin_z = min(np.min(monthly_lat_eq.z).values.flatten()[0], np.min(monthly_lat_eq_obs.z).values.flatten()[0])\n",
    "vmax_z = max(np.max(monthly_lat_eq.z).values.flatten()[0], np.max(monthly_lat_eq_obs.z).values.flatten()[0])\n",
    "vmin_t = min(np.min(monthly_lat_eq.t).values.flatten()[0], np.min(monthly_lat_eq_obs.t).values.flatten()[0])\n",
    "vmax_t = max(np.max(monthly_lat_eq.t).values.flatten()[0], np.max(monthly_lat_eq_obs.t).values.flatten()[0])\n",
    "\n",
    "delta = min((np.min(diff_z)-1), (1-np.max(diff_z)), (np.min(diff_t)-1), (1-np.max(diff_t)))\n",
    "\n",
    "vmin_sd = 1 - delta\n",
    "vmax_sd = 1 + delta"
   ]
  },
  {
   "cell_type": "code",
   "execution_count": null,
   "metadata": {},
   "outputs": [],
   "source": [
    "predictions_vals = {'pred_z': pred_z, 'pred_t': pred_t,'obs_z': obs_z,'obs_t': obs_t}\n",
    "val_limits = {'vmin_z':vmin_z, 'vmax_z':vmax_z, 'vmin_t':vmin_t, \\\n",
    "              'vmax_t':vmax_t, 'vmin_sd':vmin_sd, 'vmax_sd':vmax_sd}"
   ]
  },
  {
   "cell_type": "code",
   "execution_count": null,
   "metadata": {},
   "outputs": [],
   "source": [
    " \n",
    "figname = figures_path + description + '_hovmoller'\n",
    "plot_climatology(figname, predictions_vals, val_limits, ticks, lat_labels, month_labels)"
   ]
  },
  {
   "cell_type": "code",
   "execution_count": null,
   "metadata": {},
   "outputs": [],
   "source": [
    "# import json"
   ]
  },
  {
   "cell_type": "code",
   "execution_count": null,
   "metadata": {},
   "outputs": [],
   "source": [
    "# with open(\"../modules/confMail.json\") as json_data_file:\n",
    "#     mailConf = json.load(json_data_file)\n",
    "\n",
    "# mail = {\n",
    "#     \"sender\": mailConf[\"sender\"],\n",
    "#     \"receiver\": mailConf[\"sender\"],\n",
    "#     \"subject\": \"Results generated!\",\n",
    "#     \"body\": \"Results from model {}.\\n Losses: \\nZ500: t0 \\t{}\\t t120 \\t{}\\nt850: t0 \\t{}\\t t120 \\t{} \"\\\n",
    "#     .format(description, rmse_spherical.z[0].values, rmse_spherical.z[-1].values, rmse_spherical.t[0].values, rmse_spherical.t[-1].values),\n",
    "#     \"fileAttaching\": \"Yes\",\n",
    "#     \"file\": [figures_path + description + '_benchmark.png', \\\n",
    "#              figures_path + description + '_general_skills.png', \\\n",
    "#              figures_path + description + '_0_maps.png', figures_path + description + '_19_maps.png',]\n",
    "\n",
    "\n",
    "# }\n",
    "# send_info_mail(mailInfo=mail, configFile=mailConf)"
   ]
  }
 ],
 "metadata": {
  "kernelspec": {
   "display_name": "Python [conda env:weather]",
   "language": "python",
   "name": "conda-env-weather-py"
  },
  "language_info": {
   "codemirror_mode": {
    "name": "ipython",
    "version": 3
   },
   "file_extension": ".py",
   "mimetype": "text/x-python",
   "name": "python",
   "nbconvert_exporter": "python",
   "pygments_lexer": "ipython3",
   "version": "3.7.7"
  }
 },
 "nbformat": 4,
 "nbformat_minor": 4
}
