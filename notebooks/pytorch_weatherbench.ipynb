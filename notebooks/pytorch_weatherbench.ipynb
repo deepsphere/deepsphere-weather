{
 "cells": [
  {
   "cell_type": "markdown",
   "metadata": {},
   "source": [
    "# Pytorch WeatherBench\n",
    "Based on: https://github.com/pangeo-data/WeatherBench/blob/master/src/train_nn.py\n"
   ]
  },
  {
   "cell_type": "code",
   "execution_count": 1,
   "metadata": {},
   "outputs": [],
   "source": [
    "import sys\n",
    "sys.path.append('/'.join(sys.path[0].split('/')[:-1]))\n",
    "\n",
    "import os\n",
    "import xarray as xr\n",
    "import numpy as np\n",
    "import time\n",
    "import matplotlib.pyplot as plt\n",
    "\n",
    "import torch\n",
    "from torch import nn, optim\n",
    "from torch.utils.data import Dataset, DataLoader\n",
    "\n",
    "from modules.data import WeatherBenchDataset2d, \n",
    "from modules.utils import load_test_data\n",
    "from modules.models import CNN2dPeriodic\n",
    "from modules.test import create_predictions_2D, compute_weighted_rmse"
   ]
  },
  {
   "cell_type": "code",
   "execution_count": 2,
   "metadata": {},
   "outputs": [],
   "source": [
    "def train_model(model, device, train_generator, epochs, lr, validation_data, patience):\n",
    "    \n",
    "    criterion = nn.MSELoss()\n",
    "    optimizer = optim.Adam(model.parameters(), lr=lr, eps=1e-7, weight_decay=0, amsgrad=False)\n",
    "    \n",
    "    min_val_loss = 1e15\n",
    "    wait = 0\n",
    "    stopped_epoch = 0\n",
    "    stop_training = False\n",
    "    \n",
    "    train_losses = []\n",
    "    val_losses = []\n",
    "    \n",
    "    for epoch in range(epochs):\n",
    "        \n",
    "        time1 = time.time()\n",
    "        \n",
    "        val_loss = 0\n",
    "        train_loss = 0\n",
    "        \n",
    "        model.train()\n",
    "        for batch_idx, (batch, labels) in enumerate(train_generator):\n",
    "            # Transfer to GPU\n",
    "            batch, labels = batch.to(device), labels.to(device)\n",
    "            \n",
    "            batch_size = batch.shape[0]\n",
    "            \n",
    "            # Model\n",
    "            output = model(batch)\n",
    "\n",
    "            loss = criterion(output, labels)\n",
    "            optimizer.zero_grad()\n",
    "            loss.backward()\n",
    "            optimizer.step()\n",
    "            \n",
    "            train_loss = train_loss + loss.item() * batch_size\n",
    "            \n",
    "        train_loss = train_loss / (len(train_generator.dataset))\n",
    "        train_losses.append(train_loss)\n",
    "        \n",
    "        model.eval()\n",
    "        with torch.set_grad_enabled(False):\n",
    "            for batch, labels in validation_data:\n",
    "                # Transfer to GPU\n",
    "                batch, labels = batch.to(device), labels.to(device)\n",
    "                \n",
    "                batch_size = batch.shape[0]\n",
    "                \n",
    "                output = model(batch)\n",
    "\n",
    "                val_loss = val_loss + criterion(output, labels).item() * batch_size\n",
    "                \n",
    "        val_loss = val_loss / (len(validation_data.dataset))\n",
    "        val_losses.append(val_loss)\n",
    "        \n",
    "        time2 = time.time()\n",
    "        \n",
    "        # Print stuff\n",
    "        print('Epoch: {e:3d}/{n_e:3d}  - loss: {l:.3f}  - val_loss: {v_l:.5f}  - time: {t:2f}'\n",
    "              .format(e=epoch+1, n_e=epochs, l=train_loss, v_l=val_loss, t=time2-time1))\n",
    "                \n",
    "            \n",
    "        if (val_loss - min_val_loss) < 0:\n",
    "            min_val_loss = val_loss\n",
    "            wait = 0\n",
    "        else:\n",
    "            if wait >= patience:\n",
    "                stopped_epoch = epoch + 1\n",
    "                stop_training = True\n",
    "            wait += 1\n",
    "        \n",
    "        if stop_training:\n",
    "            print('Epoch {e:3d}: early stopping'.format(e=stopped_epoch))\n",
    "            return train_losses, val_losses\n",
    "        \n",
    "    return train_losses, val_losses"
   ]
  },
  {
   "cell_type": "code",
   "execution_count": 3,
   "metadata": {},
   "outputs": [],
   "source": [
    "datadir = \"../../data/5.625deg/\"\n",
    "\n",
    "lr=1e-4\n",
    "activation='elu'\n",
    "dr=0\n",
    "batch_size=128\n",
    "patience=3\n",
    "train_years=('1979', '2015')\n",
    "valid_years=('2016', '2016')\n",
    "test_years=('2017', '2018')\n",
    "gpu=1\n",
    "iterative=False\n",
    "\n",
    "vars = ['z', 't']\n",
    "kernel_size = 5"
   ]
  },
  {
   "cell_type": "markdown",
   "metadata": {},
   "source": [
    "## 3 day prediction"
   ]
  },
  {
   "cell_type": "code",
   "execution_count": 3,
   "metadata": {},
   "outputs": [],
   "source": [
    "training_weatherbench = np.load('../data/weatherbench_training.npy')\n",
    "train_loss_w = training_weatherbench[0]\n",
    "val_loss_w = training_weatherbench[1]\n",
    "            \n",
    "model_save_fn = \"../../data/predictions/models/torch_fccnn_3d.h5\"\n",
    "pred_save_fn = \"../../data/predictions/torch_fccnn_3d.nc\"\n",
    "lead_time = 72\n",
    "\n",
    "# Test data\n",
    "valid = load_test_data(f'{datadir}', lead_time)"
   ]
  },
  {
   "cell_type": "code",
   "execution_count": 9,
   "metadata": {},
   "outputs": [
    {
     "name": "stdout",
     "output_type": "stream",
     "text": [
      "Epoch:   1/100  - loss: 0.526  - val_loss: 0.48468  - time: 403.805924\n",
      "Epoch:   2/100  - loss: 0.467  - val_loss: 0.46328  - time: 403.036867\n",
      "Epoch:   3/100  - loss: 0.449  - val_loss: 0.45100  - time: 402.411922\n",
      "Epoch:   4/100  - loss: 0.438  - val_loss: 0.44114  - time: 404.610128\n",
      "Epoch:   5/100  - loss: 0.430  - val_loss: 0.43471  - time: 401.112558\n",
      "Epoch:   6/100  - loss: 0.424  - val_loss: 0.42845  - time: 401.928475\n",
      "Epoch:   7/100  - loss: 0.419  - val_loss: 0.42315  - time: 400.491364\n",
      "Epoch:   8/100  - loss: 0.415  - val_loss: 0.42805  - time: 401.058571\n",
      "Epoch:   9/100  - loss: 0.411  - val_loss: 0.42053  - time: 402.697752\n",
      "Epoch:  10/100  - loss: 0.408  - val_loss: 0.41654  - time: 402.282116\n",
      "Epoch:  11/100  - loss: 0.404  - val_loss: 0.41413  - time: 402.649056\n",
      "Epoch:  12/100  - loss: 0.402  - val_loss: 0.41400  - time: 402.899058\n",
      "Epoch:  13/100  - loss: 0.399  - val_loss: 0.41150  - time: 402.782274\n",
      "Epoch:  14/100  - loss: 0.397  - val_loss: 0.40616  - time: 401.580034\n",
      "Epoch:  15/100  - loss: 0.395  - val_loss: 0.40518  - time: 402.801713\n",
      "Epoch:  16/100  - loss: 0.392  - val_loss: 0.40283  - time: 401.624303\n",
      "Epoch:  17/100  - loss: 0.390  - val_loss: 0.40263  - time: 401.678046\n",
      "Epoch:  18/100  - loss: 0.389  - val_loss: 0.40681  - time: 402.439947\n",
      "Epoch:  19/100  - loss: 0.387  - val_loss: 0.40134  - time: 402.524990\n",
      "Epoch:  20/100  - loss: 0.385  - val_loss: 0.40426  - time: 402.459093\n",
      "Epoch:  21/100  - loss: 0.384  - val_loss: 0.39684  - time: 401.712101\n",
      "Epoch:  22/100  - loss: 0.383  - val_loss: 0.39598  - time: 401.300255\n",
      "Epoch:  23/100  - loss: 0.381  - val_loss: 0.39820  - time: 402.330731\n",
      "Epoch:  24/100  - loss: 0.380  - val_loss: 0.39366  - time: 403.771880\n",
      "Epoch:  25/100  - loss: 0.379  - val_loss: 0.39786  - time: 401.808127\n",
      "Epoch:  26/100  - loss: 0.378  - val_loss: 0.39595  - time: 401.981682\n",
      "Epoch:  27/100  - loss: 0.377  - val_loss: 0.39359  - time: 402.874279\n",
      "Epoch:  28/100  - loss: 0.375  - val_loss: 0.39196  - time: 401.384691\n",
      "Epoch:  29/100  - loss: 0.374  - val_loss: 0.39142  - time: 401.621754\n",
      "Epoch:  30/100  - loss: 0.373  - val_loss: 0.38969  - time: 403.740241\n",
      "Epoch:  31/100  - loss: 0.372  - val_loss: 0.38867  - time: 402.531404\n",
      "Epoch:  32/100  - loss: 0.372  - val_loss: 0.38674  - time: 402.088334\n",
      "Epoch:  33/100  - loss: 0.371  - val_loss: 0.39107  - time: 403.656718\n",
      "Epoch:  34/100  - loss: 0.370  - val_loss: 0.38616  - time: 402.209927\n",
      "Epoch:  35/100  - loss: 0.369  - val_loss: 0.38872  - time: 402.236102\n",
      "Epoch:  36/100  - loss: 0.368  - val_loss: 0.38700  - time: 403.577116\n",
      "Epoch:  37/100  - loss: 0.368  - val_loss: 0.38448  - time: 403.703208\n",
      "Epoch:  38/100  - loss: 0.367  - val_loss: 0.38316  - time: 400.550998\n",
      "Epoch:  39/100  - loss: 0.366  - val_loss: 0.38329  - time: 401.440301\n",
      "Epoch:  40/100  - loss: 0.365  - val_loss: 0.38693  - time: 400.872774\n",
      "Epoch:  41/100  - loss: 0.365  - val_loss: 0.38515  - time: 402.417245\n",
      "Epoch:  42/100  - loss: 0.364  - val_loss: 0.38256  - time: 402.294374\n",
      "Epoch:  43/100  - loss: 0.363  - val_loss: 0.38653  - time: 402.617080\n",
      "Epoch:  44/100  - loss: 0.363  - val_loss: 0.38448  - time: 400.841985\n",
      "Epoch:  45/100  - loss: 0.362  - val_loss: 0.38433  - time: 401.528296\n",
      "Epoch:  46/100  - loss: 0.362  - val_loss: 0.38226  - time: 400.736528\n",
      "Epoch:  47/100  - loss: 0.361  - val_loss: 0.38352  - time: 401.285169\n",
      "Epoch:  48/100  - loss: 0.360  - val_loss: 0.38279  - time: 401.816396\n",
      "Epoch:  49/100  - loss: 0.360  - val_loss: 0.38131  - time: 396.940976\n",
      "Epoch:  50/100  - loss: 0.359  - val_loss: 0.38389  - time: 407.607286\n",
      "Epoch:  51/100  - loss: 0.359  - val_loss: 0.38280  - time: 402.931397\n",
      "Epoch:  52/100  - loss: 0.358  - val_loss: 0.38169  - time: 400.268593\n",
      "Epoch:  53/100  - loss: 0.358  - val_loss: 0.38388  - time: 402.132483\n",
      "Epoch  53: early stopping\n",
      "Saving model weights: /mnt/scratch/students/illorens/data/predictions/models/torch_fccnn_3d.h5\n"
     ]
    }
   ],
   "source": [
    "# 1. Open dataset and create data generators\n",
    "z = xr.open_mfdataset(f'{datadir}geopotential_500/*.nc', combine='by_coords')\n",
    "t = xr.open_mfdataset(f'{datadir}temperature_850/*.nc', combine='by_coords')\n",
    "ds = xr.merge([z, t], compat='override')  # Override level. discarded later anyway.\n",
    "\n",
    "ds_train = ds.sel(time=slice(*train_years))\n",
    "ds_valid = ds.sel(time=slice(*valid_years))\n",
    "ds_test = ds.sel(time=slice(*test_years))\n",
    "\n",
    "dic = {var: None for var in vars}\n",
    "\n",
    "dataset_train = WeatherBenchDataset2d(ds_train, dic, lead_time)\n",
    "dataset_valid = WeatherBenchDataset2d(ds_valid, dic, lead_time, mean=dataset_train.mean, std=dataset_train.std)\n",
    "dataset_test = WeatherBenchDataset2d(ds_test, dic, lead_time, mean=dataset_train.mean, std=dataset_train.std)\n",
    "\n",
    "dg_train_torch = DataLoader(dataset_train, batch_size=batch_size, shuffle=True, num_workers=1)\n",
    "dg_valid_torch = DataLoader(dataset_valid, batch_size=batch_size, shuffle=False, num_workers=1)\n",
    "dg_test_torch = DataLoader(dataset_test, batch_size=batch_size, shuffle=False, num_workers=1)\n",
    "\n",
    "# Build model and put on GPU\n",
    "model_torch = CNN2dPeriodic(in_channels=2, out_channels=2, kernel_size=5)\n",
    "device = torch.device(\"cuda:{}\".format(0))\n",
    "model_torch = model_torch.to(device)\n",
    "\n",
    "# Train model\n",
    "train_loss, val_loss = train_model(model_torch, device, dg_train_torch, epochs=100, lr=lr, \n",
    "                                   validation_data=dg_valid_torch, patience=patience)\n",
    "\n",
    "print(f'Saving model weights: {model_save_fn}')\n",
    "torch.save(model_torch.state_dict(), model_save_fn)"
   ]
  },
  {
   "cell_type": "code",
   "execution_count": 11,
   "metadata": {},
   "outputs": [
    {
     "data": {
      "image/png": "[encoded data removed]",
      "text/plain": [
       "<Figure size 1080x360 with 2 Axes>"
      ]
     },
     "metadata": {
      "needs_background": "light"
     },
     "output_type": "display_data"
    }
   ],
   "source": [
    "f, axs = plt.subplots(1, 2, figsize=(15,5), sharey=True)\n",
    "\n",
    "axs[0].plot(train_loss, label='Training loss')\n",
    "axs[0].plot(val_loss, label='Validation loss')\n",
    "axs[0].set_xlabel('Epochs')\n",
    "axs[0].set_ylabel('MSE Loss')\n",
    "axs[0].legend()\n",
    "axs[0].set_title(\"Pytorch WeatherBench training and validation losses\")\n",
    "\n",
    "\n",
    "axs[1].plot(train_loss_w, label='Training loss')\n",
    "axs[1].plot(val_loss_w, label='Validation loss')\n",
    "axs[1].set_xlabel('Epochs')\n",
    "axs[1].legend()\n",
    "axs[1].set_title(\"Tensorflow WeatherBench training and validation losses\")\n",
    "plt.show()"
   ]
  },
  {
   "cell_type": "code",
   "execution_count": 12,
   "metadata": {},
   "outputs": [
    {
     "name": "stdout",
     "output_type": "stream",
     "text": [
      "<xarray.Dataset>\n",
      "Dimensions:  ()\n",
      "Coordinates:\n",
      "    level    int32 500\n",
      "Data variables:\n",
      "    z_rmse   float64 623.8\n",
      "    t_rmse   float64 2.863\n"
     ]
    }
   ],
   "source": [
    "# Create predictions\n",
    "pred_torch = create_predictions_2D(model_torch, dg_test_torch, mean=dataset_train.mean, std=dataset_train.std)\n",
    "\n",
    "# Print score in real units\n",
    "print(compute_weighted_rmse(pred_torch, valid).load())"
   ]
  }
 ],
 "metadata": {
  "kernelspec": {
   "display_name": "Python 3",
   "language": "python",
   "name": "python3"
  },
  "language_info": {
   "codemirror_mode": {
    "name": "ipython",
    "version": 3
   },
   "file_extension": ".py",
   "mimetype": "text/x-python",
   "name": "python",
   "nbconvert_exporter": "python",
   "pygments_lexer": "ipython3",
   "version": "3.7.6"
  }
 },
 "nbformat": 4,
 "nbformat_minor": 4
}
