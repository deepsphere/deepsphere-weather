{
 "cells": [
  {
   "cell_type": "markdown",
   "metadata": {},
   "source": [
    "## Generate data "
   ]
  },
  {
   "cell_type": "code",
   "execution_count": 1,
   "metadata": {},
   "outputs": [],
   "source": [
    "import sys\n",
    "sys.path.append('/'.join(sys.path[0].split('/')[:-1]))\n",
    "\n",
    "import os\n",
    "import xarray as xr\n",
    "import numpy as np\n",
    "import time\n",
    "import matplotlib.pyplot as plt\n",
    "\n",
    "import torch\n",
    "from torch import nn, optim\n",
    "from torch.utils.data import Dataset, DataLoader\n",
    "\n",
    "from modules.test import create_iterative_observations_healpix"
   ]
  },
  {
   "cell_type": "code",
   "execution_count": 2,
   "metadata": {},
   "outputs": [],
   "source": [
    "datadir = \"../data/healpix/5.625deg/\"\n",
    "\n",
    "lr=1e-4\n",
    "dr=0\n",
    "batch_size=128\n",
    "patience=3\n",
    "train_years=('1979', '2015')\n",
    "valid_years=('2016', '2016')\n",
    "test_years=('2017', '2018')\n",
    "gpu=1\n",
    "iterative=False\n",
    "\n",
    "vars = ['z', 't']\n",
    "kernel_size = 5"
   ]
  },
  {
   "cell_type": "code",
   "execution_count": 3,
   "metadata": {},
   "outputs": [],
   "source": [
    "z = xr.open_mfdataset(f'{datadir}geopotential_500/*.nc', combine='by_coords')\n",
    "t = xr.open_mfdataset(f'{datadir}temperature_850/*.nc', combine='by_coords')\n",
    "ds = xr.merge([z, t], compat='override')"
   ]
  },
  {
   "cell_type": "code",
   "execution_count": 4,
   "metadata": {},
   "outputs": [],
   "source": [
    "def create_iterative_observations_healpix(ds, lead_time, max_lead_time, nb_timesteps, test_years, nodes):\n",
    "    \n",
    "    lead_times = np.arange(lead_time, max_lead_time + lead_time, lead_time)\n",
    "\n",
    "    data = ds.to_array(dim='level', name='Dataset').transpose('time', 'node', 'level')\n",
    "    n_samples = data.isel(time=slice(0, -nb_timesteps*lead_time)).shape[0] - max_lead_time\n",
    "\n",
    "    obs_list = []\n",
    "    \n",
    "    print('Generating observations list...')\n",
    "    \n",
    "    for lead in lead_times:\n",
    "        obs_list.append(data.isel(time=slice(lead, lead + n_samples)).isel(level=slice(0, 2)).values)\n",
    "\n",
    "    observations_numpy = np.array(obs_list)\n",
    "\n",
    "    print('Obtaining coordinates...')\n",
    "    # Lat lon coordinates\n",
    "    nside = int(np.sqrt(nodes/12))\n",
    "    out_lon, out_lat = hp.pix2ang(nside, np.arange(nodes), lonlat=True)\n",
    "    \n",
    "    print('Generate set of times to study', end='\\n')\n",
    "    # Actual times\n",
    "    start = np.datetime64(test_years[0], 'h') + np.timedelta64(lead_time, 'h')\n",
    "    stop = start + np.timedelta64(n_samples, 'h')\n",
    "    times = np.arange(start, stop)\n",
    "\n",
    "    # Variables\n",
    "    var_dict_out = {var: None for var in ['z', 't']}\n",
    "\n",
    "    das = [];\n",
    "    lev_idx = 0\n",
    "   \n",
    "    i = 0\n",
    "    for var, levels in var_dict_out.items():\n",
    "        if levels is None:            \n",
    "            das.append(xr.DataArray(\n",
    "                observations_numpy[:, :, :, lev_idx],\n",
    "                dims=['lead_time', 'time', 'node'],\n",
    "                coords={'lead_time': lead_times, 'time': times, 'node': np.arange(nodes)},\n",
    "                name=var\n",
    "            ))\n",
    "            lev_idx += 1\n",
    "\n",
    "        else:\n",
    "            nlevs = len(levels)\n",
    "            das.append(xr.DataArray(\n",
    "                observations_numpy[:, :, :, lev_idx:lev_idx+nlevs],\n",
    "                dims=['lead_time', 'time', 'node', 'level'],\n",
    "                coords={'lead_time': lead_times, 'time': valid_time, 'node': nodes, 'level': nlevs},\n",
    "                name=var\n",
    "            ))\n",
    "            lev_idx += nlevs\n",
    "        print('\\r{}'.format(i), end='')\n",
    "        i += 1\n",
    "    \n",
    "    print('\\nGenerate observation...')\n",
    "    observation_ds = xr.merge(das)\n",
    "    observation_ds = observation_ds.assign_coords({'lat': out_lat, 'lon': out_lon})\n",
    "    return observation_ds\n"
   ]
  },
  {
   "cell_type": "code",
   "execution_count": 5,
   "metadata": {},
   "outputs": [],
   "source": [
    "nodes = 12*16*16\n",
    "max_lead_time = 5*24\n",
    "lead_time = 6\n",
    "out_features = 2\n",
    "nb_timesteps = 2\n"
   ]
  },
  {
   "cell_type": "code",
   "execution_count": 6,
   "metadata": {},
   "outputs": [
    {
     "name": "stdout",
     "output_type": "stream",
     "text": [
      "Generating observations list...\n"
     ]
    },
    {
     "ename": "MemoryError",
     "evalue": "Unable to allocate 160. GiB for an array with shape (20, 350508, 3072, 2) and data type float32",
     "output_type": "error",
     "traceback": [
      "\u001b[0;31m---------------------------------------------------------------------------\u001b[0m",
      "\u001b[0;31mMemoryError\u001b[0m                               Traceback (most recent call last)",
      "\u001b[0;32m<ipython-input-6-e91fad991d0c>\u001b[0m in \u001b[0;36m<module>\u001b[0;34m\u001b[0m\n\u001b[0;32m----> 1\u001b[0;31m \u001b[0mobs\u001b[0m \u001b[0;34m=\u001b[0m \u001b[0mcreate_iterative_observations_healpix\u001b[0m\u001b[0;34m(\u001b[0m\u001b[0mds\u001b[0m\u001b[0;34m,\u001b[0m \u001b[0mlead_time\u001b[0m\u001b[0;34m,\u001b[0m \u001b[0mmax_lead_time\u001b[0m\u001b[0;34m,\u001b[0m \u001b[0mnb_timesteps\u001b[0m\u001b[0;34m,\u001b[0m \u001b[0mtest_years\u001b[0m\u001b[0;34m,\u001b[0m \u001b[0mnodes\u001b[0m\u001b[0;34m)\u001b[0m\u001b[0;34m\u001b[0m\u001b[0;34m\u001b[0m\u001b[0m\n\u001b[0m",
      "\u001b[0;32m<ipython-input-4-a62956694719>\u001b[0m in \u001b[0;36mcreate_iterative_observations_healpix\u001b[0;34m(ds, lead_time, max_lead_time, nb_timesteps, test_years, nodes)\u001b[0m\n\u001b[1;32m     13\u001b[0m         \u001b[0mobs_list\u001b[0m\u001b[0;34m.\u001b[0m\u001b[0mappend\u001b[0m\u001b[0;34m(\u001b[0m\u001b[0mdata\u001b[0m\u001b[0;34m.\u001b[0m\u001b[0misel\u001b[0m\u001b[0;34m(\u001b[0m\u001b[0mtime\u001b[0m\u001b[0;34m=\u001b[0m\u001b[0mslice\u001b[0m\u001b[0;34m(\u001b[0m\u001b[0mlead\u001b[0m\u001b[0;34m,\u001b[0m \u001b[0mlead\u001b[0m \u001b[0;34m+\u001b[0m \u001b[0mn_samples\u001b[0m\u001b[0;34m)\u001b[0m\u001b[0;34m)\u001b[0m\u001b[0;34m.\u001b[0m\u001b[0misel\u001b[0m\u001b[0;34m(\u001b[0m\u001b[0mlevel\u001b[0m\u001b[0;34m=\u001b[0m\u001b[0mslice\u001b[0m\u001b[0;34m(\u001b[0m\u001b[0;36m0\u001b[0m\u001b[0;34m,\u001b[0m \u001b[0;36m2\u001b[0m\u001b[0;34m)\u001b[0m\u001b[0;34m)\u001b[0m\u001b[0;34m.\u001b[0m\u001b[0mvalues\u001b[0m\u001b[0;34m)\u001b[0m\u001b[0;34m\u001b[0m\u001b[0;34m\u001b[0m\u001b[0m\n\u001b[1;32m     14\u001b[0m \u001b[0;34m\u001b[0m\u001b[0m\n\u001b[0;32m---> 15\u001b[0;31m     \u001b[0mobservations_numpy\u001b[0m \u001b[0;34m=\u001b[0m \u001b[0mnp\u001b[0m\u001b[0;34m.\u001b[0m\u001b[0marray\u001b[0m\u001b[0;34m(\u001b[0m\u001b[0mobs_list\u001b[0m\u001b[0;34m)\u001b[0m\u001b[0;34m\u001b[0m\u001b[0;34m\u001b[0m\u001b[0m\n\u001b[0m\u001b[1;32m     16\u001b[0m \u001b[0;34m\u001b[0m\u001b[0m\n\u001b[1;32m     17\u001b[0m     \u001b[0mprint\u001b[0m\u001b[0;34m(\u001b[0m\u001b[0;34m'Obtaining coordinates...'\u001b[0m\u001b[0;34m)\u001b[0m\u001b[0;34m\u001b[0m\u001b[0;34m\u001b[0m\u001b[0m\n",
      "\u001b[0;31mMemoryError\u001b[0m: Unable to allocate 160. GiB for an array with shape (20, 350508, 3072, 2) and data type float32"
     ]
    }
   ],
   "source": [
    "obs = create_iterative_observations_healpix(ds, lead_time, max_lead_time, nb_timesteps, test_years, nodes)"
   ]
  },
  {
   "cell_type": "code",
   "execution_count": null,
   "metadata": {},
   "outputs": [],
   "source": []
  }
 ],
 "metadata": {
  "kernelspec": {
   "display_name": "Python 3",
   "language": "python",
   "name": "python3"
  },
  "language_info": {
   "codemirror_mode": {
    "name": "ipython",
    "version": 3
   },
   "file_extension": ".py",
   "mimetype": "text/x-python",
   "name": "python",
   "nbconvert_exporter": "python",
   "pygments_lexer": "ipython3",
   "version": "3.7.7"
  }
 },
 "nbformat": 4,
 "nbformat_minor": 4
}
