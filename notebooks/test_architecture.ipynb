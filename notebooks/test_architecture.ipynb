{
 "cells": [
  {
   "cell_type": "markdown",
   "metadata": {},
   "source": [
    "# Test constants"
   ]
  },
  {
   "cell_type": "code",
   "execution_count": 1,
   "metadata": {},
   "outputs": [],
   "source": [
    "import sys\n",
    "sys.path.append('/'.join(sys.path[0].split('/')[:-1]))\n",
    "\n",
    "import xarray as xr\n",
    "import matplotlib.pyplot as plt\n",
    "import numpy as np\n",
    "import time\n",
    "import os\n",
    "import healpy as hp\n",
    "\n",
    "import torch\n",
    "from torch import nn, optim\n",
    "from torch.utils.data import Dataset, DataLoader\n",
    "\n",
    "from modules.utils import train_model_2steps, init_device\n",
    "from modules.data import WeatherBenchDatasetXarrayHealpix, WeatherBenchDatasetIterative\n",
    "from modules.healpix_models import UNetSphericalHealpix\n",
    "from modules.test import create_iterative_predictions_healpix, compute_rmse_healpix\n",
    "from modules.plotting import plot_rmses\n",
    "\n",
    "datadir = \"../data/healpix/\"\n",
    "input_dir = datadir + \"5.625deg/\"\n",
    "model_save_path = datadir + \"models/\"\n",
    "pred_save_path = datadir + \"predictions/\"\n",
    "\n",
    "train_years = ('1979', '2012')\n",
    "val_years = ('2013', '2016')\n",
    "test_years = ('2017', '2018')\n",
    "\n",
    "nodes = 12*16*16\n",
    "max_lead_time = 5*24\n",
    "lead_time = 6\n",
    "out_features = 2\n",
    "\n",
    "os.environ[\"CUDA_DEVICE_ORDER\"]=\"PCI_BUS_ID\"\n",
    "os.environ[\"CUDA_VISIBLE_DEVICES\"]=\"1,2\"\n",
    "gpu = [0, 1]\n",
    "num_workers = 10\n",
    "pin_memory = True\n",
    "batch_size = 100"
   ]
  },
  {
   "cell_type": "code",
   "execution_count": 2,
   "metadata": {},
   "outputs": [],
   "source": [
    "z500 = xr.open_mfdataset(f'{input_dir}geopotential/*.nc', combine='by_coords').sel(level=500).rename({'z':'z500'})\n",
    "t850 = xr.open_mfdataset(f'{input_dir}temperature_850/*.nc', combine='by_coords').rename({'t':'t850'})\n",
    "rad = xr.open_mfdataset(f'{input_dir}toa_incident_solar_radiation/*.nc', combine='by_coords')\n",
    "\n",
    "z500 = z500.isel(time=slice(7, None))\n",
    "t850 = t850.isel(time=slice(7, None))\n",
    "\n",
    "constants = xr.open_dataset(f'{input_dir}constants/constants_5.625deg.nc').rename({'orography' :'orog'})\n",
    "temp = xr.DataArray(np.zeros(z500.dims['time']), coords=[('time', z500.time.values)])\n",
    "constants, _ = xr.broadcast(constants, temp)\n",
    "\n",
    "orog = constants['orog']\n",
    "lsm = constants['lsm']\n",
    "lats = constants['lat2d']\n",
    "slt = constants['slt']\n",
    "\n",
    "predictors_mean = xr.open_dataarray(datadir + 'predictors_mean.nc')\n",
    "predictos_std = xr.open_dataarray(datadir + 'predictors_std.nc')\n",
    "const_mean = xr.open_dataarray(input_dir + 'constants/const_mean.nc')\n",
    "const_std = xr.open_dataarray(input_dir + 'constants/const_std.nc')\n",
    "\n",
    "train_mean = xr.concat((predictors_mean, const_mean), dim='level')\n",
    "train_std = xr.concat((predictors_mean, const_std), dim='level')"
   ]
  },
  {
   "cell_type": "code",
   "execution_count": 3,
   "metadata": {},
   "outputs": [],
   "source": [
    "def run_simulation(ds, description, train_mean, train_std, in_features, out_features, gpu, epochs, lr, \n",
    "                 train_years, val_years, test_years):\n",
    "\n",
    "    model_filename = model_save_path + \"spherical_unet_\" + description + \".h5\"\n",
    "    pred_filename = pred_save_path + \"spherical_unet_\" + description + \".nc\"\n",
    "    nb_timesteps = 2\n",
    "\n",
    "    # Train and validation data\n",
    "    ds_train = ds.sel(time=slice(*train_years))\n",
    "    ds_valid = ds.sel(time=slice(*val_years))\n",
    "    training_ds = WeatherBenchDatasetXarrayHealpix(ds=ds_train, out_features=out_features, lead_time=lead_time, \n",
    "                                                     years=train_years, nodes=nodes, nb_timesteps=nb_timesteps, \n",
    "                                                     mean=train_mean, std=train_std)\n",
    "    validation_ds = WeatherBenchDatasetXarrayHealpix(ds=ds_valid, out_features=out_features, lead_time=lead_time,\n",
    "                                                       years=val_years, nodes=nodes, nb_timesteps=nb_timesteps, \n",
    "                                                       mean=train_mean, std=train_std)\n",
    "\n",
    "    dl_train = DataLoader(training_ds, batch_size=batch_size, shuffle=True, num_workers=num_workers, \n",
    "                          pin_memory=pin_memory)\n",
    "    dl_val = DataLoader(validation_ds, batch_size=batch_size*2, shuffle=False, num_workers=num_workers, \n",
    "                        pin_memory=pin_memory)\n",
    "\n",
    "\n",
    "    # Model\n",
    "    spherical_unet = UNetSphericalHealpix(N=nodes, in_channels=in_features, out_channels=out_features, \n",
    "                                               kernel_size=3)\n",
    "    spherical_unet, device = init_device(spherical_unet, gpu=gpu)\n",
    "\n",
    "    # Train model\n",
    "    train_loss, val_loss = train_model_2steps(spherical_unet, device, dl_train, epochs=epochs, lr=lr, \n",
    "                                              validation_data=dl_val)\n",
    "    torch.save(spherical_unet.state_dict(), model_filename)\n",
    "\n",
    "    # Show training losses\n",
    "    plt.plot(train_loss, label='Training loss')\n",
    "    plt.plot(val_loss, label='Validation loss')\n",
    "    plt.xlabel('Epochs')\n",
    "    plt.ylabel('MSE Loss')\n",
    "    plt.legend()\n",
    "    plt.show()\n",
    "\n",
    "    del dl_train, dl_val, training_ds, validation_ds\n",
    "    torch.cuda.empty_cache()\n",
    "\n",
    "    # Testing data\n",
    "    ds_test = ds.sel(time=slice(*test_years))\n",
    "    testing_ds = WeatherBenchDatasetXarrayHealpix(ds=ds_test, out_features=out_features, lead_time=lead_time,\n",
    "                                                    years=test_years, nodes=nodes, nb_timesteps=nb_timesteps, \n",
    "                                                    mean=train_mean, std=train_std, max_lead_time=max_lead_time)\n",
    "\n",
    "    dataloader_test = DataLoader(testing_ds, batch_size=70, shuffle=False, num_workers=num_workers)\n",
    "\n",
    "    # Compute predictions\n",
    "    preds = create_iterative_predictions_healpix(spherical_unet, device, dataloader_test)\n",
    "    preds.to_netcdf(pred_filename)\n",
    "    \n",
    "    \n",
    "    del testing_ds, dataloader_test, spherical_unet, rmse, preds, \n",
    "    torch.cuda.empty_cache()"
   ]
  },
  {
   "cell_type": "markdown",
   "metadata": {},
   "source": [
    "## 1. No constants"
   ]
  },
  {
   "cell_type": "code",
   "execution_count": null,
   "metadata": {},
   "outputs": [
    {
     "name": "stdout",
     "output_type": "stream",
     "text": [
      "Loading data into RAM\n",
      "Loading data into RAM\n"
     ]
    }
   ],
   "source": [
    "description = \"no_const\"\n",
    "\n",
    "nb_timesteps=2\n",
    "\n",
    "# z500, t850, orog, lats, lsm, slt, rad\n",
    "feature_idx = [0, 1]\n",
    "ds = xr.merge([z500, t850], compat='override')\n",
    "\n",
    "description = \"no_const\"\n",
    "\n",
    "model_filename = model_save_path + \"spherical_unet_\" + description + \".h5\"\n",
    "pred_filename = pred_save_path + \"spherical_unet_\" + description + \".nc\"\n",
    "\n",
    "\n",
    "ds_train = ds.sel(time=slice(*train_years))\n",
    "ds_valid = ds.sel(time=slice(*val_years))\n",
    "ds_test = ds.sel(time=slice(*test_years))\n",
    "\n",
    "train_mean_ = train_mean[feature_idx]\n",
    "train_std_ = train_std[feature_idx]\n",
    "\n",
    "\n",
    "# Train and validation data\n",
    "training_ds = WeatherBenchDatasetXarrayHealpix(ds=ds_train, out_features=out_features, lead_time=lead_time, \n",
    "                                                 years=train_years, nodes=nodes, nb_timesteps=nb_timesteps, \n",
    "                                                 mean=train_mean_, std=train_std_)\n",
    "validation_ds = WeatherBenchDatasetXarrayHealpix(ds=ds_valid, out_features=out_features, lead_time=lead_time,\n",
    "                                                   years=val_years, nodes=nodes, nb_timesteps=nb_timesteps, \n",
    "                                                   mean=train_mean_, std=train_std_)"
   ]
  },
  {
   "cell_type": "code",
   "execution_count": null,
   "metadata": {},
   "outputs": [],
   "source": [
    "train_mean"
   ]
  },
  {
   "cell_type": "code",
   "execution_count": null,
   "metadata": {},
   "outputs": [],
   "source": [
    "train_mean_"
   ]
  },
  {
   "cell_type": "code",
   "execution_count": 4,
   "metadata": {},
   "outputs": [
    {
     "name": "stdout",
     "output_type": "stream",
     "text": [
      "Loading data into RAM\n",
      "Loading data into RAM\n",
      "Epoch:   1/ 10  - loss: 2.234  - val_loss: 69.23688  - time: 1668.309295\n"
     ]
    },
    {
     "ename": "KeyboardInterrupt",
     "evalue": "",
     "output_type": "error",
     "traceback": [
      "\u001b[0;31m---------------------------------------------------------------------------\u001b[0m",
      "\u001b[0;31mKeyboardInterrupt\u001b[0m                         Traceback (most recent call last)",
      "\u001b[0;32m<ipython-input-4-0bc4f9e2270b>\u001b[0m in \u001b[0;36m<module>\u001b[0;34m\u001b[0m\n\u001b[1;32m      7\u001b[0m run_simulation(ds, description, train_mean[feature_idx], train_std[feature_idx], in_features=len(feature_idx),\n\u001b[1;32m      8\u001b[0m                \u001b[0mout_features\u001b[0m\u001b[0;34m=\u001b[0m\u001b[0mout_features\u001b[0m\u001b[0;34m,\u001b[0m \u001b[0mgpu\u001b[0m\u001b[0;34m=\u001b[0m\u001b[0mgpu\u001b[0m\u001b[0;34m,\u001b[0m \u001b[0mepochs\u001b[0m\u001b[0;34m=\u001b[0m\u001b[0;36m10\u001b[0m\u001b[0;34m,\u001b[0m \u001b[0mlr\u001b[0m\u001b[0;34m=\u001b[0m\u001b[0;36m3e-8\u001b[0m\u001b[0;34m,\u001b[0m \u001b[0mtrain_years\u001b[0m\u001b[0;34m=\u001b[0m\u001b[0mtrain_years\u001b[0m\u001b[0;34m,\u001b[0m\u001b[0;34m\u001b[0m\u001b[0;34m\u001b[0m\u001b[0m\n\u001b[0;32m----> 9\u001b[0;31m                val_years=val_years, test_years=test_years)\n\u001b[0m\u001b[1;32m     10\u001b[0m \u001b[0;34m\u001b[0m\u001b[0m\n\u001b[1;32m     11\u001b[0m \u001b[0;32mdel\u001b[0m \u001b[0mds\u001b[0m\u001b[0;34m\u001b[0m\u001b[0;34m\u001b[0m\u001b[0m\n",
      "\u001b[0;32m<ipython-input-3-23e0dc15880a>\u001b[0m in \u001b[0;36mrun_simulation\u001b[0;34m(ds, description, train_mean, train_std, in_features, out_features, gpu, epochs, lr, train_years, val_years, test_years)\u001b[0m\n\u001b[1;32m     29\u001b[0m     \u001b[0;31m# Train model\u001b[0m\u001b[0;34m\u001b[0m\u001b[0;34m\u001b[0m\u001b[0;34m\u001b[0m\u001b[0m\n\u001b[1;32m     30\u001b[0m     train_loss, val_loss = train_model_2steps(spherical_unet, device, dl_train, epochs=epochs, lr=lr, \n\u001b[0;32m---> 31\u001b[0;31m                                               validation_data=dl_val)\n\u001b[0m\u001b[1;32m     32\u001b[0m     \u001b[0mtorch\u001b[0m\u001b[0;34m.\u001b[0m\u001b[0msave\u001b[0m\u001b[0;34m(\u001b[0m\u001b[0mspherical_unet\u001b[0m\u001b[0;34m.\u001b[0m\u001b[0mstate_dict\u001b[0m\u001b[0;34m(\u001b[0m\u001b[0;34m)\u001b[0m\u001b[0;34m,\u001b[0m \u001b[0mmodel_filename\u001b[0m\u001b[0;34m)\u001b[0m\u001b[0;34m\u001b[0m\u001b[0;34m\u001b[0m\u001b[0m\n\u001b[1;32m     33\u001b[0m \u001b[0;34m\u001b[0m\u001b[0m\n",
      "\u001b[0;32m/mnt/scratch/students/illorens/weather_prediction/modules/utils.py\u001b[0m in \u001b[0;36mtrain_model_2steps\u001b[0;34m(model, device, train_generator, epochs, lr, validation_data)\u001b[0m\n\u001b[1;32m     75\u001b[0m                 \u001b[0moutput2\u001b[0m \u001b[0;34m=\u001b[0m \u001b[0mmodel\u001b[0m\u001b[0;34m(\u001b[0m\u001b[0mbatch2\u001b[0m\u001b[0;34m)\u001b[0m\u001b[0;34m\u001b[0m\u001b[0;34m\u001b[0m\u001b[0m\n\u001b[1;32m     76\u001b[0m \u001b[0;34m\u001b[0m\u001b[0m\n\u001b[0;32m---> 77\u001b[0;31m                 val_loss = val_loss + (criterion(output1, label1).item() \n\u001b[0m\u001b[1;32m     78\u001b[0m                                        + criterion(output2, label2).item()) * batch_size\n\u001b[1;32m     79\u001b[0m                 \u001b[0mindex\u001b[0m \u001b[0;34m=\u001b[0m \u001b[0mindex\u001b[0m \u001b[0;34m+\u001b[0m \u001b[0mbatch_size\u001b[0m\u001b[0;34m\u001b[0m\u001b[0;34m\u001b[0m\u001b[0m\n",
      "\u001b[0;31mKeyboardInterrupt\u001b[0m: "
     ]
    }
   ],
   "source": [
    "description = \"no_const\"\n",
    "\n",
    "# z500, t850, orog, lats, lsm, slt, rad\n",
    "feature_idx = [0, 1]\n",
    "ds = xr.merge([z500, t850], compat='override')\n",
    "\n",
    "ds_train = ds.sel(time=slice(*train_years))\n",
    "ds_valid = ds.sel(time=slice(*val_years))\n",
    "ds_test = ds.sel(time=slice(*test_years))\n",
    "\n",
    "description = \"no_const\"\n",
    "\n",
    "model_filename = model_save_path + \"spherical_unet_\" + description + \".h5\"\n",
    "pred_filename = pred_save_path + \"spherical_unet_\" + description + \".nc\"\n",
    "\n",
    "\n",
    "\n",
    "# Train and validation data\n",
    "training_ds = WeatherBenchDatasetXarrayHealpix(ds=ds_train, out_features=out_features, lead_time=lead_time, \n",
    "                                                 years=train_years, nodes=nodes, nb_timesteps=nb_timesteps, \n",
    "                                                 mean=train_mean, std=train_std)\n",
    "validation_ds = WeatherBenchDatasetXarrayHealpix(ds=ds_valid, out_features=out_features, lead_time=lead_time,\n",
    "                                                   years=val_years, nodes=nodes, nb_timesteps=nb_timesteps, \n",
    "                                                   mean=train_mean, std=train_std)\n",
    "\n",
    "dl_train = DataLoader(training_ds, batch_size=batch_size, shuffle=True, num_workers=num_workers, \n",
    "                      pin_memory=pin_memory)\n",
    "dl_val = DataLoader(validation_ds, batch_size=batch_size*2, shuffle=False, num_workers=num_workers, \n",
    "                    pin_memory=pin_memory)\n",
    "\n",
    "\n",
    "# Model\n",
    "spherical_unet = UNetSphericalHealpix(N=nodes, in_channels=in_features, out_channels=out_features, \n",
    "                                      kernel_size=3)\n",
    "spherical_unet, device = init_device(spherical_unet, gpu=[0, 1])\n",
    "\n",
    "# Train model\n",
    "train_loss, val_loss = train_model_2steps(spherical_unet, device, dl_train, epochs=10, lr=8e-3, \n",
    "                                          validation_data=dl_val)\n",
    "torch.save(spherical_unet.state_dict(), model_filename)\n",
    "\n",
    "# Show training losses\n",
    "plt.plot(train_loss, label='Training loss')\n",
    "plt.plot(val_loss, label='Validation loss')\n",
    "plt.xlabel('Epochs')\n",
    "plt.ylabel('MSE Loss')\n",
    "plt.legend()\n",
    "plt.show()\n",
    "\n",
    "del dl_train, dl_val, training_ds, validation_ds\n",
    "torch.cuda.empty_cache()\n",
    "\n",
    "# Testing data\n",
    "testing_ds = WeatherBenchDatasetXarrayHealpix(ds=ds_test, out_features=out_features, lead_time=lead_time,\n",
    "                                                years=test_years, nodes=nodes, nb_timesteps=nb_timesteps, \n",
    "                                                mean=train_mean, std=train_std, max_lead_time=max_lead_time)\n",
    "\n",
    "dataloader_test = DataLoader(testing_ds, batch_size=70, shuffle=False, num_workers=num_workers)\n",
    "\n",
    "# Compute predictions\n",
    "preds = create_iterative_predictions_healpix(spherical_unet, device, dataloader_test)\n",
    "\n",
    "# Compute and save RMSE\n",
    "rmse = compute_rmse_iterative_healpix(preds, obs).load()\n",
    "rmse.to_netcdf(rmse_filename)\n",
    "\n",
    "# Show RMSE\n",
    "print('Z500 - 0:', rmse.z.values[0])\n",
    "print('T850 - 0:', rmse.t.values[0])\n",
    "plot_rmses(rmse, rmses_weyn, lead_time)\n",
    "\n",
    "del testing_ds, dataloader_test, spherical_unet, rmse, preds\n",
    "torch.cuda.empty_cache()\n",
    "\n",
    "del ds\n",
    "torch.cuda.empty_cache()"
   ]
  },
  {
   "cell_type": "markdown",
   "metadata": {},
   "source": [
    "## 2. All constants"
   ]
  },
  {
   "cell_type": "code",
   "execution_count": null,
   "metadata": {},
   "outputs": [],
   "source": [
    "description = \"all_const\"\n",
    "\n",
    "# z500, t850, orog, lats, lsm, slt, rad\n",
    "feature_idx = [0, 1, 2, 3, 4, 5, 6]\n",
    "ds = xr.merge([z500, t850, orog, lats, lsm, slt, rad], compat='override')\n",
    "\n",
    "\n",
    "run_simulation(ds, description, train_mean[feature_idx], train_std[feature_idx], in_features=len(feature_idx),\n",
    "               out_features=out_features, gpu=gpu, epochs=10, lr=3e-8, train_years=train_years, \n",
    "               val_years=val_years, test_years=test_years)\n",
    "\n",
    "del ds\n",
    "torch.cuda.empty_cache()"
   ]
  },
  {
   "cell_type": "markdown",
   "metadata": {},
   "source": [
    "# No orog"
   ]
  },
  {
   "cell_type": "code",
   "execution_count": null,
   "metadata": {},
   "outputs": [],
   "source": [
    "description = \"all_const_no_orog\"\n",
    "\n",
    "# z500, t850, orog, lats, lsm, slt, rad\n",
    "feature_idx = [0, 1, 3, 4, 5, 6]\n",
    "ds = xr.merge([z500, t850, lats, lsm, slt, rad], compat='override')\n",
    "\n",
    "run_simulation(ds, description, train_mean[feature_idx], train_std[feature_idx], in_features=len(feature_idx),\n",
    "               out_features=out_features, gpu=gpu, epochs=10, lr=3e-8, train_years=train_years, \n",
    "               val_years=val_years, test_years=test_years)\n",
    "\n",
    "del ds\n",
    "torch.cuda.empty_cache()"
   ]
  },
  {
   "cell_type": "markdown",
   "metadata": {},
   "source": [
    "# No lats"
   ]
  },
  {
   "cell_type": "code",
   "execution_count": null,
   "metadata": {},
   "outputs": [],
   "source": [
    "description = \"all_const_no_lats\"\n",
    "\n",
    "# z500, t850, orog, lats, lsm, slt, rad\n",
    "feature_idx = [0, 1, 2, 4, 5, 6]\n",
    "ds = xr.merge([z500, t850, orog, lsm, slt, rad], compat='override')\n",
    "\n",
    "run_simulation(ds, description, train_mean[feature_idx], train_std[feature_idx], in_features=len(feature_idx),\n",
    "               out_features=out_features, gpu=gpu, epochs=10, lr=3e-8, train_years=train_years, \n",
    "               val_years=val_years, test_years=test_years)\n",
    "\n",
    "del ds\n",
    "torch.cuda.empty_cache()"
   ]
  },
  {
   "cell_type": "markdown",
   "metadata": {},
   "source": [
    "# No lsm"
   ]
  },
  {
   "cell_type": "code",
   "execution_count": null,
   "metadata": {},
   "outputs": [],
   "source": [
    "description = \"all_const_no_lsm\"\n",
    "\n",
    "# z500, t850, orog, lats, lsm, slt, rad\n",
    "feature_idx = [0, 1, 2, 3, 5, 6]\n",
    "ds = xr.merge([z500, t850, orog, lats, slt, rad], compat='override')\n",
    "\n",
    "run_simulation(ds, description, train_mean[feature_idx], train_std[feature_idx], in_features=len(feature_idx),\n",
    "               out_features=out_features, gpu=gpu, epochs=10, lr=3e-8, train_years=train_years, \n",
    "               val_years=val_years, test_years=test_years)\n",
    "\n",
    "del ds\n",
    "torch.cuda.empty_cache()"
   ]
  },
  {
   "cell_type": "markdown",
   "metadata": {},
   "source": [
    "# No slt"
   ]
  },
  {
   "cell_type": "code",
   "execution_count": null,
   "metadata": {},
   "outputs": [],
   "source": [
    "description = \"all_const_no_slt\"\n",
    "\n",
    "# z500, t850, orog, lats, lsm, slt, rad\n",
    "feature_idx = [0, 1, 2, 3, 4, 6]\n",
    "ds = xr.merge([z500, t850, orog, lats, lsm, rad], compat='override')\n",
    "\n",
    "run_simulation(ds, description, train_mean[feature_idx], train_std[feature_idx], in_features=len(feature_idx),\n",
    "               out_features=out_features, gpu=gpu, epochs=10, lr=3e-8, train_years=train_years, \n",
    "               val_years=val_years, test_years=test_years)\n",
    "\n",
    "del ds\n",
    "torch.cuda.empty_cache()"
   ]
  },
  {
   "cell_type": "markdown",
   "metadata": {},
   "source": [
    "# No rad"
   ]
  },
  {
   "cell_type": "code",
   "execution_count": null,
   "metadata": {},
   "outputs": [],
   "source": [
    "description = \"all_const_no_rad\"\n",
    "\n",
    "# z500, t850, orog, lats, lsm, slt, rad\n",
    "feature_idx = [0, 1, 2, 3, 4, 5]\n",
    "ds = xr.merge([z500, t850, orog, lats, lsm, slt], compat='override')\n",
    "\n",
    "run_simulation(ds, description, train_mean[feature_idx], train_std[feature_idx], in_features=len(feature_idx),\n",
    "               out_features=out_features, gpu=gpu, epochs=10, lr=3e-8, train_years=train_years, \n",
    "               val_years=val_years, test_years=test_years)\n",
    "\n",
    "del ds\n",
    "torch.cuda.empty_cache()"
   ]
  },
  {
   "cell_type": "markdown",
   "metadata": {},
   "source": [
    "# Old"
   ]
  },
  {
   "cell_type": "code",
   "execution_count": 5,
   "metadata": {},
   "outputs": [
    {
     "name": "stdout",
     "output_type": "stream",
     "text": [
      "Epoch:   1/ 10  - loss: 0.027  - val_loss: 0.01309  - time: 1832.600410\n",
      "Epoch:   2/ 10  - loss: 0.011  - val_loss: 0.01043  - time: 1813.063261\n",
      "Epoch:   3/ 10  - loss: 0.008  - val_loss: 0.01033  - time: 1819.975486\n",
      "Epoch:   4/ 10  - loss: 0.007  - val_loss: 0.00946  - time: 1822.454565\n",
      "Epoch:   5/ 10  - loss: 0.007  - val_loss: 0.00861  - time: 1820.942428\n",
      "Epoch:   6/ 10  - loss: 0.006  - val_loss: 0.00774  - time: 1822.087070\n",
      "Epoch:   7/ 10  - loss: 0.006  - val_loss: 0.00628  - time: 1811.484113\n",
      "Epoch:   8/ 10  - loss: 0.006  - val_loss: 0.00724  - time: 1825.306965\n",
      "Epoch:   9/ 10  - loss: 0.006  - val_loss: 0.00633  - time: 1822.797037\n",
      "Epoch:  10/ 10  - loss: 0.006  - val_loss: 0.00677  - time: 1825.544749\n"
     ]
    },
    {
     "data": {
      "image/png": "[encoded data removed]",
      "text/plain": [
       "<Figure size 432x288 with 1 Axes>"
      ]
     },
     "metadata": {
      "needs_background": "light"
     },
     "output_type": "display_data"
    },
    {
     "name": "stdout",
     "output_type": "stream",
     "text": [
      "Loading data into RAM\n",
      "Z500 - 0: 76.78985213740339\n",
      "T850 - 0: 0.753390946149819\n"
     ]
    },
    {
     "data": {
      "image/png": "[encoded data removed]",
      "text/plain": [
       "<Figure size 1080x288 with 2 Axes>"
      ]
     },
     "metadata": {
      "needs_background": "light"
     },
     "output_type": "display_data"
    }
   ],
   "source": [
    "description = \"no_const\"\n",
    "\n",
    "model_filename = model_save_path + \"spherical_unet_\" + description + \".h5\"\n",
    "pred_filename = pred_save_path + \"spherical_unet_\" + description + \".nc\"\n",
    "\n",
    "# Train and validation data\n",
    "training_ds = WeatherBenchDatasetXarrayHealpix(ds=ds_train, out_features=out_features, lead_time=lead_time, \n",
    "                                                 years=train_years, nodes=nodes, nb_timesteps=nb_timesteps, \n",
    "                                                 mean=train_mean, std=train_std)\n",
    "validation_ds = WeatherBenchDatasetXarrayHealpix(ds=ds_valid, out_features=out_features, lead_time=lead_time,\n",
    "                                                   years=val_years, nodes=nodes, nb_timesteps=nb_timesteps, \n",
    "                                                   mean=train_mean, std=train_std)\n",
    "\n",
    "dl_train = DataLoader(training_ds, batch_size=batch_size, shuffle=True, num_workers=num_workers, \n",
    "                      pin_memory=pin_memory)\n",
    "dl_val = DataLoader(validation_ds, batch_size=batch_size*2, shuffle=False, num_workers=num_workers, \n",
    "                    pin_memory=pin_memory)\n",
    "\n",
    "\n",
    "# Model\n",
    "spherical_unet = UNetSphericalHealpix1_Avg(N=nodes, in_channels=in_features, out_channels=out_features, \n",
    "                                           kernel_size=3)\n",
    "spherical_unet, device = init_device(spherical_unet, gpu=[0, 1])\n",
    "\n",
    "# Train model\n",
    "train_loss, val_loss = train_model_2steps(spherical_unet, device, dl_train, epochs=10, lr=8e-3, \n",
    "                                          validation_data=dl_val)\n",
    "torch.save(spherical_unet.state_dict(), model_filename)\n",
    "\n",
    "# Show training losses\n",
    "plt.plot(train_loss, label='Training loss')\n",
    "plt.plot(val_loss, label='Validation loss')\n",
    "plt.xlabel('Epochs')\n",
    "plt.ylabel('MSE Loss')\n",
    "plt.legend()\n",
    "plt.show()\n",
    "\n",
    "del dl_train, dl_val, training_ds, validation_ds\n",
    "torch.cuda.empty_cache()\n",
    "\n",
    "# Testing data\n",
    "testing_ds = WeatherBenchDatasetXarrayHealpix(ds=ds_test, out_features=out_features, lead_time=lead_time,\n",
    "                                                years=test_years, nodes=nodes, nb_timesteps=nb_timesteps, \n",
    "                                                mean=train_mean, std=train_std, max_lead_time=max_lead_time)\n",
    "\n",
    "dataloader_test = DataLoader(testing_ds, batch_size=70, shuffle=False, num_workers=num_workers)\n",
    "\n",
    "# Compute predictions\n",
    "preds = create_iterative_predictions_healpix(spherical_unet, device, dataloader_test)\n",
    "\n",
    "# Compute and save RMSE\n",
    "rmse = compute_rmse_iterative_healpix(preds, obs).load()\n",
    "rmse.to_netcdf(rmse_filename)\n",
    "\n",
    "# Show RMSE\n",
    "print('Z500 - 0:', rmse.z.values[0])\n",
    "print('T850 - 0:', rmse.t.values[0])\n",
    "plot_rmses(rmse, rmses_weyn, lead_time)\n",
    "\n",
    "del testing_ds, dataloader_test, spherical_unet, rmse, preds\n",
    "torch.cuda.empty_cache()"
   ]
  },
  {
   "cell_type": "code",
   "execution_count": null,
   "metadata": {},
   "outputs": [],
   "source": []
  }
 ],
 "metadata": {
  "kernelspec": {
   "display_name": "Python 3",
   "language": "python",
   "name": "python3"
  },
  "language_info": {
   "codemirror_mode": {
    "name": "ipython",
    "version": 3
   },
   "file_extension": ".py",
   "mimetype": "text/x-python",
   "name": "python",
   "nbconvert_exporter": "python",
   "pygments_lexer": "ipython3",
   "version": "3.7.6"
  }
 },
 "nbformat": 4,
 "nbformat_minor": 4
}
